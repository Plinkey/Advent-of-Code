{
  "nbformat": 4,
  "nbformat_minor": 0,
  "metadata": {
    "colab": {
      "provenance": [],
      "authorship_tag": "ABX9TyPAXFYj2za4pqAjzrgaYQw3",
      "include_colab_link": true
    },
    "kernelspec": {
      "name": "python3",
      "display_name": "Python 3"
    },
    "language_info": {
      "name": "python"
    }
  },
  "cells": [
    {
      "cell_type": "markdown",
      "metadata": {
        "id": "view-in-github",
        "colab_type": "text"
      },
      "source": [
        "<a href=\"https://colab.research.google.com/github/Plinkey/AoC2022/blob/main/Day06.ipynb\" target=\"_parent\"><img src=\"https://colab.research.google.com/assets/colab-badge.svg\" alt=\"Open In Colab\"/></a>"
      ]
    },
    {
      "cell_type": "code",
      "execution_count": 71,
      "metadata": {
        "id": "VqVCIVfjqTh3"
      },
      "outputs": [],
      "source": [
        "exampleFlag = False\n",
        "examples = ['mjqjpqmgbljsphdztnvjfqwrcgsmlb','bvwbjplbgvbhsrlpgdmjqwftvncz','nppdvjthqldpwncqszvftbrmjlhg','nznrnfrfntjfmvfwmzdfjlvtqnbhcprsg','zcfzfwzzqfrljwzlrfnpqdbhtmscgvjw']\n",
        "if not exampleFlag:\n",
        "    with open('Day06.input','r') as f:\n",
        "        rawdata = f.read().splitlines()\n",
        "    data = rawdata[0]\n",
        "if exampleFlag:\n",
        "    data = examples[0]"
      ]
    },
    {
      "cell_type": "code",
      "source": [
        "def findPt1(string):\n",
        "    # Returns index of the first character that isn't in the previous four\n",
        "    prev4 = []\n",
        "    for idx, val in enumerate(string):\n",
        "        if idx < 3: #prev4 is empty\n",
        "            prev4.append(val)\n",
        "        else:\n",
        "            prev4.append(val)\n",
        "            if string[idx+1] not in prev4:\n",
        "                if len(set(prev4)) == len(prev4):\n",
        "                   return idx + 1\n",
        "            prev4.pop(0)\n"
      ],
      "metadata": {
        "id": "9Bxk5Vb3rtbe"
      },
      "execution_count": 59,
      "outputs": []
    },
    {
      "cell_type": "code",
      "source": [
        "data"
      ],
      "metadata": {
        "colab": {
          "base_uri": "https://localhost:8080/",
          "height": 35
        },
        "id": "vnKsC4Revx8O",
        "outputId": "73215258-4e64-4bc3-8fbe-c426aef57747"
      },
      "execution_count": 61,
      "outputs": [
        {
          "output_type": "execute_result",
          "data": {
            "text/plain": [
              "'mjqjpqmgbljsphdztnvjfqwrcgsmlb'"
            ],
            "application/vnd.google.colaboratory.intrinsic+json": {
              "type": "string"
            }
          },
          "metadata": {},
          "execution_count": 61
        }
      ]
    },
    {
      "cell_type": "code",
      "source": [
        "print('The answer to part one is: {}'.format(findPt1(data)))"
      ],
      "metadata": {
        "colab": {
          "base_uri": "https://localhost:8080/"
        },
        "id": "b7xsJIX6r6MJ",
        "outputId": "e3934897-a983-4dc2-dc4f-4810abad4bb8"
      },
      "execution_count": 60,
      "outputs": [
        {
          "output_type": "stream",
          "name": "stdout",
          "text": [
            "The answer to part one is: 7\n"
          ]
        }
      ]
    },
    {
      "cell_type": "code",
      "source": [
        "def findPt2(string):\n",
        "    # Returns index of the first character that isn't in the previous four\n",
        "    prev14 = []\n",
        "    for idx, val in enumerate(string):\n",
        "        if idx < 13: #prev14 is empty\n",
        "            prev14.append(val)\n",
        "        else:\n",
        "            prev14.append(val)\n",
        "            if len(set(prev14)) == len(prev14):\n",
        "                   return idx + 1\n",
        "            prev14.pop(0)"
      ],
      "metadata": {
        "id": "O9RXnjvmsHkc"
      },
      "execution_count": 72,
      "outputs": []
    },
    {
      "cell_type": "code",
      "source": [
        "print('The answer to part two is: {}'.format(findPt2(data)))"
      ],
      "metadata": {
        "colab": {
          "base_uri": "https://localhost:8080/"
        },
        "id": "qJ11S77UsH1O",
        "outputId": "234bda9c-5dca-4d39-c1d5-4c7e4be335ae"
      },
      "execution_count": 73,
      "outputs": [
        {
          "output_type": "stream",
          "name": "stdout",
          "text": [
            "The answer to part two is: 3551\n"
          ]
        }
      ]
    },
    {
      "cell_type": "code",
      "source": [],
      "metadata": {
        "id": "CVukbl55w5h2"
      },
      "execution_count": null,
      "outputs": []
    }
  ]
}