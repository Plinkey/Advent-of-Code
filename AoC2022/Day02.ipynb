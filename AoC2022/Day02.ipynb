{
  "nbformat": 4,
  "nbformat_minor": 0,
  "metadata": {
    "colab": {
      "provenance": [],
      "authorship_tag": "ABX9TyN+l+oEWYIH6N6v0vHiFVOs",
      "include_colab_link": true
    },
    "kernelspec": {
      "name": "python3",
      "display_name": "Python 3"
    },
    "language_info": {
      "name": "python"
    }
  },
  "cells": [
    {
      "cell_type": "markdown",
      "metadata": {
        "id": "view-in-github",
        "colab_type": "text"
      },
      "source": [
        "<a href=\"https://colab.research.google.com/github/Plinkey/AoC2022/blob/main/Day02.ipynb\" target=\"_parent\"><img src=\"https://colab.research.google.com/assets/colab-badge.svg\" alt=\"Open In Colab\"/></a>"
      ]
    },
    {
      "cell_type": "code",
      "source": [
        "#with open('Day02.example','r') as f:\n",
        "with open('Day02.input','r') as f:\n",
        "    rawdata = f.read().splitlines()\n",
        "data = []\n",
        "for l in rawdata:\n",
        "    data.append(l.split(' '))"
      ],
      "metadata": {
        "id": "A8I6w7aUVs9K",
        "outputId": "e9dac75c-64e7-4a84-fdcc-27b132a775f2",
        "colab": {
          "base_uri": "https://localhost:8080/",
          "height": 240
        }
      },
      "execution_count": null,
      "outputs": [
        {
          "output_type": "error",
          "ename": "FileNotFoundError",
          "evalue": "ignored",
          "traceback": [
            "\u001b[0;31m---------------------------------------------------------------------------\u001b[0m",
            "\u001b[0;31mFileNotFoundError\u001b[0m                         Traceback (most recent call last)",
            "\u001b[0;32m<ipython-input-1-0d6d8f2441d5>\u001b[0m in \u001b[0;36m<module>\u001b[0;34m\u001b[0m\n\u001b[1;32m      1\u001b[0m \u001b[0;31m#with open('Day02.example','r') as f:\u001b[0m\u001b[0;34m\u001b[0m\u001b[0;34m\u001b[0m\u001b[0;34m\u001b[0m\u001b[0m\n\u001b[0;32m----> 2\u001b[0;31m \u001b[0;32mwith\u001b[0m \u001b[0mopen\u001b[0m\u001b[0;34m(\u001b[0m\u001b[0;34m'Day02.input'\u001b[0m\u001b[0;34m,\u001b[0m\u001b[0;34m'r'\u001b[0m\u001b[0;34m)\u001b[0m \u001b[0;32mas\u001b[0m \u001b[0mf\u001b[0m\u001b[0;34m:\u001b[0m\u001b[0;34m\u001b[0m\u001b[0;34m\u001b[0m\u001b[0m\n\u001b[0m\u001b[1;32m      3\u001b[0m     \u001b[0mrawdata\u001b[0m \u001b[0;34m=\u001b[0m \u001b[0mf\u001b[0m\u001b[0;34m.\u001b[0m\u001b[0mread\u001b[0m\u001b[0;34m(\u001b[0m\u001b[0;34m)\u001b[0m\u001b[0;34m.\u001b[0m\u001b[0msplitlines\u001b[0m\u001b[0;34m(\u001b[0m\u001b[0;34m)\u001b[0m\u001b[0;34m\u001b[0m\u001b[0;34m\u001b[0m\u001b[0m\n\u001b[1;32m      4\u001b[0m \u001b[0mdata\u001b[0m \u001b[0;34m=\u001b[0m \u001b[0;34m[\u001b[0m\u001b[0;34m]\u001b[0m\u001b[0;34m\u001b[0m\u001b[0;34m\u001b[0m\u001b[0m\n\u001b[1;32m      5\u001b[0m \u001b[0;32mfor\u001b[0m \u001b[0ml\u001b[0m \u001b[0;32min\u001b[0m \u001b[0mrawdata\u001b[0m\u001b[0;34m:\u001b[0m\u001b[0;34m\u001b[0m\u001b[0;34m\u001b[0m\u001b[0m\n",
            "\u001b[0;31mFileNotFoundError\u001b[0m: [Errno 2] No such file or directory: 'Day02.input'"
          ]
        }
      ]
    },
    {
      "cell_type": "code",
      "source": [
        "data"
      ],
      "metadata": {
        "id": "f6hu_QE7WDpg"
      },
      "execution_count": null,
      "outputs": []
    },
    {
      "cell_type": "code",
      "source": [
        "[him, me] = data[0]\n",
        "print(him)"
      ],
      "metadata": {
        "id": "dw5DPF5HWE8m"
      },
      "execution_count": null,
      "outputs": []
    },
    {
      "cell_type": "code",
      "source": [],
      "metadata": {
        "id": "2LWSnUPNXVDM"
      },
      "execution_count": null,
      "outputs": []
    },
    {
      "cell_type": "markdown",
      "source": [
        "Functions to score"
      ],
      "metadata": {
        "id": "1YP-6cpSW4Zc"
      }
    },
    {
      "cell_type": "code",
      "source": [
        "def tie(shape):\n",
        "    score = 0\n",
        "    # since tie, add three\n",
        "    score += 3\n",
        "    if shape == 'X':\n",
        "        score += 1\n",
        "    elif shape == 'Y':\n",
        "        score += 2\n",
        "    elif shape == 'Z':\n",
        "        score += 3\n",
        "    return score\n",
        "\n",
        "def win(shape):\n",
        "    score = 0\n",
        "    # since win, add six\n",
        "    score += 6\n",
        "    if shape == 'X':\n",
        "        score += 1\n",
        "    elif shape == 'Y':\n",
        "        score += 2\n",
        "    elif shape == 'Z':\n",
        "        score += 3\n",
        "    return score\n",
        "\n",
        "def lose(shape):\n",
        "    score = 0\n",
        "    # since lose, add zero\n",
        "    score += 0\n",
        "    if shape == 'X':\n",
        "        score += 1\n",
        "    elif shape == 'Y':\n",
        "        score += 2\n",
        "    elif shape == 'Z':\n",
        "        score += 3\n",
        "    return score\n"
      ],
      "metadata": {
        "id": "b5zmdbNcW735"
      },
      "execution_count": null,
      "outputs": []
    },
    {
      "cell_type": "markdown",
      "source": [
        "\n",
        "\n",
        "```\n",
        "shape you selected (1 for Rock, 2 for Paper, and 3 for Scissors)\n",
        "\n",
        "outcome of the round (0 if you lost, 3 if the round was a draw, and 6 if you won)\n",
        "\n",
        "A for Rock, B for Paper, and C for Scissors.\n",
        "\n",
        "X for Rock, Y for Paper, and Z for Scissors.\n",
        "```\n",
        "\n"
      ],
      "metadata": {
        "id": "OKryb1_RWqyn"
      }
    },
    {
      "cell_type": "code",
      "source": [
        "def play(inputstr):\n",
        "    [him, me] = inputstr\n",
        "    # There's a better way for this, I'm sure.\n",
        "    if him == 'A' and me == 'X':\n",
        "        return tie(me)\n",
        "    elif him == 'B' and me == 'Y':\n",
        "        return tie(me)\n",
        "    elif him == 'C' and me == 'Z':\n",
        "        return tie(me)\n",
        "    elif him == 'A' and me == 'Y': # him = Rock, me = Paper\n",
        "        return win(me)\n",
        "    elif him == 'B' and me == 'Z': # him = Paper, me = Scissors\n",
        "        return win(me)\n",
        "    elif him == 'C' and me == 'X': # him = scissors, me = Rock\n",
        "        return win(me)\n",
        "    else: # I Lost\n",
        "        return lose(me)\n"
      ],
      "metadata": {
        "id": "82J-8lsxYjyt"
      },
      "execution_count": null,
      "outputs": []
    },
    {
      "cell_type": "code",
      "source": [
        "play(data[2])"
      ],
      "metadata": {
        "id": "JOjQnNvkYzQu"
      },
      "execution_count": null,
      "outputs": []
    },
    {
      "cell_type": "code",
      "source": [
        "data[2]"
      ],
      "metadata": {
        "id": "nqFjoCs2ZdJI"
      },
      "execution_count": null,
      "outputs": []
    },
    {
      "cell_type": "markdown",
      "source": [
        "# PART ONE: TOTAL SCORE"
      ],
      "metadata": {
        "id": "wqqPXhOmZoHI"
      }
    },
    {
      "cell_type": "code",
      "source": [
        "scores = []\n",
        "for round in data:\n",
        "    scores.append(play(round))"
      ],
      "metadata": {
        "id": "s3zg_EVNZxaH"
      },
      "execution_count": null,
      "outputs": []
    },
    {
      "cell_type": "code",
      "source": [
        "print(\"Your Answer to Part one is: {}\".format(sum(scores)))"
      ],
      "metadata": {
        "id": "2Rc7pl8OZqrW"
      },
      "execution_count": null,
      "outputs": []
    },
    {
      "cell_type": "markdown",
      "source": [
        "# PART TWO"
      ],
      "metadata": {
        "id": "9PHq0AJrbDhG"
      }
    },
    {
      "cell_type": "code",
      "source": [],
      "metadata": {
        "id": "o-Q9woLraBe_"
      },
      "execution_count": null,
      "outputs": []
    },
    {
      "cell_type": "markdown",
      "source": [
        "```\n",
        "the second column says how the round needs to end: \n",
        "\n",
        "X means you need to lose, \n",
        "\n",
        "Y means you need to end the round in a draw, and \n",
        "\n",
        "Z means you need to win. Good luck!\"\n",
        "\n",
        "\n",
        "\n",
        "A for Rock, B for Paper, and C for Scissors.\n",
        "\n",
        "X for Rock, Y for Paper, and Z for Scissors.\n",
        "```"
      ],
      "metadata": {
        "id": "qBMrvAWsbRcJ"
      }
    },
    {
      "cell_type": "code",
      "source": [
        "def play_round2(inputstr):\n",
        "    [him, me] = inputstr\n",
        "    if me == 'X': # I need to lose\n",
        "        if him == 'A': #he's Rock\n",
        "            return lose('Z') # I'm scissors\n",
        "        elif him == 'B':\n",
        "            return lose('X')\n",
        "        else:\n",
        "            return lose('Y')\n",
        "    elif me == 'Y': # I need to tie\n",
        "        if him == 'A': #he's Rock\n",
        "            return tie('X') # I'm scissors\n",
        "        elif him == 'B':\n",
        "            return tie('Y')\n",
        "        else:\n",
        "            return tie('Z')\n",
        "    elif me == 'Z': # I need to win\n",
        "        if him == 'A': #he's Rock\n",
        "            return win('Y') # I'm scissors\n",
        "        elif him == 'B':\n",
        "            return win('Z')\n",
        "        else:\n",
        "            return win('X')"
      ],
      "metadata": {
        "id": "n16GLtjsbTbh"
      },
      "execution_count": null,
      "outputs": []
    },
    {
      "cell_type": "code",
      "source": [
        "play_round2(data[2])"
      ],
      "metadata": {
        "id": "11G2VuCacBrB"
      },
      "execution_count": null,
      "outputs": []
    },
    {
      "cell_type": "code",
      "source": [
        "scores = []\n",
        "for round in data:\n",
        "    scores.append(play_round2(round))\n",
        "print (\"The answer to part two is {}\".format(sum(scores)))"
      ],
      "metadata": {
        "id": "UGEwhPOIchGI"
      },
      "execution_count": null,
      "outputs": []
    },
    {
      "cell_type": "code",
      "source": [],
      "metadata": {
        "id": "zp0Ze_Mlcjon"
      },
      "execution_count": null,
      "outputs": []
    }
  ]
}