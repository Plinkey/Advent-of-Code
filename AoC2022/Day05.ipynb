{
  "nbformat": 4,
  "nbformat_minor": 0,
  "metadata": {
    "colab": {
      "provenance": [],
      "authorship_tag": "ABX9TyOqqfYLgAOXR7dWeaysGVRJ",
      "include_colab_link": true
    },
    "kernelspec": {
      "name": "python3",
      "display_name": "Python 3"
    },
    "language_info": {
      "name": "python"
    }
  },
  "cells": [
    {
      "cell_type": "markdown",
      "metadata": {
        "id": "view-in-github",
        "colab_type": "text"
      },
      "source": [
        "<a href=\"https://colab.research.google.com/github/Plinkey/AoC2022/blob/main/Day05.ipynb\" target=\"_parent\"><img src=\"https://colab.research.google.com/assets/colab-badge.svg\" alt=\"Open In Colab\"/></a>"
      ]
    },
    {
      "cell_type": "code",
      "execution_count": 43,
      "metadata": {
        "id": "Yagp-8lvEnV3"
      },
      "outputs": [],
      "source": [
        "example = False\n",
        "if example:\n",
        "    stacks = [['Z','N'],['M','C','D'],['P']]\n",
        "    instructionsFile = 'Day05.example'\n",
        "else:\n",
        "    stacks = [['C','Z','N','B','M','W','Q','V'],\n",
        "              ['H','Z','R','W','C','B'],\n",
        "              ['F','Q','R','J'],\n",
        "              ['Z','S','W','H','F','N','M','T'],\n",
        "              ['G','F','W','L','N','Q','P'],\n",
        "              ['L','P','W'],\n",
        "              ['V','B','D','R','G','C','Q','J'],\n",
        "              ['Z','Q','N','B','W'],\n",
        "              ['H','L','F','C','G','T','J']]\n",
        "    instructionsFile = 'Day05.input'"
      ]
    },
    {
      "cell_type": "markdown",
      "source": [
        "PARSE INSTRUCTIONS"
      ],
      "metadata": {
        "id": "q-9qDUBFFeyC"
      }
    },
    {
      "cell_type": "code",
      "source": [
        "with open(instructionsFile,'r') as f:\n",
        "    rawdata = f.read().splitlines()\n",
        "instructions = []\n",
        "for line in rawdata:\n",
        "    temp = line.split(' ')\n",
        "    box = int(temp[1])\n",
        "    origin = int(temp[3])\n",
        "    target = int(temp[5])\n",
        "    instructions.append([box, origin, target])"
      ],
      "metadata": {
        "id": "2jJPrRsKFnjE"
      },
      "execution_count": 44,
      "outputs": []
    },
    {
      "cell_type": "markdown",
      "source": [
        "Process Instructions"
      ],
      "metadata": {
        "id": "bnjVy6hVJBXT"
      }
    },
    {
      "cell_type": "code",
      "source": [
        "def moveOneBox(origin, target):\n",
        "    # Python starts at zero\n",
        "    origin = origin - 1\n",
        "    target = target - 1\n",
        "    stacks[target].append(stacks[origin].pop())"
      ],
      "metadata": {
        "id": "vpdsiu4AG1ga"
      },
      "execution_count": 45,
      "outputs": []
    },
    {
      "cell_type": "code",
      "source": [
        "def processLine(ins):\n",
        "    [num, origin, target] = ins\n",
        "    counter = 0\n",
        "    while counter < num:\n",
        "        moveOneBox(origin, target)\n",
        "        counter += 1"
      ],
      "metadata": {
        "id": "eV884ARHHkpZ"
      },
      "execution_count": 46,
      "outputs": []
    },
    {
      "cell_type": "markdown",
      "source": [
        "Run Part One"
      ],
      "metadata": {
        "id": "UJIEPlnAJDsV"
      }
    },
    {
      "cell_type": "code",
      "source": [
        "for line in instructions:\n",
        "    processLine(line)"
      ],
      "metadata": {
        "id": "ZsXg1D51JE02"
      },
      "execution_count": 47,
      "outputs": []
    },
    {
      "cell_type": "code",
      "source": [
        "ans = []\n",
        "for i in stacks:\n",
        "    ans.append(i[-1])\n",
        "print(\"The answer to part one is {}\".format(ans))"
      ],
      "metadata": {
        "colab": {
          "base_uri": "https://localhost:8080/"
        },
        "id": "NJhdYk3SINSY",
        "outputId": "bc020b16-988f-41ed-a050-2faed4cbb6e6"
      },
      "execution_count": 48,
      "outputs": [
        {
          "output_type": "stream",
          "name": "stdout",
          "text": [
            "The answer to part one is ['Q', 'N', 'H', 'W', 'J', 'V', 'J', 'Z', 'W']\n"
          ]
        }
      ]
    },
    {
      "cell_type": "markdown",
      "source": [
        "# PART TWO\n",
        "Reload a bunch of stuff.  It's the lazy way"
      ],
      "metadata": {
        "id": "8G-H8JIPK3yZ"
      }
    },
    {
      "cell_type": "code",
      "source": [
        "example = False\n",
        "if example:\n",
        "    stacks = [['Z','N'],['M','C','D'],['P']]\n",
        "    instructionsFile = 'Day05.example'\n",
        "else:\n",
        "    stacks = [['C','Z','N','B','M','W','Q','V'],\n",
        "              ['H','Z','R','W','C','B'],\n",
        "              ['F','Q','R','J'],\n",
        "              ['Z','S','W','H','F','N','M','T'],\n",
        "              ['G','F','W','L','N','Q','P'],\n",
        "              ['L','P','W'],\n",
        "              ['V','B','D','R','G','C','Q','J'],\n",
        "              ['Z','Q','N','B','W'],\n",
        "              ['H','L','F','C','G','T','J']]\n",
        "    instructionsFile = 'Day05.input'"
      ],
      "metadata": {
        "id": "njWRDpxLLJJa"
      },
      "execution_count": 102,
      "outputs": []
    },
    {
      "cell_type": "code",
      "source": [
        "with open(instructionsFile,'r') as f:\n",
        "    rawdata = f.read().splitlines()\n",
        "instructions = []\n",
        "for line in rawdata:\n",
        "    temp = line.split(' ')\n",
        "    box = int(temp[1])\n",
        "    origin = int(temp[3])\n",
        "    target = int(temp[5])\n",
        "    instructions.append([box, origin, target])"
      ],
      "metadata": {
        "id": "qrPrWD3YPocM"
      },
      "execution_count": 103,
      "outputs": []
    },
    {
      "cell_type": "code",
      "source": [
        "def processLinePt2(ins):\n",
        "    [num, origin, target] = ins\n",
        "    # Python starts at 0\n",
        "    origin = origin - 1\n",
        "    target = target - 1\n",
        "    tmplist = stacks[origin][-num:]\n",
        "    del stacks[origin][-num:]\n",
        "    for i in tmplist:\n",
        "        stacks[target].append(i)"
      ],
      "metadata": {
        "id": "Iom0uuPoK4go"
      },
      "execution_count": 105,
      "outputs": []
    },
    {
      "cell_type": "markdown",
      "source": [
        " Run Part Two"
      ],
      "metadata": {
        "id": "UDGcYWFiPJ5N"
      }
    },
    {
      "cell_type": "code",
      "source": [
        "for line in instructions:\n",
        "    processLinePt2(line)"
      ],
      "metadata": {
        "id": "kXDWJY1sOe2A"
      },
      "execution_count": 106,
      "outputs": []
    },
    {
      "cell_type": "code",
      "source": [
        "ans = []\n",
        "for i in stacks:\n",
        "    ans.append(i[-1])\n",
        "print(\"The answer to part two is {}\".format(ans))"
      ],
      "metadata": {
        "colab": {
          "base_uri": "https://localhost:8080/"
        },
        "id": "migvaZqQPO5s",
        "outputId": "dd78beca-8950-4cf9-f644-486f5456ef76"
      },
      "execution_count": 108,
      "outputs": [
        {
          "output_type": "stream",
          "name": "stdout",
          "text": [
            "The answer to part two is ['B', 'P', 'C', 'Z', 'J', 'L', 'F', 'J', 'W']\n"
          ]
        }
      ]
    },
    {
      "cell_type": "code",
      "source": [
        "stacks"
      ],
      "metadata": {
        "colab": {
          "base_uri": "https://localhost:8080/"
        },
        "id": "WvCWk5uqPQvo",
        "outputId": "49050143-1e77-4416-8edf-2df437c9e6d8"
      },
      "execution_count": 109,
      "outputs": [
        {
          "output_type": "execute_result",
          "data": {
            "text/plain": [
              "[['C', 'M', 'F', 'R', 'N', 'N', 'Q', 'Z', 'Q', 'B'],\n",
              " ['P'],\n",
              " ['L', 'Z', 'T', 'C', 'N', 'C'],\n",
              " ['B', 'G', 'J', 'Z', 'G', 'W', 'S', 'W', 'B', 'D', 'W', 'H', 'W', 'Z'],\n",
              " ['B', 'W', 'T', 'N', 'C', 'Q', 'H', 'F', 'J'],\n",
              " ['F', 'L'],\n",
              " ['V', 'F'],\n",
              " ['V', 'P', 'R', 'H', 'Q', 'R', 'Q', 'M', 'J'],\n",
              " ['G', 'L', 'W']]"
            ]
          },
          "metadata": {},
          "execution_count": 109
        }
      ]
    }
  ]
}