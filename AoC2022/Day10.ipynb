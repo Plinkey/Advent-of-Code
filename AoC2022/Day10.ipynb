{
  "nbformat": 4,
  "nbformat_minor": 0,
  "metadata": {
    "colab": {
      "provenance": [],
      "authorship_tag": "ABX9TyPo/SmlrFcfsXkOpjQ+R3Dk",
      "include_colab_link": true
    },
    "kernelspec": {
      "name": "python3",
      "display_name": "Python 3"
    },
    "language_info": {
      "name": "python"
    }
  },
  "cells": [
    {
      "cell_type": "markdown",
      "metadata": {
        "id": "view-in-github",
        "colab_type": "text"
      },
      "source": [
        "<a href=\"https://colab.research.google.com/github/Plinkey/AoC2022/blob/main/Day10.ipynb\" target=\"_parent\"><img src=\"https://colab.research.google.com/assets/colab-badge.svg\" alt=\"Open In Colab\"/></a>"
      ]
    },
    {
      "cell_type": "code",
      "execution_count": 205,
      "metadata": {
        "id": "Q050E47ICDf2"
      },
      "outputs": [],
      "source": [
        "example = False\n",
        "if example:\n",
        "    inputFile = 'Day10.example'\n",
        "else:\n",
        "    inputFile = 'Day10.input'\n",
        "\n",
        "with open(inputFile,'r') as f:\n",
        "    rawdata = f.read().splitlines()\n",
        "\n",
        "data = []\n",
        "for line in rawdata:\n",
        "    if 'noop' in line:\n",
        "        data.append(['noop',0])\n",
        "    else:\n",
        "        [a,b] = line.split(' ')\n",
        "        data.append([a, int(b)])"
      ]
    },
    {
      "cell_type": "code",
      "source": [
        "def noop(curTick):\n",
        "    register[curTick+1] = register[curTick]\n",
        "    curTick += 1\n",
        "    return curTick\n",
        "\n",
        "def addx(curTick, value):\n",
        "    curTick = noop(curTick)\n",
        "    register[curTick + 1] = register[curTick] + value \n",
        "    curTick += 1\n",
        "    return curTick\n",
        "\n",
        "def signalStrength(cycleNum):\n",
        "    return cycleNum*register[cycleNum-1]"
      ],
      "metadata": {
        "id": "JWJXPU7xCoiM"
      },
      "execution_count": 145,
      "outputs": []
    },
    {
      "cell_type": "code",
      "source": [
        "curTick = 0\n",
        "register = {}\n",
        "register[curTick] = 1"
      ],
      "metadata": {
        "id": "IOr-ZaQzFLPN"
      },
      "execution_count": 146,
      "outputs": []
    },
    {
      "cell_type": "code",
      "source": [
        "curTick = noop(curTick)\n",
        "print(curTick, register)"
      ],
      "metadata": {
        "colab": {
          "base_uri": "https://localhost:8080/"
        },
        "id": "k8ewA1hzFhvz",
        "outputId": "f6493e9d-263e-4030-86e2-6476b485a422"
      },
      "execution_count": 147,
      "outputs": [
        {
          "output_type": "stream",
          "name": "stdout",
          "text": [
            "1 {0: 1, 1: 1}\n"
          ]
        }
      ]
    },
    {
      "cell_type": "code",
      "source": [
        "curTick = addx(curTick, 3)\n",
        "print(curTick, register)"
      ],
      "metadata": {
        "colab": {
          "base_uri": "https://localhost:8080/"
        },
        "id": "Kxc423TDFnKl",
        "outputId": "1ecaf6db-07e3-4f76-dcbd-5997d26c6b37"
      },
      "execution_count": 148,
      "outputs": [
        {
          "output_type": "stream",
          "name": "stdout",
          "text": [
            "3 {0: 1, 1: 1, 2: 1, 3: 4}\n"
          ]
        }
      ]
    },
    {
      "cell_type": "code",
      "source": [
        "curTick = addx(curTick, -5)\n",
        "print(curTick, register)"
      ],
      "metadata": {
        "colab": {
          "base_uri": "https://localhost:8080/"
        },
        "id": "7Os3KawiFsB8",
        "outputId": "e5d3f468-0c48-41b8-ce77-1c96fa9989f4"
      },
      "execution_count": 149,
      "outputs": [
        {
          "output_type": "stream",
          "name": "stdout",
          "text": [
            "5 {0: 1, 1: 1, 2: 1, 3: 4, 4: 4, 5: -1}\n"
          ]
        }
      ]
    },
    {
      "cell_type": "markdown",
      "source": [
        "# PART ONE"
      ],
      "metadata": {
        "id": "fuxjutvcFxq3"
      }
    },
    {
      "cell_type": "code",
      "source": [
        "curTick = 0\n",
        "register = {}\n",
        "register[curTick] = 1\n",
        "\n",
        "for line in data:\n",
        "    if 'noop' in line[0]:\n",
        "        curTick = noop(curTick)\n",
        "    elif 'addx' in line[0]:\n",
        "        curTick = addx(curTick, line[1])"
      ],
      "metadata": {
        "id": "5kc7ZmtvFyYp"
      },
      "execution_count": 150,
      "outputs": []
    },
    {
      "cell_type": "code",
      "source": [
        "answer = 0\n",
        "for item in [20, 60, 100, 140, 180, 220]:\n",
        "    print(signalStrength(item))\n",
        "    answer += signalStrength(item)\n",
        "\n",
        "print('the answer to part one is: {}'.format(answer))"
      ],
      "metadata": {
        "colab": {
          "base_uri": "https://localhost:8080/"
        },
        "id": "AikJWa4dGww0",
        "outputId": "5a1827f3-585a-485f-92f1-85f46446f637"
      },
      "execution_count": 151,
      "outputs": [
        {
          "output_type": "stream",
          "name": "stdout",
          "text": [
            "420\n",
            "1260\n",
            "3700\n",
            "4480\n",
            "1620\n",
            "3740\n",
            "the answer to part one is: 15220\n"
          ]
        }
      ]
    },
    {
      "cell_type": "code",
      "source": [],
      "metadata": {
        "id": "JaBXQFvtIrdM"
      },
      "execution_count": 151,
      "outputs": []
    },
    {
      "cell_type": "markdown",
      "source": [],
      "metadata": {
        "id": "BKre1Ig2JpuK"
      }
    },
    {
      "cell_type": "markdown",
      "source": [
        "# PART TWO"
      ],
      "metadata": {
        "id": "dzRSt-7dJGc5"
      }
    },
    {
      "cell_type": "code",
      "source": [
        "#Sprite three pixels wide\n",
        "#X register sets the MIDDLE position of sprite \n"
      ],
      "metadata": {
        "colab": {
          "base_uri": "https://localhost:8080/",
          "height": 35
        },
        "id": "TJpRhDp2JHCr",
        "outputId": "60cd9d63-b517-4124-dc82-44c8ff473ca5"
      },
      "execution_count": 154,
      "outputs": [
        {
          "output_type": "execute_result",
          "data": {
            "text/plain": [
              "' Sprite three pixels wide\\nX register sets the MIDDLE position of sprite \\n\\n\\n\\n'"
            ],
            "application/vnd.google.colaboratory.intrinsic+json": {
              "type": "string"
            }
          },
          "metadata": {},
          "execution_count": 154
        }
      ]
    },
    {
      "cell_type": "code",
      "source": [
        "def sprite(curTick):\n",
        "    mCur = curTick%40\n",
        "    centerSprite = register[curTick]\n",
        "    if mCur == centerSprite:\n",
        "        return '#'\n",
        "    elif mCur == centerSprite-1:\n",
        "        return '#'\n",
        "    elif mCur == centerSprite + 1:\n",
        "        return '#'\n",
        "    else:\n",
        "        return '.'"
      ],
      "metadata": {
        "id": "nwJ1wKbVJa_L"
      },
      "execution_count": 185,
      "outputs": []
    },
    {
      "cell_type": "code",
      "source": [
        "curTick = 0\n",
        "register = {}\n",
        "register[curTick] = 1\n",
        "\n",
        "for line in data:\n",
        "    if 'noop' in line[0]:\n",
        "        curTick = noop(curTick)\n",
        "    elif 'addx' in line[0]:\n",
        "        curTick = addx(curTick, line[1])"
      ],
      "metadata": {
        "id": "qvn9meguKFTq"
      },
      "execution_count": 206,
      "outputs": []
    },
    {
      "cell_type": "code",
      "source": [
        "curTick = 1\n",
        "register[curTick]"
      ],
      "metadata": {
        "colab": {
          "base_uri": "https://localhost:8080/"
        },
        "id": "sZKNJh5qKGsB",
        "outputId": "58d7ff19-d478-4815-e739-3976f04d62e7"
      },
      "execution_count": 179,
      "outputs": [
        {
          "output_type": "execute_result",
          "data": {
            "text/plain": [
              "1"
            ]
          },
          "metadata": {},
          "execution_count": 179
        }
      ]
    },
    {
      "cell_type": "code",
      "source": [
        "line = []\n",
        "for i in range(0,41):\n",
        "    line.append(sprite(i))\n",
        "''.join(line)"
      ],
      "metadata": {
        "colab": {
          "base_uri": "https://localhost:8080/",
          "height": 35
        },
        "id": "XGnDvjKfKmgG",
        "outputId": "c2261a64-5a8b-4fba-f00f-7a3bb10a768c"
      },
      "execution_count": 197,
      "outputs": [
        {
          "output_type": "execute_result",
          "data": {
            "text/plain": [
              "'##..##..##..##..##..##..##..##..##..##..#'"
            ],
            "application/vnd.google.colaboratory.intrinsic+json": {
              "type": "string"
            }
          },
          "metadata": {},
          "execution_count": 197
        }
      ]
    },
    {
      "cell_type": "code",
      "source": [
        "pixel = []\n",
        "for i in range(0, 241):\n",
        "    pixel.append(sprite(i))\n",
        "\n",
        "print(''.join(pixel[0:40]))\n",
        "print(''.join(pixel[40:80]))\n",
        "print(''.join(pixel[80:120]))\n",
        "print(''.join(pixel[120:160]))\n",
        "print(''.join(pixel[160:200]))\n",
        "print(''.join(pixel[200:240]))"
      ],
      "metadata": {
        "colab": {
          "base_uri": "https://localhost:8080/"
        },
        "id": "5lxBepTBKnw0",
        "outputId": "a82942c1-72f4-46c5-affe-6b587ad94bfc"
      },
      "execution_count": 207,
      "outputs": [
        {
          "output_type": "stream",
          "name": "stdout",
          "text": [
            "###..####.####.####.#..#.###..####..##..\n",
            "#..#.#.......#.#....#.#..#..#.#....#..#.\n",
            "#..#.###....#..###..##...###..###..#..#.\n",
            "###..#.....#...#....#.#..#..#.#....####.\n",
            "#.#..#....#....#....#.#..#..#.#....#..#.\n",
            "#..#.#....####.####.#..#.###..#....#..#.\n"
          ]
        }
      ]
    },
    {
      "cell_type": "code",
      "source": [],
      "metadata": {
        "id": "YakJggNNMJa0"
      },
      "execution_count": null,
      "outputs": []
    }
  ]
}