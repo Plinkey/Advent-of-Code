{
  "nbformat": 4,
  "nbformat_minor": 0,
  "metadata": {
    "colab": {
      "provenance": []
    },
    "kernelspec": {
      "name": "python3",
      "display_name": "Python 3"
    },
    "language_info": {
      "name": "python"
    }
  },
  "cells": [
    {
      "cell_type": "code",
      "execution_count": null,
      "metadata": {
        "id": "qbTAdVtRdUMn"
      },
      "outputs": [],
      "source": [
        "#with open('Day03.example','r') as f:\n",
        "with open('Day03.input','r') as f:\n",
        "    rawdata = f.read().splitlines()\n",
        "data = []\n",
        "for l in rawdata:\n",
        "    split = int(len(l)/2)\n",
        "    data.append([l[:split], l[split:]])"
      ]
    },
    {
      "cell_type": "code",
      "source": [
        "data"
      ],
      "metadata": {
        "colab": {
          "base_uri": "https://localhost:8080/"
        },
        "id": "JpHqtG2beT7V",
        "outputId": "cd06e351-d643-4fb3-ee5d-aa6b15c83503"
      },
      "execution_count": null,
      "outputs": [
        {
          "output_type": "execute_result",
          "data": {
            "text/plain": [
              "[['NJvhJcQWTJWTN', 'TFFMTqqGqfTmB'],\n",
              " ['VwVzPldRZVLV', 'Rmfsvfjvqfmm'],\n",
              " ['ZDPDHZHV', 'cvDhbvnv'],\n",
              " ['FHHwHBzzVCWWmmCzCPrVmgBw', 'bLTtRFFbbbttRGRLjTcLpbbT'],\n",
              " ['vhZZvdsNSdSMdN', 'vjncppCLcLnGnj'],\n",
              " ['CDZZsNZMZqdNSdlNZCq', 'rzPHDzgrgzwVVWwmwwm'],\n",
              " ['ndlndntsFJntFvc', 'cLjjLrjBShcBBfc'],\n",
              " ['GpCGHzVwmmzq', 'QWSSSfWHBhQL'],\n",
              " ['mpCMGGCZVzVwGGVwm', 'JsZnFtZnTSTJtdsvl'],\n",
              " ['nCnPDGmDNmVCsVQDm', 'GSWqvzchWSjjcWGqS'],\n",
              " ['gTnBRLpfTRnrTdZgdLfRdrT', 'hvqcvWWhFFWvcFSSgjqqzjv'],\n",
              " ['pfZfTMwrbLTTf', 'sbmQtlVtHHnbs'],\n",
              " ['wNdSdsbT', 'vTZMTvTv'],\n",
              " ['rrdRWdWQhFVdHWBGWQ', 'mmmnnMvCfmnhvmCmtZ'],\n",
              " ['rJrVDRWpGdd', 'pbSlNSlspPP'],\n",
              " ['chTNrthMMwWMT', 'jfsmRzZszJpwm'],\n",
              " ['BLnFFCngbcBnbbldDl', 'pRjGpmsCzGsGsRGmmG'],\n",
              " ['dqvnvlgb', 'qtcPPMhH'],\n",
              " ['QcLNqZbCzJDQBJJ', 'RpwzRpdnRldgnpf'],\n",
              " ['GmmmvVGsHr', 'WffrlwdCWd'],\n",
              " ['CMsFVVFjCmFStG', 'QbbLZNBbJBcTjc'],\n",
              " ['LQVggbQvcLbQLHgvVL', 'hWGGsChssrMWfzGccc'],\n",
              " ['qDnRTTRqJttPf', 'WMChJhGslWlzh'],\n",
              " ['qRTRwPBTBtRZdnjnqqqn', 'QVbjbNLFbbfLgVmgHLQm'],\n",
              " ['cZbzwCwZPlJcM', 'LrNSNfHWNBBNZ'],\n",
              " ['vsQsDCqtsDhmt', 'jVrBNWNjBHrhr'],\n",
              " ['TtDTGnvT', 'lgbbRCGg'],\n",
              " ['BgBlplHlsgNNsJlVpB', 'tPwJhMPRRQSSttRtSP'],\n",
              " ['bvhTnmdFTzd', 'dStwStQRddt'],\n",
              " ['ZnZDLvnvqZzbbhFzzmTbnF', 'sVjVlNgsCCNVsVLpNWVgsB'],\n",
              " ['Tdptqrrc', 'VGhhzFtw'],\n",
              " ['DRnSfwJl', 'DmmDDVGv'],\n",
              " ['RCSQNSCQZn', 'dwbcMqQrBB'],\n",
              " ['wvRlrlwVwwqzgbZR', 'dCJBWfmdzCWfBdhf'],\n",
              " ['cFcsQpNtLLsGTtNGpM', 'dPmDdPBmmBvJPWvDtC'],\n",
              " ['TpjssTFFvLLLcFFQp', 'wbwwHngjHRrZRqZVH'],\n",
              " ['mqqddrPPcPmqPDlrQn', 'jTrbvMvbHzzsjjpTvz'],\n",
              " ['gtBWgGgVhLGW', 'HzMDztzstDHj'],\n",
              " ['hfWRhBBNBGgL', 'NQDPwdNPcPdw'],\n",
              " ['LhQzdhhbTzpMhddhhhTzhn', 'ZcBFllHZFtrrHZHMHFjlHr'],\n",
              " ['mwwssqDv', 'jptrvplr'],\n",
              " ['NCSgVDPDwmDgVJVp', 'LfTznQJdhfLhnhQQ'],\n",
              " ['GzjzDhjhhZzcrR', 'gQCBjBPBBjQCgT'],\n",
              " ['vHHHmntsbSgLwbsSmNHbwNbv', 'pqPCBVppCpFTpTPTBtqWBCqV'],\n",
              " ['NJbwNSwdndvmvw', 'hGhgzcfMcDJfgJ'],\n",
              " ['GncgDvvcMGnttjDvrgRR', 'FSZZLZFWdJFJwGQwZBWZ'],\n",
              " ['bPqpChPfssh', 'fZZBdZdLTFZ'],\n",
              " ['lNqqsClmbsNlPbHqPsmblms', 'rHdvdMngcVrjggvrvggRDcn'],\n",
              " ['bDvtgVVVp', 'MQvjQWmQL'],\n",
              " ['rwTflmlfZJB', 'BdQWQWjQqdM'],\n",
              " ['HsJJmZZwscHrwTr', 'cRbzpcbPgtCSbgz'],\n",
              " ['CsCsRvsh', 'MjpbqCqf'],\n",
              " ['ncblgDBgtDmmmTlBgwlgb', 'HHqMFHLqPDMHPHHpqWfFM'],\n",
              " ['TcBctSmTZTtST', 'zsZvsvJZRsGVb'],\n",
              " ['znznvngttwltzlLwhtTh', 'HbqHPvNbNHSSHmmNWHjP'],\n",
              " ['FBcLrRMFQp', 'PqpPSpqHHW'],\n",
              " ['fRQMJZJfrcMcMVrQJJf', 'tnwCzVCltgTnstTVnVL'],\n",
              " ['MfLlRfCMrLzR', 'lQgwNqQFcsGd'],\n",
              " ['jtTjjBTvb', 'dqcGjqFcj'],\n",
              " ['vvShDSBD', 'ppzhCmzq'],\n",
              " ['plWMptTvfrnncvcRfw', 'qzqLGhzhzThNzNNJqD'],\n",
              " ['jSdSHFPQQbdPCQCssjSbB', 'mhJGNZZNGNqqJNBlJqqLh'],\n",
              " ['VCCCVCQgjdddjCgljCjbb', 'wgRRttgrpftfWrgvpwpnf'],\n",
              " ['MWlbBcPjjvvjPWWMPqg', 'RQZfJZDGGbRZJffQQwh'],\n",
              " ['HrHrnncHpz', 'rJQJfVDQVR'],\n",
              " ['zzsSTtSTLzsspSdtTmHHmpmt', 'FgqcgPlgFqWBqqqBMdWWvFlg'],\n",
              " ['nSqBbJbqlnBB', 'ClVZcMgZVgcP'],\n",
              " ['FQwrwHrRwWWFB', 'RPNgNgcCGZZZC'],\n",
              " ['rWFWFTwpwwWzHr', 'nDbfJDLDbBBbbz'],\n",
              " ['BMmNtLMMtFCNFNMvvLmc', 'ndpgcdgppPrgrGPPrgJD'],\n",
              " ['WVWWhbTtV', 'nGpjrrPhr'],\n",
              " ['HWssSTHWfRHRsQQ', 'FLvfvFFCLCNMNlt'],\n",
              " ['sTmDsQffVrr', 'LCjTFltTFWL'],\n",
              " ['BnwwQBJbJndMMRzMw', 'CLlWlLWWCWLLtRlWF'],\n",
              " ['cqqBMcMqwnznMGzcv', 'DmQhrvssHmPDVssrP'],\n",
              " ['pQGQGJDDrDVJbbfVzv', 'vgPcCZwhZhncscZWWc'],\n",
              " ['SqMMlBBljMmRl', 'chhPTqThCZnPs'],\n",
              " ['FMjMBmjRNFH', 'QJJpHVhVDhG'],\n",
              " ['tHNNdBdNtB', 'BBMgsMpsZm'],\n",
              " ['wVPzVvbwqzhrVqvjqzz', 'sZpDsZDsZmsCPCgZgCM'],\n",
              " ['bVbvLThvvbrWq', 'HmmnJLdHdJQLn'],\n",
              " ['PzTspPZpdLLDZTplPLpPDp', 'vbfhnqNvqzfvNMzQQfNwnQ'],\n",
              " ['GWRHmjmFW', 'MMSnhbhHw'],\n",
              " ['JWWcmtBrBtWBFWG', 'JpsgTgldhLVLpJl'],\n",
              " ['DwLMDzLMhvMcwv', 'gdVqWWlCVgvlqF'],\n",
              " ['TTSBBRpbStHZ', 'VgjWFldjRVlV'],\n",
              " ['SnbTBdJBmnp', 'QzMPDMcMznr'],\n",
              " ['nNlMNBPPNtJ', 'QnbZhZsgSbh'],\n",
              " ['czzCjcwTdv', 'SbgQNcgNQq'],\n",
              " ['VTdNdGDTzDTd', 'lFFPtBrtLtDr'],\n",
              " ['FMbbfMlzv', 'FsmgVZmmg'],\n",
              " ['SrNTHGmdSQD', 'qLhtQhhgggs'],\n",
              " ['dRDTSDPPcHRdHGDH', 'lwJBbmwljmMcfjbW'],\n",
              " ['sQgWLtqLtW', 'hdqlpNZRpG'],\n",
              " ['blTHTjlvTCJnJv', 'RZdGGhHHGZhFGV'],\n",
              " ['CCDlJclnCmbrm', 'BMgcwcLWtcBsB'],\n",
              " ['vqPWWvqwwCFvFZfZPRFR', 'rcGQrQwsDrNcrwnbDNcQ'],\n",
              " ['LVgJLSBBVtzTLzBMmTMJm', 'LnnDNQcrsGbsQbNbrbDjs'],\n",
              " ['zggVSmmhV', 'dfqFhvHWG'],\n",
              " ['WwdndGGmmmLwwwmRwWSncLRn', 'ZqZqhqZthBtqtBqZBgtdtvMH'],\n",
              " ['FfHHzlQQDsFzzrNsV', 'TfttZvTvttTqqtbqb'],\n",
              " ['lQjFDNQFPjCsVCCDj', 'GCwwSGGnccwcHppGp'],\n",
              " ['mrjggcFsFM', 'jdjZRpSZpn'],\n",
              " ['NCqfLCFNbQPzPPlPzNf', 'SRTRZdSdWWwndpqRSSd'],\n",
              " ['vDvzzbPQFNCFtllLLN', 'MBhMcDHGBGMggMmcBc'],\n",
              " ['jhjlBvvnjbtDNPjtSjBDBbDN', 'gHggrQrhghRQrqRrZcRwwqVg'],\n",
              " ['pLdTMsWdLLmpMd', 'qZZdPdVqZgHPwH'],\n",
              " ['WLTCGmMLfP', 'SlbGjlnnJD'],\n",
              " ['gtbwhgHbHgqqbgQthgQLtZZ', 'CRjMcjjnRnrRNJmMRJrNhRc'],\n",
              " ['bGWVTTvDvfpVFFBpvvVTd', 'RDMJcrccCrJnMRnNnNCcc'],\n",
              " ['FVWTBsdvdTzTBFWssV', 'QtLgSQtHqqPzPbqHbw'],\n",
              " ['dlzrPTSSjSrllz', 'WhsvVmVtTRTWtf'],\n",
              " ['bJMpLGcqGhNbJ', 'QttVQmmvRWWsp'],\n",
              " ['qLbMwqqbGHFG', 'zrlZrjhPHCrj'],\n",
              " ['rNrrffVlqqrfLlPplt', 'cBBTTGRzzZRPRsBTcJ'],\n",
              " ['msbsmWSsMmQwjdMbWMhMhQm', 'cRZRzGjTBGTBcBJBjCHJGcC'],\n",
              " ['FwWbvdhbm', 'rsFrfrgsN'],\n",
              " ['rHjrQHdhdQrvSddcH', 'WLssBSVVpBSWWWWWf'],\n",
              " ['JNfTGtqDw', 'VWBMBMpwM'],\n",
              " ['qlltZgfJF', 'vcRgcRjvc'],\n",
              " ['CqfcwfDqwwmRnnqmR', 'dNRBTRTRrdGdNpTvF'],\n",
              " ['WVbzsZszBb', 'rsvpdMpdQM'],\n",
              " ['tJhbVZHWLLH', 'DgnSwnSSgHB'],\n",
              " ['TZCqqlTsqpZVVsZQ', 'JSBSLpLmppnJzmFz'],\n",
              " ['brSgNtGjjRjRRjDddDtrR', 'JcJJbJmmwcmBmnPcJFwFB'],\n",
              " ['jgdRtMjNNjf', 'qlMvShvSZSZ'],\n",
              " ['dJTdqCwMNCgqT', 'QllGBdlGBmmmZ'],\n",
              " ['fcVfVcnbVfrwDLWVfnc', 'ZBQPlBHRGljLZQjHGQl'],\n",
              " ['brwnnfSFDvf', 'zCTqFzgMJTh'],\n",
              " ['njnsPBjjsrrnGLnbTTjG', 'vcldQPCMllNzMvRQPCdd'],\n",
              " ['ggZgfZtmZVpqZqZWDgFmgqf', 'CcQRcRcWhQcccQddMcvRQdQ'],\n",
              " ['tfqgggVgHpDwDtf', 'wbGLJRjbLjsrLTj'],\n",
              " ['JmrfrmTlDWTfg', 'QCdHCdpqBvQdD'],\n",
              " ['jsZtVzNsSN', 'VQQHnBlVQR'],\n",
              " ['PljljFjPljSsLPtFL', 'TTgTcFrrfMJmrrmrr'],\n",
              " ['hmGcmmndhmGnfmtGnD', 'zFLwrFJQsQFzNFrNJG'],\n",
              " ['ZSqPlSWcWlbgqWVTVWRVZP', 'rjQqjzjFNJzLsNJsLJNqNL'],\n",
              " ['RHcWTZbSMMMPgZcWgSWPPbV', 'MDnBffmtdpDBddfnnvmCdfC'],\n",
              " ['vSJvsbFfJfvqCsTHJswssJ', 'nLTZjjhzrrzLrzLMrzhdjM'],\n",
              " ['pBNQDPcpmWDcBNg', 'MMnZPVjdddnndhH'],\n",
              " ['QWlDgmpmgDBlGRgDDg', 'ffSqwSwGCwHfvqwSFJ'],\n",
              " ['jvlgvMJclPdGdtdcj', 'MVmMHbFHFVHWHbZHZ'],\n",
              " ['CwhLzLhzQpnqfpfq', 'DVHCHbsbDFZDmHmj'],\n",
              " ['LnBzfQjSzQ', 'rPvJvdSSrr'],\n",
              " ['wpcvcsqclD', 'CnVCVvWfnZ'],\n",
              " ['BLRMRtbnbbBL', 'NCjNCjVVZhbC'],\n",
              " ['rFgMPSRnrR', 'pmqpJwqFDs'],\n",
              " ['LZQNQbMrZppLNLQplvlGLNv', 'VmmmfjbwVCfjbwJwCmBCwfj'],\n",
              " ['ShTPRFtTHZP', 'CsnwswsFwCF'],\n",
              " ['WtHRPdThSqZTRtDqtdRWTd', 'pGDLLzrNczvzMGLlQLGDDM'],\n",
              " ['hdcffBvldjhCMlj', 'qPwWwWNwWdwqHZr'],\n",
              " ['LtQmbQRVs', 'ZQZMZPQSN'],\n",
              " ['tmMRsJMp', 'DhjJzJhv'],\n",
              " ['wNQCMFCDQDB', 'mrHmmRWrrHN'],\n",
              " ['SShLnfqpcqpSZS', 'frzJvRVrvfrrJH'],\n",
              " ['cRpqdGclpSclt', 'TQQtsFQMQsTCT'],\n",
              " ['NCjggZmgfBgnBmg', 'WbcwcTFctcWWfvb'],\n",
              " ['HsDGthRGrtppSQp', 'bFFJTVcJdFbTRvd'],\n",
              " ['rPDGhDDrSz', 'ZLtzBLZMCB'],\n",
              " ['RsBBMBsCBlFFCgRsBJzlMjM', 'PNSdPhSrSrzLbmSDrDNmDSd'],\n",
              " ['pZHZZJpGHHHpTTHvTncZqV', 'LdqLbhLrDLdhrSLLbLDDdD'],\n",
              " ['tGtwnJccv', 'CtCffMBgt'],\n",
              " ['wbddvVjfwPhbjjbDbbvbjvT', 'NCNmfHZfpCZRJNzCmJmnJNC'],\n",
              " ['BslcLtclZWsZ', 'JWNrRRNRpRmR'],\n",
              " ['BSLBlScGtFMcssMBBFGLlQ', 'ZTDZQjPddVwwbTdvvdhTZb'],\n",
              " ['NSZHzmLZBnzHmLLzLS', 'ntDttDDtddhDtttDWW'],\n",
              " ['QgfjsrrvNNJ', 'wtMddcvcvtq'],\n",
              " ['jrfgfQpQrT', 'TVLSNBClFV'],\n",
              " ['GQWcWWPPQRcrJQNDdRcD', 'mmLCFSnqNSmqhCNvFnql'],\n",
              " ['zHfwjzpMjwZ', 'mCLqvvnlljC'],\n",
              " ['ZgtVZBtHHZtg', 'QGgPrbPRJdPv'],\n",
              " ['TWdWpJTJTdgLWfWLlLFLrfrg', 'BGsNqhGslBGHqSNqqBNshnws'],\n",
              " ['ZpQmjzbZZCjZCCCPZtttRCC', 'wsBnHNssBHbShsshHqsGBqN'],\n",
              " ['RDRRPpPCzmZCtRpVV', 'JFrfTfWFLLJggJrDv'],\n",
              " ['pDDFlglsvFMgntl', 'TMMqNffmTdfddRM'],\n",
              " ['jhGJLVCHQpHGQCCzLjW', 'dTTdZZdNdcRWNccWfNN'],\n",
              " ['jQjSGjrjCQLhzVSLSCSHG', 'DpngbrnDFtFBwBglBnBvg'],\n",
              " ['wsLzstsgszcpcGLHGpcgcgh', 'lDBvQvjQvbFbQCbJBtCCJJv'],\n",
              " ['mnSqRSSqSRThWRnmWWRS', 'JDFTFCFCblbBCFQFCjFj'],\n",
              " ['rZRRWqSSdZZfMVnZ', 'LspPsMgHpzMhHGPg'],\n",
              " ['mwHrCLSWWwrsHCHDDsVrsmh', 'fFZFnSSBlFlgZbbgBglbggj'],\n",
              " ['GJdpcRtGJvNRdcPtdpJJd', 'bQZfjfQBlnQBjnBtbfFnB'],\n",
              " ['qcPpqqzFzJqvP', 'VCCmWrVwhrWrz'],\n",
              " ['jjMbvbhDvnRjNRGMmjbMZ', 'ftSSwwwthJSffStctcwqd'],\n",
              " ['lTQrVlpCVvC', 'cfdcSJqLVcw'],\n",
              " ['srHFWCHrFlrHlrsBsprl', 'jjRmDZZnmbDngNBgbNZv'],\n",
              " ['MgTlQJlTQJZWpg', 'LrRssrVqqqpRts'],\n",
              " ['bBNbbzSSjMBPjzhMj', 'sPtRVVRVPRqLttGGs'],\n",
              " ['SjHBbfjNCDfj', 'ZgTlZdMJnDJW'],\n",
              " ['lpThgTwtplhghgwhThqnn', 'rdZctSZSjSZcRSRfbdrrc'],\n",
              " ['RBVBGvmBm', 'fdrcvrbbr'],\n",
              " ['PmVGNGmmGRL', 'LQwwLqTnglQ'],\n",
              " ['nHwnBwBTnFHQ', 'wRsMhwghmzcm'],\n",
              " ['GtprdCpdtqWdbqbrfd', 'nPPszsWmRzRnShPszS'],\n",
              " ['dGptbCfCrlnV', 'DBJNLDLLVDLQ'],\n",
              " ['CZtCjhTn', 'dCzqbCNq'],\n",
              " ['dwpGvpsmwGslDs', 'zrNNrzqDMzWMgJ'],\n",
              " ['vmcGccvpBVP', 'TVTjTdTTTdZ'],\n",
              " ['jWZhvZLjZfCZDwrDr', 'SSzJGhVdJccscGsgV'],\n",
              " ['blMBlRqqq', 'gSJLBLcsJ'],\n",
              " ['blmHLmFMMMnRqLmMMFqHm', 'fPDfjQDnCDDQrZvfCjvDr'],\n",
              " ['rnvnHrDLFZmMFLvrH', 'QBMGQggBztzglplRl'],\n",
              " ['sbWWhdNzsshsfhcsjJJPPbWd', 'tQGVGllRTRjRRgBgQlpRlppB'],\n",
              " ['PPCCwNWhPhNfWCzb', 'qmFnDFFnCDLSrvZS'],\n",
              " ['GChNjwWlWJWTJZ', 'BggvdgnQgdhdnd'],\n",
              " ['HPsHfHHrpHDpFFrcSfsfp', 'CMmQdntLBMgtmtBgDdLLC'],\n",
              " ['SqpPscpPzpS', 'WzjlCjjCGjl'],\n",
              " ['nvgLvcLgvgvngbLprp', 'JNTDCCRNVJrNPlDDTV'],\n",
              " ['WZsMtsffGQtMzWFqFmWmWs', 'VNJNlDwwCDVRTwJlCCDVLz'],\n",
              " ['BQfGZGmmsMWFstWFmfMsf', 'BccdncbpbSbvbbvHnLbpc'],\n",
              " ['tsmDsvswN', 'ZmcZTccfh'],\n",
              " ['zCTpGCbWBRWFWHGRF', 'ZJbMbJfnrhnhfMnnZ'],\n",
              " ['TzFGFBRLdpHH', 'NNQddDQDvwQN'],\n",
              " ['fhBBpJgdHddjZ', 'QfmVmNzNNLmFN'],\n",
              " ['qvMRrvlbwqlbTTMBMv', 'LssFNmVzzwFDmLLzVD'],\n",
              " ['TRSRWqRRMcB', 'HhGHcdGgPGp'],\n",
              " ['lSjHmtmnpHStblnpSlHSrtmM', 'zLWzqzqCZDDTzTTWqMFqCqVV'],\n",
              " ['sLRLLfPPRQ', 'fCTqqVVqFT'],\n",
              " ['dNJgRPNQNsJJhBRvdJvQvNNs', 'jSrrSmrcctpbpHtBrBjLjmSH'],\n",
              " ['nwFwpppjfwSlp', 'LTsqsTgNshhjM'],\n",
              " ['ccBRGvtsm', 'gGNPqNNGP'],\n",
              " ['BCcJHvssdcWBCVmVH', 'SSrZrwVzblpwbzZnf'],\n",
              " ['rcfQRrBPPczjcRBct', 'ZDNlnVNHbgZGjVDjN'],\n",
              " ['TvMsFJGSFMhJ', 'nNZlwVVnDNTZ'],\n",
              " ['qhSqqmqLCLhFdJLqSvLhm', 'QRQRWcRPczPtzrCrWGRBp'],\n",
              " ['JVhdPhsFPFqLDBHVdHLPvhHD', 'CMwcgJJwbwRgnnCMbwGwcmGC'],\n",
              " ['fzjzpTZTQQQL', 'wCbgGgbMmQcR'],\n",
              " ['jzNpTzfSZtfNSWZl', 'VVtdFFFDHHqLHVqv'],\n",
              " ['TwSNnSnSGVTpNppGlPTlT', 'cVqQrRhVBqdqBRqZqQZqQ'],\n",
              " ['DcDCMfDbCMHJ', 'drRBqbdjRBRZ'],\n",
              " ['gvftMCJHcHfCDmDLgfMmMmm', 'WlwWnWsTTwlGTlWTwppNlGL'],\n",
              " ['pbGMbllDQPhhWWQDpPgVGlM', 'CvRRrQLcCCcfBBQzLBcvQBv'],\n",
              " ['wqnJjSmjrstdqww', 'FBLcRsBRRszzLFC'],\n",
              " ['qwdddTJTdHtjndqJqHZHmw', 'VWGpDbGTlbWWpWWrPGhhhM'],\n",
              " ['WGllqLjjLCp', 'SffmBmvfpHs'],\n",
              " ['dnrQwZzRTdZwnCThdzzFTV', 'mcBHBJBmsHfBPHcfvcSVHs'],\n",
              " ['QgQrzCdrTRCZzrZ', 'LbjGLqNMWGgNNLt'],\n",
              " ['sgPnhPPTTPTT', 'wlJfwNHlqcfs'],\n",
              " ['LMCpFbLLbRpMGbMcCFL', 'VlNlNqrHqVfbHHwNDwr'],\n",
              " ['GjBcCCtWMtMR', 'ZTSvgWQTngvg'],\n",
              " ['BCMtJJMpRDlMMvBJBB', 'nfjtcjPhPmZgnhgdcf'],\n",
              " ['NrsrsqFNvrVLVGVrsHsqF', 'gfmcPGdcmhfjdPgfjcnZd'],\n",
              " ['zFTzsNqHqFssLVLQqNTFbs', 'BDwCCwvWlDwRMRCTRBDMDS'],\n",
              " ['zQtLgvggSRtgvVRtLvv', 'nzdnjnGwGdmmrlpnlGz'],\n",
              " ['JssBFpqsDqPN', 'nlWWjrrjqrnj'],\n",
              " ['DHDFBNDfPbJBsFHNMP', 'vpvStQvMRVTtgVTVtv'],\n",
              " ['FvzttFvBTJJzLbv', 'whCnnVnWwjCnBNC'],\n",
              " ['mQdZgZPDPdPPSsMSQPdZg', 'CwVGmnwnWpGnGhqNWjWCG'],\n",
              " ['ggdDgfQSdc', 'jtFHjlLJfF'],\n",
              " ['ghcgScNNSsCvGS', 'zmpVFlZbrzcFcV'],\n",
              " ['MWWRLRqqqdQwTtLjjmqM', 'lFpFlzVnbFVDwplFzlDr'],\n",
              " ['LHMHqdHWjdQMdMtLHHLtWjJR', 'sGCGSNghmSvPBJBNhsGfvfGP'],\n",
              " ['CbVqqqDbcbMHnnDqcCbrRFC', 'fBvvwGjzrBwQGzrwwBjGwBQ'],\n",
              " ['sTPmpNWdWPTJssSSLP', 'fNljjBvflGtjwwBzMG'],\n",
              " ['mmWgmgSZLTLMZWp', 'nhqZbhFFCnhqnnn'],\n",
              " ['QQmjmZqnmQrfTZ', 'lbbcVbBcfbHfzf'],\n",
              " ['vpdSNShNppFdSRtdG', 'BqvJBDlDzqbPPHVBH'],\n",
              " ['tRNSNRFhNpSRhFRMFtGhRGs', 'wLZZsZqWnmrmZwqwsTZmmmQ'],\n",
              " ['gGWCllFCGWtGGWdlGlWN', 'ZdwpnnSbwpMvpphZpndn'],\n",
              " ['RsshDDLcQV', 'MSJQwJwnvw'],\n",
              " ['HVPzrPcD', 'NhPFGhPC'],\n",
              " ['jtHQGHjGGtdTLjnqTQ', 'lmvRPRPBBwRBnFPPWP'],\n",
              " ['hZbzNzVrczZzcbNssVspZZV', 'vBwbmPmJPWmvbBRvPlmvRJF'],\n",
              " ['fzNVDsZMhzpVhpVhlZcMNfc', 'DDdQTLTjGDTCqGCjtSQHdHL'],\n",
              " ['GrbFggGrTrzSrg', 'fwJjdTmwmNJZJd'],\n",
              " ['VMPQplPDpt', 'chwdsjmlml'],\n",
              " ['MqMWtBDPPWDWHQtvqQtWP', 'jbzCGLgSBgGbzgrzFgnnz'],\n",
              " ['fcJccCcwcDfcpbRnCfWJn', 'QJqtqtqPQdsGdgPsgTQqg'],\n",
              " ['LSjVMhzSFFrlj', 'dNbltNGtgdqQq'],\n",
              " ['MMhSHFFMLzB', 'WDcHHcfcHwb'],\n",
              " ['rwmWtJWMwSNRJMtwNmMrrSsm', 'tTjjlgqnTqZZZPlHnTngTTgn'],\n",
              " ['BGqGqqFBF', 'ggjjdGHlj'],\n",
              " ['QDhhLbDQCDF', 'MNcmhRhqJNW'],\n",
              " ['BnRnRvMnLGLSCHvvSnlR', 'fWbbTNQJsJsbNbJTBfQT'],\n",
              " ['tzMmmMwjhcpFjDmMcptrcjzF', 'QggfQPTsWsfgNbbgfhJbPhQT'],\n",
              " ['FdzcrtDwDMtcwtF', 'GRZdRLvdnHRSZZv'],\n",
              " ['HVpsSpvjpNjs', 'BmbGFBnMNnDM'],\n",
              " ['WRRWhZtfrVtLJr', 'BZMnDmDbnZBTGF'],\n",
              " ['thhPLzWzhzwPtLRLWr', 'QlpPvvClcVcCppSvpl'],\n",
              " ['lZPbhnZLRPnnPZZPdlG', 'MBWcBMgMQHBBcvvvzBL'],\n",
              " ['jpFjmwwwCDDbs', 'jvjjgcvQgcNBQ'],\n",
              " ['rbFmppbw', 'hqhGRGZr'],\n",
              " ['ggrLwFgWCBwbMWBbFwLMgNB', 'ZdmZHclJPllnJlNRPmSNZRR'],\n",
              " ['ppszzDfhDfhsqpnvDVTfGp', 'SPlPmclHcdRcZmmmdPPGSP'],\n",
              " ['pvtDDVDVpqDfzDfn', 'gBLCwQrgCtCwFwrg'],\n",
              " ['pbGjFFGGDjpbsGsm', 'NhNFNRBBBtRhhhHv'],\n",
              " ['JnczJVCvwWJv', 'hPgghgNtNtNJ'],\n",
              " ['nwVSSzdzz', 'qSpvQSZQG'],\n",
              " ['mssLLttQrsMrMzLCRmMmrr', 'SQpvWpDNlBTBDlvNTccDQl'],\n",
              " ['HdHJwJqVPwHnqJwbjJbGjn', 'SgSTWPpNgWWpgBBgcvDWWN'],\n",
              " ['ZHVwVZGwwdndqJVJqfHbGwnw', 'rRLtLMftMvMMRrhmLMthhLmz'],\n",
              " ['RgHGLbTqlZlPRZPH', 'fvvfZttJnvfvjnzr'],\n",
              " ['sVcChDVDccwNhh', 'vjTvVzWJjnzFff'],\n",
              " ['mpNcCMTC', 'GmLqBLGH'],\n",
              " ['wVJwHJHVMtMpB', 'mDDWPQVPWDGDD'],\n",
              " ['zCrlZzCblBvnC', 'DWNGLmvGDLPNG'],\n",
              " ['dqZglgbzrzbbgZqzTF', 'SBHHFJSSSfjjSMfwhj'],\n",
              " ['NMWJSjLMCnHHNMNNHWCHMb', 'VVGBPZTrPVPBVDrBSDGTTr'],\n",
              " ['zvttlFpgdtldwwvft', 'PDPTWQdBZrsrWrGBZ'],\n",
              " ['hFlFmhRFvf', 'CbmWJWHcnj']]"
            ]
          },
          "metadata": {},
          "execution_count": 140
        }
      ]
    },
    {
      "cell_type": "code",
      "source": [
        "def find_common(wordsIn):\n",
        "    [w1, w2] = wordsIn\n",
        "    return ''.join(set(w1).intersection(w2))"
      ],
      "metadata": {
        "id": "RKWw0H6lgELX"
      },
      "execution_count": null,
      "outputs": []
    },
    {
      "cell_type": "code",
      "source": [
        "lower_alphabet = []\n",
        "alpha = 'a'\n",
        "for i in range(0,26):\n",
        "    lower_alphabet.append(alpha)\n",
        "    alpha = chr(ord(alpha)+1)\n",
        "lower_scores = [i for i in range(1,27)]\n",
        "\n",
        "upper_alphabet = []\n",
        "Alpha = 'A'\n",
        "for i in range(0,26):\n",
        "    upper_alphabet.append(Alpha)\n",
        "    Alpha = chr(ord(Alpha)+1)\n",
        "\n",
        "upper_scores = [i for i in range(27,53)]\n",
        "\n",
        "items = lower_alphabet + upper_alphabet\n",
        "scores = lower_scores + upper_scores"
      ],
      "metadata": {
        "id": "JAFiJe_2hw2P"
      },
      "execution_count": null,
      "outputs": []
    },
    {
      "cell_type": "code",
      "source": [
        "def score(char):\n",
        "    return scores[items.index(char)]"
      ],
      "metadata": {
        "id": "ZrO4yzbZhZfU"
      },
      "execution_count": null,
      "outputs": []
    },
    {
      "cell_type": "markdown",
      "source": [
        "# PART ONE"
      ],
      "metadata": {
        "id": "NnesLPT-j07o"
      }
    },
    {
      "cell_type": "code",
      "source": [
        "total = 0\n",
        "for line in data:\n",
        "    total += score(find_common(line))\n",
        "print(\"The answer to part one is {}\".format(total))"
      ],
      "metadata": {
        "colab": {
          "base_uri": "https://localhost:8080/"
        },
        "id": "qxqzdJRhjdCF",
        "outputId": "3978503a-eeae-465b-c2e9-111619d32e77"
      },
      "execution_count": null,
      "outputs": [
        {
          "output_type": "stream",
          "name": "stdout",
          "text": [
            "The answer to part one is 7742\n"
          ]
        }
      ]
    },
    {
      "cell_type": "markdown",
      "source": [
        "#Part Two"
      ],
      "metadata": {
        "id": "G3Lz9MpWkcsL"
      }
    },
    {
      "cell_type": "code",
      "source": [
        "foo = [1,2,3,4,5,6,7,8,9,10,11,12,13,14,15]\n",
        "bar = foo"
      ],
      "metadata": {
        "id": "hKmKfR1pkdcy"
      },
      "execution_count": null,
      "outputs": []
    },
    {
      "cell_type": "code",
      "source": [
        "a = bar.pop(0)\n",
        "b = bar.pop(0)\n",
        "c = bar.pop(0)"
      ],
      "metadata": {
        "id": "z-8nVXNHkqj8"
      },
      "execution_count": null,
      "outputs": []
    },
    {
      "cell_type": "code",
      "source": [
        "foo"
      ],
      "metadata": {
        "colab": {
          "base_uri": "https://localhost:8080/"
        },
        "id": "qQOm3ChekxKs",
        "outputId": "6ebd3d8d-0229-430a-9c7d-1ad86e5cdfbc"
      },
      "execution_count": null,
      "outputs": [
        {
          "output_type": "execute_result",
          "data": {
            "text/plain": [
              "[4, 5, 6, 7, 8, 9, 10, 11, 12, 13, 14, 15]"
            ]
          },
          "metadata": {},
          "execution_count": 147
        }
      ]
    },
    {
      "cell_type": "code",
      "source": [
        "def findbadges(rdata):\n",
        "    badges = []\n",
        "    while len(rdata) > 0:\n",
        "        a = rdata.pop(0)\n",
        "        b = rdata.pop(0)\n",
        "        c = rdata.pop(0)\n",
        "        badges.append(find_common([a,find_common([b,c])]))\n",
        "    return badges"
      ],
      "metadata": {
        "id": "SEcdCjV6k_N7"
      },
      "execution_count": null,
      "outputs": []
    },
    {
      "cell_type": "code",
      "source": [
        "total = 0\n",
        "for line in findbadges(rawdata):\n",
        "    total += score(line)\n",
        "print(\"The answer to part two is {}\".format(total))"
      ],
      "metadata": {
        "colab": {
          "base_uri": "https://localhost:8080/"
        },
        "id": "m3vO_MOnnuPu",
        "outputId": "1682cbb2-bfaa-4673-cee3-7a150fdc2c7a"
      },
      "execution_count": null,
      "outputs": [
        {
          "output_type": "stream",
          "name": "stdout",
          "text": [
            "The answer to part two is 2276\n"
          ]
        }
      ]
    },
    {
      "cell_type": "markdown",
      "source": [],
      "metadata": {
        "id": "fMYm9FImoVLt"
      }
    },
    {
      "cell_type": "code",
      "source": [],
      "metadata": {
        "id": "m51woZN7oKLM"
      },
      "execution_count": null,
      "outputs": []
    }
  ]
}