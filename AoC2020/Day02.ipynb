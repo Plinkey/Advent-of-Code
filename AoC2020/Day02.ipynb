{
  "nbformat": 4,
  "nbformat_minor": 0,
  "metadata": {
    "colab": {
      "provenance": []
    },
    "kernelspec": {
      "name": "python3",
      "display_name": "Python 3"
    },
    "language_info": {
      "name": "python"
    }
  },
  "cells": [
    {
      "cell_type": "markdown",
      "source": [
        "# Pull in data, process as necessary\n"
      ],
      "metadata": {
        "id": "TJsjk-bVoi7P"
      }
    },
    {
      "cell_type": "code",
      "source": [
        "# Change this flag to work with the given example instead of real data\n",
        "example = False\n",
        "\n",
        "\n",
        "if example:\n",
        "    filename = 'inputs/Day02.example'\n",
        "else:\n",
        "    filename = 'inputs/Day02.input'\n",
        "\n",
        "with open(filename,'r') as f:\n",
        "    rawdata = f.read().splitlines()\n",
        "\n",
        "data = []\n",
        "for row in rawdata:\n",
        "    policy = {}\n",
        "    rowsplit = row.split(' ')\n",
        "    [minAppear, maxAppear] = [int(i) for i in rowsplit[0].split('-')]\n",
        "    letter = rowsplit[1].rstrip(':')\n",
        "\n",
        "    policy['minAppear'] = minAppear\n",
        "    policy['maxAppear'] = maxAppear\n",
        "    policy['letter'] = letter\n",
        "    policy['password'] = rowsplit[-1]\n",
        "\n",
        "    data.append(policy)"
      ],
      "metadata": {
        "id": "jM98twppoiu9"
      },
      "execution_count": 49,
      "outputs": []
    },
    {
      "cell_type": "markdown",
      "source": [
        "# Part One\n",
        "Number of valid passwords.\n",
        "\n",
        "Passords must contain 'letter' at least 'minAppear' number of times and no more than 'maxAppear' number of times"
      ],
      "metadata": {
        "id": "RanVb-lVqlmX"
      }
    },
    {
      "cell_type": "code",
      "source": [
        "def checkIfValid(line):\n",
        "    total = line['password'].count(line['letter'])\n",
        "    if total < line['minAppear']:\n",
        "        return False\n",
        "    elif total > line['maxAppear']:\n",
        "        return False\n",
        "    else:\n",
        "        return True"
      ],
      "metadata": {
        "id": "Gw0MgBzeo6N4"
      },
      "execution_count": 50,
      "outputs": []
    },
    {
      "cell_type": "code",
      "source": [
        "validcount = 0\n",
        "for d in data:\n",
        "    if checkIfValid(d):\n",
        "        validcount += 1\n",
        "\n",
        "print('Number of valid passwords: {}'.format(validcount))\n",
        "print('The answer to part one is: {}'.format(validcount))\n",
        "if example:\n",
        "    assert validcount == 2 # From problem description"
      ],
      "metadata": {
        "colab": {
          "base_uri": "https://localhost:8080/"
        },
        "id": "ODBhwCpuo86N",
        "outputId": "127fb1a7-6cbc-43c6-9e8b-1aebd3c9df39"
      },
      "execution_count": 51,
      "outputs": [
        {
          "output_type": "stream",
          "name": "stdout",
          "text": [
            "Number of valid passwords: 500\n",
            "The answer to part one is: 500\n"
          ]
        }
      ]
    },
    {
      "cell_type": "markdown",
      "source": [
        "# Part Two\n",
        "\n",
        "the minAssert and maxAssert actually describe positions in the password string\n",
        "\n",
        "To be valid, the 'letter' must be in exactly one of those to positions"
      ],
      "metadata": {
        "id": "b_09LKuXr9dO"
      }
    },
    {
      "cell_type": "code",
      "source": [
        "def checkIfValid2(line):\n",
        "    checkOne = line['password'][line['minAppear']-1] == line['letter']\n",
        "    checkTwo = line['password'][line['maxAppear']-1] == line['letter']\n",
        "    if checkOne != checkTwo:\n",
        "        return True\n",
        "    else:\n",
        "        return False"
      ],
      "metadata": {
        "id": "JHt2vWMFpMnW"
      },
      "execution_count": 52,
      "outputs": []
    },
    {
      "cell_type": "code",
      "source": [
        "validcount = 0\n",
        "for d in data:\n",
        "    if checkIfValid2(d):\n",
        "        validcount += 1\n",
        "\n",
        "print('Number of valid passwords: {}'.format(validcount))\n",
        "print('The answer to part two is: {}'.format(validcount))\n",
        "if example:\n",
        "    assert validcount == 1 # From problem description"
      ],
      "metadata": {
        "colab": {
          "base_uri": "https://localhost:8080/"
        },
        "id": "ULyYl-QspNX4",
        "outputId": "a2a78579-70c1-4846-dd0e-43ec61b9c3f1"
      },
      "execution_count": 53,
      "outputs": [
        {
          "output_type": "stream",
          "name": "stdout",
          "text": [
            "Number of valid passwords: 313\n",
            "The answer to part two is: 313\n"
          ]
        }
      ]
    },
    {
      "cell_type": "code",
      "source": [],
      "metadata": {
        "id": "yg1BSwqKpkAo"
      },
      "execution_count": null,
      "outputs": []
    }
  ]
}