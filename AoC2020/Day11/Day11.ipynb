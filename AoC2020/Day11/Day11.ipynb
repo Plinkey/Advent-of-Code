{
 "cells": [
  {
   "cell_type": "markdown",
   "source": "# Import Data",
   "metadata": {
    "tags": [],
    "cell_id": "00003-d07c85f5-14fb-4953-9f12-8f572312fe09",
    "deepnote_cell_type": "markdown"
   }
  },
  {
   "cell_type": "code",
   "metadata": {
    "tags": [],
    "cell_id": "00000-bc604725-f6bc-40aa-90d8-8a257dc5144b",
    "deepnote_to_be_reexecuted": false,
    "source_hash": "fc1846bc",
    "execution_start": 1637082213249,
    "execution_millis": 19,
    "deepnote_cell_type": "code"
   },
   "source": "import numpy as np\n# Start writing code here...\n#with open('Day11.example','r') as f:\n#    data = f.read().splitlines()\nwith open('Day11.input', 'r') as f:\n    data = f.read().splitlines()\n\nseats = np.empty([len(data), len(data[0])], dtype = str)\nfor idx, line in enumerate(data):\n    for jdx, char in enumerate(line):\n        seats[idx,jdx] = char\nprint(seats)",
   "execution_count": null,
   "outputs": [
    {
     "name": "stdout",
     "text": "[['L' 'L' 'L' ... 'L' 'L' 'L']\n ['.' 'L' 'L' ... 'L' 'L' 'L']\n ['L' 'L' 'L' ... 'L' 'L' 'L']\n ...\n ['L' 'L' 'L' ... '.' 'L' 'L']\n ['L' 'L' 'L' ... 'L' '.' 'L']\n ['L' 'L' 'L' ... 'L' 'L' 'L']]\n",
     "output_type": "stream"
    }
   ]
  },
  {
   "cell_type": "markdown",
   "source": "## Count Neighbors",
   "metadata": {
    "tags": [],
    "cell_id": "00004-c64a3c97-fc5a-4d1e-a0ff-1c0766d686da",
    "deepnote_cell_type": "markdown"
   }
  },
  {
   "cell_type": "code",
   "metadata": {
    "tags": [],
    "cell_id": "00005-a9106822-8c9b-4e2e-b4d4-7e64cbc6714d",
    "deepnote_to_be_reexecuted": false,
    "source_hash": "62e7aedf",
    "execution_start": 1637080629850,
    "execution_millis": 10,
    "deepnote_cell_type": "code"
   },
   "source": "# %% Count neighbors\ndef countNeighbors(row, col):\n    count = 0\n    # Previous Row\n    if row-1 >= 0:\n        if col -1 >= 0:\n            # print('Row: {} Col: {}'.format(row-1, col-1))\n            if seats[row-1, col-1] =='#':\n                count += 1\n        if col + 1 <= len(seats[0])-1:\n            # print('Row: {} Col: {}'.format(row-1, col+1))\n            if seats[row-1, col+1] == '#':\n                count += 1\n        if seats[row-1, col] == '#':\n            # print('Row: {} Col: {}'.format(row-1, col))\n            count += 1\n    # Next Row\n    if row + 1 <= len(seats)-1:\n        if col - 1 >= 0:\n            if seats[row+1, col-1] =='#':\n                count += 1\n        if col + 1 <= len(seats[0])-1:\n            if seats[row+1, col+1] == '#':\n                count += 1\n        if seats[row+1, col] == '#':\n            count += 1\n    # This Row\n    if col - 1 >= 0:\n        if seats[row, col-1] =='#':\n            count += 1\n    if col + 1 <= len(seats[0])-1:\n        if seats[row, col+1] == '#':\n            count += 1\n    return count",
   "execution_count": null,
   "outputs": []
  },
  {
   "cell_type": "markdown",
   "source": "## Next Generation",
   "metadata": {
    "tags": [],
    "cell_id": "00004-01ff7e0f-2a46-414f-b3fe-7df4332cffb9",
    "deepnote_cell_type": "markdown"
   }
  },
  {
   "cell_type": "code",
   "metadata": {
    "tags": [],
    "cell_id": "00005-0d160c39-6950-4e68-a224-bab119f5ad5f",
    "deepnote_to_be_reexecuted": false,
    "source_hash": "ccdd9cb2",
    "execution_start": 1637081847715,
    "execution_millis": 4,
    "deepnote_cell_type": "code"
   },
   "source": "# %% Next Generation\ndef nextStep(row,col):\n    n = countNeighbors(row,col)\n    if seats[row, col] == 'L':  # If seat unoccupied\n        if n == 0:\n            nextGen = '#'\n        else:\n            nextGen = 'L'\n    elif seats[row,col] == '#': # If seat occupied\n        if n >= 4:\n            nextGen = 'L'\n        else: \n            nextGen = '#'\n    else:\n        nextGen = seats[row, col]\n    return nextGen",
   "execution_count": null,
   "outputs": []
  },
  {
   "cell_type": "code",
   "metadata": {
    "tags": [],
    "cell_id": "00006-2b0f4abc-dbb0-491b-bb7a-d6f343ed975f",
    "deepnote_to_be_reexecuted": false,
    "source_hash": "388ff4a0",
    "execution_start": 1637081848175,
    "execution_millis": 12,
    "deepnote_cell_type": "code"
   },
   "source": "# %% Next Gen's map\ndef calcNextGen():\n    nextMap = np.empty([len(data),len(data[0])],dtype='str')\n    for row in range(len(seats)):\n        for col in range(len(seats[0])):\n            nextMap[row, col] = nextStep(row, col)\n    return nextMap\n\n# %% Count seats\ndef countOccupied(inGen):\n    count = 0\n    for i in inGen:\n        for j in i:\n            if j == '#':\n                count += 1\n    return count\n\n# %% Run n generations\ndef runIt(n):\n    global seats\n    while True:\n        if n <= 0:\n            break\n        seats = calcNextGen()\n        n -= 1\n    return seats",
   "execution_count": null,
   "outputs": []
  },
  {
   "cell_type": "code",
   "metadata": {
    "tags": [],
    "cell_id": "00007-e677920c-92b4-4c64-974b-e47bf282b000",
    "deepnote_to_be_reexecuted": false,
    "source_hash": "bfff3882",
    "execution_start": 1637080642019,
    "execution_millis": 3039,
    "deepnote_cell_type": "code"
   },
   "source": "while True:\n    print(countOccupied(seats))\n    seats = runIt(1)",
   "execution_count": null,
   "outputs": [
    {
     "name": "stdout",
     "text": "37\n37\n37\n37\n37\n37\n37\n37\n37\n37\n37\n37\n37\n37\n37\n37\n37\n37\n37\n37\n37\n37\n37\n37\n37\n37\n37\n37\n37\n37\n37\n37\n37\n37\n37\n37\n37\n37\n37\n37\n37\n37\n37\n37\n37\n37\n37\n37\n37\n37\n37\n37\n37\n37\n37\n37\n37\n37\n37\n37\n37\n37\n37\n37\n37\n37\n37\n37\n37\n37\n37\n37\n37\n37\n37\n37\n37\n37\n37\n37\n37\n37\n37\n37\n37\n37\n37\n37\n37\n37\n37\n37\n37\n37\n37\n37\n37\n37\n37\n37\n37\n37\n37\n37\n37\n37\n37\n37\n37\n37\n37\n37\n37\n37\n37\n37\n37\n37\n37\n37\n37\n37\n37\n37\n37\n37\n37\n37\n37\n37\n37\n37\n37\n37\n37\n37\n37\n37\n37\n37\n37\n37\n37\n37\n37\n37\n37\n37\n37\n37\n37\n37\n37\n37\n37\n37\n37\n37\n37\n37\n37\n37\n37\n37\n37\n37\n37\n37\n37\n37\n37\n37\n37\n37\n37\n37\n37\n37\n37\n37\n37\n37\n37\n37\n37\n37\n37\n37\n37\n37\n37\n37\n37\n37\n37\n37\n37\n37\n37\n37\n37\n37\n37\n37\n37\n37\n37\n37\n37\n37\n37\n37\n37\n37\n37\n37\n37\n37\n37\n37\n37\n37\n37\n37\n37\n37\n37\n37\n37\n37\n37\n37\n37\n37\n37\n37\n37\n37\n37\n37\n37\n37\n37\n37\n37\n37\n37\n37\n37\n37\n37\n37\n37\n37\n37\n37\n37\n37\n37\n37\n37\n37\n37\n37\n37\n37\n37\n37\n37\n37\n37\n37\n37\n37\n37\n37\n37\n37\n37\n37\n37\n37\n37\n37\n37\n37\n37\n37\n37\n37\n37\n37\n37\n37\n37\n37\n37\n37\n37\n37\n37\n37\n37\n37\n37\n37\n37\n37\n37\n37\n37\n37\n37\n37\n37\n37\n37\n37\n37\n37\n37\n37\n37\n37\n37\n37\n37\n37\n37\n37\n37\n37\n37\n37\n37\n37\n37\n37\n37\n37\n37\n37\n37\n37\n37\n37\n37\n37\n37\n37\n37\n37\n37\n37\n37\n37\n37\n37\n37\n37\n37\n37\n37\n37\n37\n37\n37\n37\n37\n37\n37\n37\n37\n37\n37\n37\n37\n37\n37\n37\n37\n37\n37\n37\n37\n37\n37\n37\n37\n37\n37\n37\n37\n37\n37\n37\n37\n37\n37\n37\n37\n37\n37\n37\n37\n37\n37\n37\n37\n37\n37\n37\n37\n37\n37\n37\n37\n37\n37\n37\n37\n37\n37\n37\n37\n37\n37\n37\n37\n37\n37\n37\n37\n37\n37\n37\n37\n37\n37\n37\n37\n37\n37\n37\n37\n37\n37\n37\n37\n37\n37\n37\n37\n37\n37\n37\n37\n37\n37\n37\n37\n37\n37\n37\n37\n37\n37\n37\n37\n37\n37\n37\n37\n37\n37\n37\n37\n37\n37\n37\n37\n37\n37\n37\n37\n37\n37\n37\n37\n37\n37\n37\n37\n37\n37\n37\n37\n37\n37\n37\n37\n37\n37\n37\n37\n37\n37\n37\n37\n37\n37\n37\n37\n37\n37\n37\n37\n37\n37\n37\n37\n37\n37\n37\n37\n37\n37\n37\n37\n37\n37\n37\n37\n37\n37\n37\n37\n37\n37\n37\n37\n37\n37\n37\n37\n37\n37\n37\n37\n37\n37\n37\n37\n37\n37\n37\n37\n37\n37\n37\n37\n37\n37\n37\n37\n37\n37\n37\n37\n37\n37\n37\n37\n37\n37\n37\n37\n37\n37\n37\n37\n37\n37\n37\n37\n37\n37\n37\n37\n37\n37\n37\n37\n37\n37\n37\n37\n37\n37\n37\n37\n37\n37\n37\n37\n37\n37\n37\n37\n37\n37\n37\n37\n37\n37\n37\n37\n37\n37\n37\n37\n37\n37\n37\n37\n37\n37\n37\n37\n37\n37\n37\n37\n37\n37\n37\n37\n37\n37\n37\n37\n37\n37\n37\n37\n37\n37\n37\n37\n37\n37\n37\n37\n37\n37\n37\n37\n37\n37\n37\n37\n37\n37\n37\n37\n37\n37\n37\n37\n37\n37\n37\n37\n37\n37\n37\n37\n37\n37\n37\n37\n37\n37\n37\n37\n37\n37\n37\n37\n37\n37\n37\n37\n37\n37\n37\n37\n37\n37\n37\n37\n37\n37\n37\n37\n37\n37\n37\n37\n37\n37\n37\n37\n37\n37\n37\n37\n37\n37\n37\n37\n37\n37\n37\n37\n37\n37\n37\n37\n37\n37\n37\n37\n37\n37\n37\n37\n37\n37\n37\n37\n37\n37\n37\n37\n37\n37\n37\n37\n37\n37\n37\n37\n37\n37\n37\n37\n37\n37\n37\n37\n37\n37\n37\n37\n37\n37\n37\n37\n37\n37\n37\n37\n37\n37\n37\n37\n37\n37\n37\n37\n37\n37\n37\n37\n37\n37\n37\n37\n37\n37\n37\n37\n37\n37\n37\n37\n37\n37\n37\n37\n37\n37\n37\n37\n37\n37\n37\n37\n37\n37\n37\n37\n37\n37\n37\n37\n37\n37\n37\n37\n37\n37\n37\n37\n37\n37\n37\n37\n37\n37\n37\n37\n37\n37\n37\n37\n37\n37\n37\n37\n37\n37\n37\n37\n37\n37\n37\n37\n37\n37\n37\n37\n37\n37\n37\n37\n37\n37\n37\n37\n37\n37\n37\n37\n37\n37\n37\n37\n37\n37\n37\n37\n37\n37\n37\n37\n37\n37\n37\n37\n37\n37\n37\n37\n37\n37\n37\n37\n37\n37\n37\n37\n37\n37\n37\n37\n37\n37\n37\n37\n37\n37\n37\n37\n37\n37\n37\n37\n37\n37\n37\n37\n37\n37\n37\n37\n37\n37\n37\n37\n37\n37\n37\n37\n37\n37\n37\n37\n37\n37\n37\n37\n37\n37\n37\n37\n37\n37\n37\n37\n37\n37\n37\n37\n37\n37\n37\n37\n37\n37\n37\n37\n37\n37\n37\n37\n37\n37\n37\n37\n37\n37\n37\n37\n37\n37\n37\n37\n37\n37\n37\n37\n37\n37\n37\n37\n37\n37\n37\n37\n37\n37\n37\n37\n37\n37\n37\n37\n37\n37\n37\n37\n37\n37\n37\n37\n37\n37\n",
     "output_type": "stream"
    },
    {
     "output_type": "error",
     "ename": "KeyboardInterrupt",
     "evalue": "",
     "traceback": [
      "\u001b[0;31m---------------------------------------------------------------------------\u001b[0m",
      "\u001b[0;31mKeyboardInterrupt\u001b[0m                         Traceback (most recent call last)",
      "\u001b[0;32m<ipython-input-32-ee424aa368d3>\u001b[0m in \u001b[0;36m<module>\u001b[0;34m\u001b[0m\n\u001b[1;32m      1\u001b[0m \u001b[0;32mwhile\u001b[0m \u001b[0;32mTrue\u001b[0m\u001b[0;34m:\u001b[0m\u001b[0;34m\u001b[0m\u001b[0;34m\u001b[0m\u001b[0m\n\u001b[0;32m----> 2\u001b[0;31m     \u001b[0mprint\u001b[0m\u001b[0;34m(\u001b[0m\u001b[0mcountOccupied\u001b[0m\u001b[0;34m(\u001b[0m\u001b[0mseats\u001b[0m\u001b[0;34m)\u001b[0m\u001b[0;34m)\u001b[0m\u001b[0;34m\u001b[0m\u001b[0;34m\u001b[0m\u001b[0m\n\u001b[0m\u001b[1;32m      3\u001b[0m     \u001b[0mseats\u001b[0m \u001b[0;34m=\u001b[0m \u001b[0mrunIt\u001b[0m\u001b[0;34m(\u001b[0m\u001b[0;36m1\u001b[0m\u001b[0;34m)\u001b[0m\u001b[0;34m\u001b[0m\u001b[0;34m\u001b[0m\u001b[0m\n",
      "\u001b[0;32m<ipython-input-31-eaf570224848>\u001b[0m in \u001b[0;36mcountOccupied\u001b[0;34m(inGen)\u001b[0m\n\u001b[1;32m     10\u001b[0m \u001b[0;32mdef\u001b[0m \u001b[0mcountOccupied\u001b[0m\u001b[0;34m(\u001b[0m\u001b[0minGen\u001b[0m\u001b[0;34m)\u001b[0m\u001b[0;34m:\u001b[0m\u001b[0;34m\u001b[0m\u001b[0;34m\u001b[0m\u001b[0m\n\u001b[1;32m     11\u001b[0m     \u001b[0mcount\u001b[0m \u001b[0;34m=\u001b[0m \u001b[0;36m0\u001b[0m\u001b[0;34m\u001b[0m\u001b[0;34m\u001b[0m\u001b[0m\n\u001b[0;32m---> 12\u001b[0;31m     \u001b[0;32mfor\u001b[0m \u001b[0mi\u001b[0m \u001b[0;32min\u001b[0m \u001b[0minGen\u001b[0m\u001b[0;34m:\u001b[0m\u001b[0;34m\u001b[0m\u001b[0;34m\u001b[0m\u001b[0m\n\u001b[0m\u001b[1;32m     13\u001b[0m         \u001b[0;32mfor\u001b[0m \u001b[0mj\u001b[0m \u001b[0;32min\u001b[0m \u001b[0mi\u001b[0m\u001b[0;34m:\u001b[0m\u001b[0;34m\u001b[0m\u001b[0;34m\u001b[0m\u001b[0m\n\u001b[1;32m     14\u001b[0m             \u001b[0;32mif\u001b[0m \u001b[0mj\u001b[0m \u001b[0;34m==\u001b[0m \u001b[0;34m'#'\u001b[0m\u001b[0;34m:\u001b[0m\u001b[0;34m\u001b[0m\u001b[0;34m\u001b[0m\u001b[0m\n",
      "\u001b[0;31mKeyboardInterrupt\u001b[0m: "
     ]
    }
   ]
  },
  {
   "cell_type": "markdown",
   "source": "# PART TWO\nStarted on this 16 Nov 2021",
   "metadata": {
    "tags": [],
    "cell_id": "00008-b52d5c1c-35e0-4d0a-8ef6-a5665085567c",
    "deepnote_cell_type": "markdown"
   }
  },
  {
   "cell_type": "code",
   "metadata": {
    "tags": [],
    "cell_id": "00009-48aeb428-9745-4c2a-8365-1bc68b87649f",
    "deepnote_to_be_reexecuted": false,
    "source_hash": "a9ebe905",
    "execution_start": 1637082141735,
    "execution_millis": 5,
    "deepnote_cell_type": "code"
   },
   "source": "print(seats)\ndef countUP(seats,start):\n    row = start[0]\n    col = start[1]\n    cRow = row-1\n    count = 0\n    while cRow >= 0:\n        if seats[cRow, col] == '#':\n            count += 1\n            break\n        if seats[cRow, col] == 'L': #view blocked\n            break\n        cRow = cRow - 1\n    return count\n\ndef countDown(seats,start):\n    row = start[0]\n    col = start[1]\n    cRow = row+1\n    count = 0\n    while cRow <= len(seats[:,0])-1:\n        if seats[cRow, col] == '#':\n            count += 1\n            break\n        if seats[cRow, col] == 'L': #view blocked\n            break\n        cRow = cRow + 1\n    return count    \n",
   "execution_count": null,
   "outputs": [
    {
     "name": "stdout",
     "text": "[['#' '.' '#' '#' '.' '#' '#' '.' 'L' '#']\n ['#' 'L' '#' '#' '#' '#' '#' '.' 'L' 'L']\n ['L' '.' '#' '.' '#' '.' '.' '#' '.' '.']\n ['#' '#' '#' '#' '.' '#' '#' '.' '#' '#']\n ['#' '.' '#' '#' '.' '#' '#' '.' '#' '#']\n ['#' '.' '#' '#' '#' '#' '#' '.' '#' '#']\n ['.' '.' '#' '.' '#' '.' '.' '.' '.' '.']\n ['L' 'L' '#' '#' '#' '#' '#' '#' 'L' '#']\n ['#' '.' '#' '#' '#' '#' '#' '#' '.' 'L']\n ['#' '.' '#' '#' '#' '#' '#' '.' 'L' '#']]\n",
     "output_type": "stream"
    }
   ]
  },
  {
   "cell_type": "code",
   "metadata": {
    "tags": [],
    "cell_id": "00012-12df246d-0fe9-40c4-a9eb-5c0f063c4860",
    "deepnote_to_be_reexecuted": false,
    "source_hash": "aedac7cb",
    "execution_start": 1637082143009,
    "execution_millis": 9,
    "deepnote_cell_type": "code"
   },
   "source": "def countRight(seats,start):\n    row = start[0]\n    col = start[1]\n    cCol = col + 1 \n    count = 0\n    while cCol <= len(seats[0,:])-1:\n        #print ('Looking at [{},{}] = {}'.format(row,cCol, seats[row,cCol]))\n\n        if seats[row, cCol] == '#':\n            count += 1\n            break\n        if seats[row, cCol] == 'L': #view blocked\n            break\n        cCol = cCol + 1\n    return count \n\ndef countLeft(seats,start):\n    row = start[0]\n    col = start[1]\n    cCol = col - 1\n    count = 0\n    while cCol >= 0:\n        #print ('Looking at [{},{}] = {}'.format(row,cCol, seats[row,cCol]))\n        if seats[row,cCol] == '#':\n            count += 1\n            break\n        if seats[row,cCol] == 'L': #view blocked\n            break\n        cCol = cCol -1\n    return count",
   "execution_count": null,
   "outputs": []
  },
  {
   "cell_type": "code",
   "metadata": {
    "tags": [],
    "cell_id": "00015-3b581873-7013-41c7-b93f-c2713280591a",
    "deepnote_to_be_reexecuted": false,
    "source_hash": "70110699",
    "execution_start": 1637082144684,
    "execution_millis": 2,
    "deepnote_cell_type": "code"
   },
   "source": "def diagUR(seats,start):\n    row = start[0]\n    col = start[1]\n    cRow = row -1\n    cCol = col +1\n    count = 0\n    while True:\n        if cRow < 0:\n            break\n        if cCol > len(seats[0,:])-1:\n            break\n        #print ('Looking at [{},{}] = {}'.format(cRow,cCol, seats[cRow,cCol]))\n        if seats[cRow,cCol] == '#':\n            count += 1\n            break\n        if seats[cRow, cCol] == 'L': #view blocked\n            break\n        cRow = cRow -1\n        cCol = cCol +1\n    return count",
   "execution_count": null,
   "outputs": []
  },
  {
   "cell_type": "code",
   "metadata": {
    "tags": [],
    "cell_id": "00017-0aeaad3a-7689-4a31-b164-d0d6d4876f64",
    "deepnote_to_be_reexecuted": false,
    "source_hash": "4fc866b",
    "execution_start": 1637082146007,
    "execution_millis": 7,
    "deepnote_cell_type": "code"
   },
   "source": "def diagUL(seats,start):\n    row = start[0]\n    col = start[1]\n    cRow = row -1\n    cCol = col -1\n    count = 0\n    while True:\n        if cRow < 0:\n            break\n        if cCol < 0:\n            break\n        #print ('Looking at [{},{}] = {}'.format(cRow,cCol, seats[cRow,cCol]))\n        if seats[cRow,cCol] == '#':\n            count += 1\n            break\n        if seats[cRow, cCol] == 'L': #viewblocked\n            break\n        cRow = cRow -1\n        cCol = cCol -1\n    return count",
   "execution_count": null,
   "outputs": []
  },
  {
   "cell_type": "code",
   "metadata": {
    "tags": [],
    "cell_id": "00019-044da269-f501-405c-8a0a-450f01941d93",
    "deepnote_to_be_reexecuted": false,
    "source_hash": "57944121",
    "execution_start": 1637082146672,
    "execution_millis": 24,
    "deepnote_cell_type": "code"
   },
   "source": "def diagDL(seats,start):\n    row = start[0]\n    col = start[1]\n    cRow = row +1\n    cCol = col -1\n    count = 0\n    while True:\n        if cRow > len(seats[:,0])-1:\n            break\n        if cCol < 0:\n            break\n        #print ('Looking at [{},{}] = {}'.format(cRow,cCol, seats[cRow,cCol]))\n        if seats[cRow,cCol] == '#':\n            count += 1\n            break\n        if seats[cRow,cCol] == 'L':\n            break\n        cRow = cRow +1\n        cCol = cCol -1\n    return count",
   "execution_count": null,
   "outputs": []
  },
  {
   "cell_type": "code",
   "metadata": {
    "tags": [],
    "cell_id": "00021-f861c365-e9b6-4f84-afcc-725744c99399",
    "deepnote_to_be_reexecuted": false,
    "source_hash": "f5f71b42",
    "execution_start": 1637082147852,
    "execution_millis": 0,
    "deepnote_cell_type": "code"
   },
   "source": "def diagDR(seats,start):\n    row = start[0]\n    col = start[1]\n    cRow = row +1\n    cCol = col +1\n    count = 0\n    while True:\n        if cRow > len(seats[:,0])-1:\n            break\n        if cCol > len(seats[0,:])-1:\n            break\n        #print ('Looking at [{},{}] = {}'.format(cRow,cCol, seats[cRow,cCol]))\n        if seats[cRow,cCol] == '#':\n            count += 1\n            break\n        if seats[cRow, cCol] == 'L':\n            break\n        cRow = cRow +1\n        cCol = cCol +1\n    return count",
   "execution_count": null,
   "outputs": []
  },
  {
   "cell_type": "code",
   "metadata": {
    "tags": [],
    "cell_id": "00015-dfebff11-bf21-43b2-a6bd-34f455ba6d3d",
    "deepnote_to_be_reexecuted": false,
    "source_hash": "d3405aac",
    "execution_start": 1637082148371,
    "execution_millis": 0,
    "deepnote_cell_type": "code"
   },
   "source": "def countNeighbors2(row,col):\n    n = 0\n    n += countUP(seats,[row,col])\n    n += countDown(seats,[row,col])\n    n += countLeft(seats,[row,col])\n    n += countRight(seats,[row,col])\n    n += diagUR(seats,[row,col])\n    n += diagUL(seats,[row,col])\n    n += diagDL(seats,[row,col])\n    #print('row: {}, col: {}'.format(row, col))\n    n += diagDR(seats,[row,col])\n    return n",
   "execution_count": null,
   "outputs": []
  },
  {
   "cell_type": "code",
   "metadata": {
    "tags": [],
    "cell_id": "00023-fab92fd7-2084-4ce8-9486-a480599de4a5",
    "deepnote_to_be_reexecuted": false,
    "source_hash": "3aa4c7d6",
    "execution_start": 1637082149530,
    "execution_millis": 3,
    "deepnote_cell_type": "code"
   },
   "source": "def nextStepPt2(row,col):\n    n = countNeighbors2(row,col)\n    if seats[row, col] == 'L':  # If seat unoccupied\n        if n == 0:\n            nextGen = '#'\n        else:\n            nextGen = 'L'\n    elif seats[row,col] == '#': # If seat occupied\n        if n >= 5:\n            nextGen = 'L'\n        else: \n            nextGen = '#'\n    else:\n        nextGen = seats[row, col]\n    return nextGen",
   "execution_count": null,
   "outputs": []
  },
  {
   "cell_type": "code",
   "metadata": {
    "tags": [],
    "cell_id": "00017-2c8ef0aa-dec8-43d5-9e66-7dc9d699ac57",
    "deepnote_to_be_reexecuted": false,
    "source_hash": "fa514e45",
    "execution_start": 1637082150792,
    "execution_millis": 11,
    "deepnote_cell_type": "code"
   },
   "source": "def calcNextGen2():\n    nextMap = np.empty([len(data),len(data[0])],dtype='str')\n    for row in range(len(seats)):\n        for col in range(len(seats[0])):\n            nextMap[row, col] = nextStepPt2(row, col)\n    return nextMap\n\n# %% Count seats\ndef countOccupied(inGen):\n    count = 0\n    for i in inGen:\n        for j in i:\n            if j == '#':\n                count += 1\n    return count\n\n# %% Run n generations\ndef runIt(n):\n    global seats\n    while True:\n        if n <= 0:\n            break\n        seats = calcNextGen2()\n        n -= 1\n    return seats",
   "execution_count": null,
   "outputs": []
  },
  {
   "cell_type": "code",
   "metadata": {
    "tags": [],
    "cell_id": "00022-c3d49e33-6456-4e06-870d-e5bb9f3ce817",
    "deepnote_to_be_reexecuted": false,
    "source_hash": "467207de",
    "execution_start": 1637082162598,
    "execution_millis": 9,
    "deepnote_cell_type": "code"
   },
   "source": "print(seats)",
   "execution_count": null,
   "outputs": [
    {
     "name": "stdout",
     "text": "[['L' '.' 'L' 'L' '.' 'L' 'L' '.' 'L' 'L']\n ['L' 'L' 'L' 'L' 'L' 'L' 'L' '.' 'L' 'L']\n ['L' '.' 'L' '.' 'L' '.' '.' 'L' '.' '.']\n ['L' 'L' 'L' 'L' '.' 'L' 'L' '.' 'L' 'L']\n ['L' '.' 'L' 'L' '.' 'L' 'L' '.' 'L' 'L']\n ['L' '.' 'L' 'L' 'L' 'L' 'L' '.' 'L' 'L']\n ['.' '.' 'L' '.' 'L' '.' '.' '.' '.' '.']\n ['L' 'L' 'L' 'L' 'L' 'L' 'L' 'L' 'L' 'L']\n ['L' '.' 'L' 'L' 'L' 'L' 'L' 'L' '.' 'L']\n ['L' '.' 'L' 'L' 'L' 'L' 'L' '.' 'L' 'L']]\n",
     "output_type": "stream"
    }
   ]
  },
  {
   "cell_type": "code",
   "metadata": {
    "tags": [],
    "cell_id": "00019-36f38fbe-7162-4288-9626-47efbafbfe96",
    "deepnote_to_be_reexecuted": false,
    "source_hash": "86fecbab",
    "execution_start": 1637082180536,
    "execution_millis": 9,
    "deepnote_cell_type": "code"
   },
   "source": "seats = calcNextGen2()\nprint(seats)",
   "execution_count": null,
   "outputs": [
    {
     "name": "stdout",
     "text": "[['#' '.' 'L' '#' '.' '#' '#' '.' 'L' '#']\n ['#' 'L' '#' '#' '#' '#' '#' '.' 'L' 'L']\n ['L' '.' '#' '.' '#' '.' '.' '#' '.' '.']\n ['#' '#' 'L' '#' '.' '#' '#' '.' '#' '#']\n ['#' '.' '#' '#' '.' '#' 'L' '.' '#' '#']\n ['#' '.' '#' '#' '#' '#' '#' '.' '#' 'L']\n ['.' '.' '#' '.' '#' '.' '.' '.' '.' '.']\n ['L' 'L' 'L' '#' '#' '#' '#' 'L' 'L' '#']\n ['#' '.' 'L' '#' '#' '#' '#' '#' '.' 'L']\n ['#' '.' 'L' '#' '#' '#' '#' '.' 'L' '#']]\n",
     "output_type": "stream"
    }
   ]
  },
  {
   "cell_type": "code",
   "metadata": {
    "tags": [],
    "cell_id": "00020-86df8c30-2ff0-4fed-b32d-81857bb73017",
    "deepnote_to_be_reexecuted": false,
    "source_hash": "bfff3882",
    "execution_start": 1637082223369,
    "execution_millis": 32468,
    "deepnote_cell_type": "code"
   },
   "source": "while True:\n    print(countOccupied(seats))\n    seats = runIt(1)",
   "execution_count": null,
   "outputs": [
    {
     "name": "stdout",
     "text": "0\n7277\n5\n7264\n14\n7238\n28\n7199\n45\n7148\n65\n7086\n91\n7009\n120\n6922\n153\n6827\n190\n6726\n234\n6606\n276\n6480\n329\n6339\n386\n6189\n447\n6029\n510\n5862\n576\n5677\n648\n5470\n724\n5259\n803\n5041\n886\n4809\n972\n4585\n1066\n4360\n1158\n4133\n1243\n3925\n1320\n3728\n1398\n3532\n1470\n3374\n1536\n3212\n1597\n3056\n1659\n2914\n1716\n2777\n1766\n2661\n1808\n2556\n1848\n2462\n1883\n2376\n1914\n2302\n1947\n2227\n1973\n2163\n1996\n2111\n2016\n2069\n2030\n2047\n2037\n2039\n2039\n2039\n2039\n2039\n2039\n2039\n2039\n2039\n2039\n2039\n2039\n2039\n2039\n2039\n2039\n2039\n2039\n2039\n2039\n2039\n2039\n2039\n2039\n2039\n2039\n2039\n2039\n2039\n2039\n2039\n2039\n2039\n2039\n2039\n2039\n2039\n",
     "output_type": "stream"
    },
    {
     "output_type": "error",
     "ename": "KeyboardInterrupt",
     "evalue": "",
     "traceback": [
      "\u001b[0;31m---------------------------------------------------------------------------\u001b[0m",
      "\u001b[0;31mKeyboardInterrupt\u001b[0m                         Traceback (most recent call last)",
      "\u001b[0;32m<ipython-input-129-ee424aa368d3>\u001b[0m in \u001b[0;36m<module>\u001b[0;34m\u001b[0m\n\u001b[1;32m      1\u001b[0m \u001b[0;32mwhile\u001b[0m \u001b[0;32mTrue\u001b[0m\u001b[0;34m:\u001b[0m\u001b[0;34m\u001b[0m\u001b[0;34m\u001b[0m\u001b[0m\n\u001b[1;32m      2\u001b[0m     \u001b[0mprint\u001b[0m\u001b[0;34m(\u001b[0m\u001b[0mcountOccupied\u001b[0m\u001b[0;34m(\u001b[0m\u001b[0mseats\u001b[0m\u001b[0;34m)\u001b[0m\u001b[0;34m)\u001b[0m\u001b[0;34m\u001b[0m\u001b[0;34m\u001b[0m\u001b[0m\n\u001b[0;32m----> 3\u001b[0;31m     \u001b[0mseats\u001b[0m \u001b[0;34m=\u001b[0m \u001b[0mrunIt\u001b[0m\u001b[0;34m(\u001b[0m\u001b[0;36m1\u001b[0m\u001b[0;34m)\u001b[0m\u001b[0;34m\u001b[0m\u001b[0;34m\u001b[0m\u001b[0m\n\u001b[0m",
      "\u001b[0;32m<ipython-input-120-37b69e87bc64>\u001b[0m in \u001b[0;36mrunIt\u001b[0;34m(n)\u001b[0m\n\u001b[1;32m     21\u001b[0m         \u001b[0;32mif\u001b[0m \u001b[0mn\u001b[0m \u001b[0;34m<=\u001b[0m \u001b[0;36m0\u001b[0m\u001b[0;34m:\u001b[0m\u001b[0;34m\u001b[0m\u001b[0;34m\u001b[0m\u001b[0m\n\u001b[1;32m     22\u001b[0m             \u001b[0;32mbreak\u001b[0m\u001b[0;34m\u001b[0m\u001b[0;34m\u001b[0m\u001b[0m\n\u001b[0;32m---> 23\u001b[0;31m         \u001b[0mseats\u001b[0m \u001b[0;34m=\u001b[0m \u001b[0mcalcNextGen2\u001b[0m\u001b[0;34m(\u001b[0m\u001b[0;34m)\u001b[0m\u001b[0;34m\u001b[0m\u001b[0;34m\u001b[0m\u001b[0m\n\u001b[0m\u001b[1;32m     24\u001b[0m         \u001b[0mn\u001b[0m \u001b[0;34m-=\u001b[0m \u001b[0;36m1\u001b[0m\u001b[0;34m\u001b[0m\u001b[0;34m\u001b[0m\u001b[0m\n\u001b[1;32m     25\u001b[0m     \u001b[0;32mreturn\u001b[0m \u001b[0mseats\u001b[0m\u001b[0;34m\u001b[0m\u001b[0;34m\u001b[0m\u001b[0m\n",
      "\u001b[0;32m<ipython-input-120-37b69e87bc64>\u001b[0m in \u001b[0;36mcalcNextGen2\u001b[0;34m()\u001b[0m\n\u001b[1;32m      3\u001b[0m     \u001b[0;32mfor\u001b[0m \u001b[0mrow\u001b[0m \u001b[0;32min\u001b[0m \u001b[0mrange\u001b[0m\u001b[0;34m(\u001b[0m\u001b[0mlen\u001b[0m\u001b[0;34m(\u001b[0m\u001b[0mseats\u001b[0m\u001b[0;34m)\u001b[0m\u001b[0;34m)\u001b[0m\u001b[0;34m:\u001b[0m\u001b[0;34m\u001b[0m\u001b[0;34m\u001b[0m\u001b[0m\n\u001b[1;32m      4\u001b[0m         \u001b[0;32mfor\u001b[0m \u001b[0mcol\u001b[0m \u001b[0;32min\u001b[0m \u001b[0mrange\u001b[0m\u001b[0;34m(\u001b[0m\u001b[0mlen\u001b[0m\u001b[0;34m(\u001b[0m\u001b[0mseats\u001b[0m\u001b[0;34m[\u001b[0m\u001b[0;36m0\u001b[0m\u001b[0;34m]\u001b[0m\u001b[0;34m)\u001b[0m\u001b[0;34m)\u001b[0m\u001b[0;34m:\u001b[0m\u001b[0;34m\u001b[0m\u001b[0;34m\u001b[0m\u001b[0m\n\u001b[0;32m----> 5\u001b[0;31m             \u001b[0mnextMap\u001b[0m\u001b[0;34m[\u001b[0m\u001b[0mrow\u001b[0m\u001b[0;34m,\u001b[0m \u001b[0mcol\u001b[0m\u001b[0;34m]\u001b[0m \u001b[0;34m=\u001b[0m \u001b[0mnextStepPt2\u001b[0m\u001b[0;34m(\u001b[0m\u001b[0mrow\u001b[0m\u001b[0;34m,\u001b[0m \u001b[0mcol\u001b[0m\u001b[0;34m)\u001b[0m\u001b[0;34m\u001b[0m\u001b[0;34m\u001b[0m\u001b[0m\n\u001b[0m\u001b[1;32m      6\u001b[0m     \u001b[0;32mreturn\u001b[0m \u001b[0mnextMap\u001b[0m\u001b[0;34m\u001b[0m\u001b[0;34m\u001b[0m\u001b[0m\n\u001b[1;32m      7\u001b[0m \u001b[0;34m\u001b[0m\u001b[0m\n",
      "\u001b[0;32m<ipython-input-119-6b4b620ca2fb>\u001b[0m in \u001b[0;36mnextStepPt2\u001b[0;34m(row, col)\u001b[0m\n\u001b[1;32m      6\u001b[0m         \u001b[0;32melse\u001b[0m\u001b[0;34m:\u001b[0m\u001b[0;34m\u001b[0m\u001b[0;34m\u001b[0m\u001b[0m\n\u001b[1;32m      7\u001b[0m             \u001b[0mnextGen\u001b[0m \u001b[0;34m=\u001b[0m \u001b[0;34m'L'\u001b[0m\u001b[0;34m\u001b[0m\u001b[0;34m\u001b[0m\u001b[0m\n\u001b[0;32m----> 8\u001b[0;31m     \u001b[0;32melif\u001b[0m \u001b[0mseats\u001b[0m\u001b[0;34m[\u001b[0m\u001b[0mrow\u001b[0m\u001b[0;34m,\u001b[0m\u001b[0mcol\u001b[0m\u001b[0;34m]\u001b[0m \u001b[0;34m==\u001b[0m \u001b[0;34m'#'\u001b[0m\u001b[0;34m:\u001b[0m \u001b[0;31m# If seat occupied\u001b[0m\u001b[0;34m\u001b[0m\u001b[0;34m\u001b[0m\u001b[0m\n\u001b[0m\u001b[1;32m      9\u001b[0m         \u001b[0;32mif\u001b[0m \u001b[0mn\u001b[0m \u001b[0;34m>=\u001b[0m \u001b[0;36m5\u001b[0m\u001b[0;34m:\u001b[0m\u001b[0;34m\u001b[0m\u001b[0;34m\u001b[0m\u001b[0m\n\u001b[1;32m     10\u001b[0m             \u001b[0mnextGen\u001b[0m \u001b[0;34m=\u001b[0m \u001b[0;34m'L'\u001b[0m\u001b[0;34m\u001b[0m\u001b[0;34m\u001b[0m\u001b[0m\n",
      "\u001b[0;31mKeyboardInterrupt\u001b[0m: "
     ]
    }
   ]
  },
  {
   "cell_type": "code",
   "metadata": {
    "tags": [],
    "cell_id": "00021-cb884123-c8f2-4c2c-821b-ae13173d7324",
    "deepnote_cell_type": "code"
   },
   "source": "",
   "execution_count": null,
   "outputs": []
  },
  {
   "cell_type": "markdown",
   "source": "<a style='text-decoration:none;line-height:16px;display:flex;color:#5B5B62;padding:10px;justify-content:end;' href='https://deepnote.com?utm_source=created-in-deepnote-cell&projectId=46a9121c-ea8c-4783-8e8c-8510236cdc7a' target=\"_blank\">\n<img alt='Created in deepnote.com' style='display:inline;max-height:16px;margin:0px;margin-right:7.5px;' src='data:image/svg+xml;base64,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' > </img>\nCreated in <span style='font-weight:600;margin-left:4px;'>Deepnote</span></a>",
   "metadata": {
    "tags": [],
    "created_in_deepnote_cell": true,
    "deepnote_cell_type": "markdown"
   }
  }
 ],
 "nbformat": 4,
 "nbformat_minor": 2,
 "metadata": {
  "orig_nbformat": 2,
  "deepnote": {
   "is_reactive": false
  },
  "deepnote_notebook_id": "cc5ba281-a3a3-4ffc-b424-75be56554832",
  "deepnote_execution_queue": []
 }
}