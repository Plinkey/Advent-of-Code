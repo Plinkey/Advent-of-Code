{
  "nbformat": 4,
  "nbformat_minor": 0,
  "metadata": {
    "colab": {
      "provenance": []
    },
    "kernelspec": {
      "name": "python3",
      "display_name": "Python 3"
    },
    "language_info": {
      "name": "python"
    }
  },
  "cells": [
    {
      "cell_type": "markdown",
      "source": [
        "# Advent of Code 2022 Day 03\n",
        "https://adventofcode.com/2020/day/3"
      ],
      "metadata": {
        "id": "I5kGLMeumtYw"
      }
    },
    {
      "cell_type": "code",
      "execution_count": 1,
      "metadata": {
        "id": "Yo0b5TvFme8t"
      },
      "outputs": [],
      "source": [
        "import numpy as np"
      ]
    },
    {
      "cell_type": "markdown",
      "metadata": {
        "id": "TJsjk-bVoi7P"
      },
      "source": [
        "# Pull in data, process as necessary\n"
      ]
    },
    {
      "cell_type": "code",
      "execution_count": 2,
      "metadata": {
        "id": "jM98twppoiu9"
      },
      "outputs": [],
      "source": [
        "# Change this flag to work with the given example instead of real data\n",
        "example = False\n",
        "\n",
        "\n",
        "if example:\n",
        "    filename = 'inputs/Day03.example'\n",
        "else:\n",
        "    filename = 'inputs/Day03.input'\n",
        "\n",
        "with open(filename,'r') as f:\n",
        "    data = f.read().splitlines()\n"
      ]
    },
    {
      "cell_type": "markdown",
      "source": [
        "# Part One"
      ],
      "metadata": {
        "id": "zxKHZ-m1naOx"
      }
    },
    {
      "cell_type": "code",
      "source": [
        "right = 1\n",
        "down = 2\n",
        "treeCount = 0\n",
        "xPos = 0\n",
        "yPos = 0\n",
        "while True:\n",
        "    if data[yPos][xPos] == '#':\n",
        "        treeCount += 1\n",
        "    xPos = (xPos + right) % len(data[yPos])\n",
        "    yPos += down\n",
        "    if yPos >= len(data):\n",
        "        break\n",
        "\n",
        "print(treeCount)"
      ],
      "metadata": {
        "colab": {
          "base_uri": "https://localhost:8080/"
        },
        "id": "B9cetcvUnQ_3",
        "outputId": "be841e93-9ed0-47b4-9347-6e89ad7ae105"
      },
      "execution_count": 3,
      "outputs": [
        {
          "output_type": "stream",
          "name": "stdout",
          "text": [
            "34\n"
          ]
        }
      ]
    },
    {
      "cell_type": "markdown",
      "source": [
        "# Part Two\n",
        "Checking many slopes"
      ],
      "metadata": {
        "id": "PlBXhPpNnyfJ"
      }
    },
    {
      "cell_type": "code",
      "source": [
        "def checkSlopes(right, down):\n",
        "    treeCount = 0\n",
        "    xPos = 0\n",
        "    yPos = 0\n",
        "    while True:\n",
        "        if data[yPos][xPos] == '#':\n",
        "            treeCount += 1\n",
        "        xPos = (xPos + right) % len(data[yPos])\n",
        "        yPos += down\n",
        "        if yPos >= len(data):\n",
        "            break\n",
        "    return treeCount"
      ],
      "metadata": {
        "id": "UXKHbMy8rn2x"
      },
      "execution_count": 4,
      "outputs": []
    },
    {
      "cell_type": "code",
      "source": [
        "#from the problem description\n",
        "slopes = [[1,1],\n",
        "          [3,1],\n",
        "          [5,1],\n",
        "          [7,1],\n",
        "          [1,2]]"
      ],
      "metadata": {
        "id": "akgH5dJDrv_X"
      },
      "execution_count": 5,
      "outputs": []
    },
    {
      "cell_type": "code",
      "source": [
        "trees = []\n",
        "for sl in slopes:\n",
        "    trees.append(checkSlopes(*sl))\n",
        "\n",
        "np.prod(trees)"
      ],
      "metadata": {
        "colab": {
          "base_uri": "https://localhost:8080/"
        },
        "id": "WW2e4YaKrv52",
        "outputId": "4afad47e-e35b-4180-f02b-5f2ed3c7505d"
      },
      "execution_count": 6,
      "outputs": [
        {
          "output_type": "execute_result",
          "data": {
            "text/plain": [
              "3154761400"
            ]
          },
          "metadata": {},
          "execution_count": 6
        }
      ]
    }
  ]
}