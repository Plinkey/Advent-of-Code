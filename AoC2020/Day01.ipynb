{
  "nbformat": 4,
  "nbformat_minor": 0,
  "metadata": {
    "colab": {
      "provenance": []
    },
    "kernelspec": {
      "name": "python3",
      "display_name": "Python 3"
    },
    "language_info": {
      "name": "python"
    }
  },
  "cells": [
    {
      "cell_type": "markdown",
      "source": [
        "# Pull in input, process as necessary"
      ],
      "metadata": {
        "id": "FA9uqN7ChlDa"
      }
    },
    {
      "cell_type": "code",
      "source": [
        "# Change this flag to work with the given example instead of real data\n",
        "example = False\n",
        "\n",
        "\n",
        "if example:\n",
        "    filename = 'inputs/Day01.example'\n",
        "else:\n",
        "    filename = 'inputs/Day01.input'\n",
        "\n",
        "with open(filename,'r') as f:\n",
        "    data = f.read().splitlines()\n",
        "\n",
        "data = [int(i) for i in data]"
      ],
      "metadata": {
        "id": "quc33Bqkg_u-"
      },
      "execution_count": 60,
      "outputs": []
    },
    {
      "cell_type": "markdown",
      "source": [
        "# Part 1\n",
        "Find two entries that sum to 2020.\n",
        "\n",
        "Loop through the list twice and make every possible comparison.\n",
        "\n",
        "Skip if indicies are the same.\n",
        "\n",
        "Brute force like this is fine in this small case."
      ],
      "metadata": {
        "id": "uPe6Lx7bhrWi"
      }
    },
    {
      "cell_type": "code",
      "source": [
        "goal = 2020\n",
        "breakFlag = False\n",
        "for idx, num1 in enumerate(data):\n",
        "    for jdx, num2 in enumerate(data):\n",
        "        if idx == jdx:\n",
        "            continue\n",
        "        else:\n",
        "            mysum = num1 + num2\n",
        "            if mysum == goal:\n",
        "                breakFlag = True\n",
        "                break\n",
        "    if breakFlag:\n",
        "        break\n",
        "product = num1 * num2\n",
        "print('The two numbers are: {}, {}'.format(num1, num2))\n",
        "print('Your answer to part one is {}'.format(product))\n",
        "if example:\n",
        "    assert product == 514579 # From problem description\n"
      ],
      "metadata": {
        "colab": {
          "base_uri": "https://localhost:8080/"
        },
        "id": "SrDF0gSHhbZV",
        "outputId": "f7d0bd83-b567-4513-f84c-9cbce819defc"
      },
      "execution_count": 61,
      "outputs": [
        {
          "output_type": "stream",
          "name": "stdout",
          "text": [
            "The two numbers are: 547, 1473\n",
            "Your answer to part one is 805731\n"
          ]
        }
      ]
    },
    {
      "cell_type": "markdown",
      "source": [
        "# Part 2\n",
        "\n",
        "Same as part 1, but with three numbers.\n",
        "\n",
        "Same procedure.\n",
        "\n",
        "Still loops-within-loops, but still small datatset so trivial time."
      ],
      "metadata": {
        "id": "M5S0FN3hkX9Q"
      }
    },
    {
      "cell_type": "code",
      "source": [
        "goal = 2020\n",
        "breakFlag = False\n",
        "for idx, num1 in enumerate(data):\n",
        "    for jdx, num2 in enumerate(data):\n",
        "        for kdx, num3 in enumerate(data):\n",
        "            if idx == jdx:\n",
        "                continue\n",
        "            if jdx == kdx:\n",
        "                continue\n",
        "            if idx == kdx:\n",
        "                continue\n",
        "            mysum = num1 + num2 + num3\n",
        "            if mysum == goal:\n",
        "                breakFlag = True\n",
        "                break\n",
        "        if breakFlag:\n",
        "            break\n",
        "    if breakFlag:\n",
        "        break\n",
        "product = num1 * num2 * num3\n",
        "print('The two numbers are: {}, {}, {}'.format(num1, num2, num3))\n",
        "print('Your answer to part two is {}'.format(product))\n",
        "if example:\n",
        "    assert product == 241861950 # From problem description"
      ],
      "metadata": {
        "colab": {
          "base_uri": "https://localhost:8080/"
        },
        "id": "sjT0E6V6hiF_",
        "outputId": "1d43424f-d676-4f2d-e354-4fe97220f754"
      },
      "execution_count": 62,
      "outputs": [
        {
          "output_type": "stream",
          "name": "stdout",
          "text": [
            "The two numbers are: 438, 360, 1222\n",
            "Your answer to part two is 192684960\n"
          ]
        }
      ]
    },
    {
      "cell_type": "code",
      "source": [],
      "metadata": {
        "id": "4O4t2bE-k-95"
      },
      "execution_count": 62,
      "outputs": []
    }
  ]
}