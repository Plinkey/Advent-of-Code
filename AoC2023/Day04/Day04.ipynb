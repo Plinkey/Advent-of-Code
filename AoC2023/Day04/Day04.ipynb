{
 "cells": [
  {
   "cell_type": "code",
   "execution_count": 1,
   "id": "08cc2d52-1bfb-4b4e-82f4-bacb186b4f08",
   "metadata": {},
   "outputs": [],
   "source": [
    "#with open('Day04.example','r') as f:\n",
    "with open('Day04.input','r') as f:\n",
    "    rawdata = f.read().splitlines()"
   ]
  },
  {
   "cell_type": "markdown",
   "id": "921a0a45-b8da-4ef2-a755-d259d1e577fa",
   "metadata": {},
   "source": [
    "# Process Data"
   ]
  },
  {
   "cell_type": "code",
   "execution_count": 2,
   "id": "13620141-6476-413d-945e-d34cf79526ab",
   "metadata": {},
   "outputs": [],
   "source": [
    "def processCardData(inData):\n",
    "    winningNumbers, myNumbers  = inData.split('|')\n",
    "    winningNumbers = winningNumbers.strip(' ')\n",
    "    wins = []\n",
    "    for i in winningNumbers.split(' '):\n",
    "        if i == '':\n",
    "            continue\n",
    "        else:\n",
    "            wins.append(int(i))\n",
    "\n",
    "    myN = []\n",
    "    for i in myNumbers.split(' '):\n",
    "        if i == '':\n",
    "            continue\n",
    "        else:\n",
    "            myN.append(int(i))\n",
    "    return wins, myN"
   ]
  },
  {
   "cell_type": "code",
   "execution_count": 3,
   "id": "9c2a6968-1664-4119-a103-3f221506df05",
   "metadata": {},
   "outputs": [],
   "source": [
    "data = {}\n",
    "for line in rawdata:\n",
    "    line = line.split(':')\n",
    "    data[int(line[0].split(' ')[-1])] = processCardData(line[1])"
   ]
  },
  {
   "cell_type": "markdown",
   "id": "4c8c5ce1-d3ce-4e42-9b28-c1c60a177f92",
   "metadata": {},
   "source": [
    "# Part One"
   ]
  },
  {
   "cell_type": "code",
   "execution_count": 4,
   "id": "9ff2574e-a5e6-4ea3-a194-70ae56b2200d",
   "metadata": {},
   "outputs": [],
   "source": [
    "def scoreCard(inData):\n",
    "    nWins = 0\n",
    "    for i in inData[0]:\n",
    "        if i in inData[1]:\n",
    "            nWins += 1\n",
    "    return int(2**(nWins-1))"
   ]
  },
  {
   "cell_type": "code",
   "execution_count": 5,
   "id": "a138c4a6-a054-4b7b-9665-68c0143ca867",
   "metadata": {},
   "outputs": [
    {
     "name": "stdout",
     "output_type": "stream",
     "text": [
      "The answer to part one is: 22674\n"
     ]
    }
   ],
   "source": [
    "tot = 0\n",
    "for key, value in data.items():\n",
    "    tot += scoreCard(value)\n",
    "print('The answer to part one is: {}'.format(tot))"
   ]
  },
  {
   "cell_type": "markdown",
   "id": "71941551-6c85-40b5-9905-f85bcef62075",
   "metadata": {},
   "source": [
    "# Part Two"
   ]
  },
  {
   "cell_type": "markdown",
   "id": "68cbaab5-577a-4ac5-91fb-b3e88d6296ce",
   "metadata": {},
   "source": [
    "## Figure out how many of each cards I have"
   ]
  },
  {
   "cell_type": "code",
   "execution_count": 6,
   "id": "504ba140-c03c-4c04-b991-64995d152873",
   "metadata": {},
   "outputs": [],
   "source": [
    "def scoreCard_part2(inData):\n",
    "    nWins = 0\n",
    "    for i in inData[0]:\n",
    "        if i in inData[1]:\n",
    "            nWins += 1\n",
    "    return nWins"
   ]
  },
  {
   "cell_type": "code",
   "execution_count": 7,
   "id": "86c88e75-74d1-473c-a87b-f36dbda4c858",
   "metadata": {},
   "outputs": [],
   "source": [
    "# Create a dict counting the number of cards I have\n",
    "nCards = {}\n",
    "for i in data.keys():\n",
    "    nCards[i] = 1"
   ]
  },
  {
   "cell_type": "code",
   "execution_count": 8,
   "id": "9bb23ddc-4de2-4363-a4f8-ce941cd59f10",
   "metadata": {},
   "outputs": [],
   "source": [
    "#Loop through cards and count number of cards I have\n",
    "for cardN, card in data.items():\n",
    "    winN = scoreCard_part2(card)\n",
    "    for idx in range(cardN+1, cardN+1+winN):  #Looks weird, but will give me the numbers of the next winN cards\n",
    "         nCards[idx] += 1*nCards[cardN]"
   ]
  },
  {
   "cell_type": "code",
   "execution_count": 9,
   "id": "b0e748fd-74bd-4482-a64f-d215543b5aff",
   "metadata": {},
   "outputs": [
    {
     "name": "stdout",
     "output_type": "stream",
     "text": [
      "The answer to part two is: 5747443\n"
     ]
    }
   ],
   "source": [
    "print('The answer to part two is: {}'.format(sum(nCards.values())))"
   ]
  },
  {
   "cell_type": "code",
   "execution_count": null,
   "id": "272b7138-f71f-4bee-8da5-1387b53a2cb1",
   "metadata": {},
   "outputs": [],
   "source": []
  }
 ],
 "metadata": {
  "kernelspec": {
   "display_name": "Python 3 (ipykernel)",
   "language": "python",
   "name": "python3"
  },
  "language_info": {
   "codemirror_mode": {
    "name": "ipython",
    "version": 3
   },
   "file_extension": ".py",
   "mimetype": "text/x-python",
   "name": "python",
   "nbconvert_exporter": "python",
   "pygments_lexer": "ipython3",
   "version": "3.9.12"
  }
 },
 "nbformat": 4,
 "nbformat_minor": 5
}
