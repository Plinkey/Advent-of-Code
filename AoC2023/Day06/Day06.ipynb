{
 "cells": [
  {
   "cell_type": "code",
   "execution_count": 24,
   "id": "65eea719-f1d1-45b1-a7e5-b3106a7f1224",
   "metadata": {},
   "outputs": [
    {
     "data": {
      "text/plain": [
       "['Time:      7  15   30', 'Distance:  9  40  200']"
      ]
     },
     "execution_count": 24,
     "metadata": {},
     "output_type": "execute_result"
    }
   ],
   "source": [
    "example = False\n",
    "\n",
    "\n",
    "if example:\n",
    "    fileName = 'Day06.example'\n",
    "else:\n",
    "    fileName = 'Day06.input'\n",
    "\n",
    "with open(filename,'r') as f:\n",
    "    rawdata = f.read().splitlines()\n",
    "rawdata"
   ]
  },
  {
   "cell_type": "markdown",
   "id": "5ac11f17-48ec-46ba-b4d0-0e6c954f8824",
   "metadata": {},
   "source": [
    "# Process Data"
   ]
  },
  {
   "cell_type": "code",
   "execution_count": 22,
   "id": "ac16ff84-7877-4490-b736-fdbadacb9d5c",
   "metadata": {},
   "outputs": [
    {
     "data": {
      "text/plain": [
       "[7, 15, 30]"
      ]
     },
     "execution_count": 22,
     "metadata": {},
     "output_type": "execute_result"
    }
   ],
   "source": [
    "times = [int(i) for i in rawdata[0].split(':')[-1].strip(' ').split()]\n",
    "times"
   ]
  },
  {
   "cell_type": "code",
   "execution_count": 23,
   "id": "6dc703e9-987e-4805-99dd-cda88227be61",
   "metadata": {},
   "outputs": [
    {
     "data": {
      "text/plain": [
       "[9, 40, 200]"
      ]
     },
     "execution_count": 23,
     "metadata": {},
     "output_type": "execute_result"
    }
   ],
   "source": [
    "distance = [int(i) for i in rawdata[1].split(':')[-1].strip(' ').split()]\n",
    "distance"
   ]
  },
  {
   "cell_type": "markdown",
   "id": "ff5ee597-8671-4bc3-aec1-20344e3502d5",
   "metadata": {},
   "source": [
    "# Part One"
   ]
  },
  {
   "cell_type": "code",
   "execution_count": 14,
   "id": "e5d8b6bc-3007-4e26-9260-e66b00f110c2",
   "metadata": {},
   "outputs": [],
   "source": [
    "def findWins(t, d):\n",
    "    wins = []\n",
    "    for i in range(t+1):\n",
    "        remainTime = t-i\n",
    "        speed = i\n",
    "        distanceTraveled = speed * remainTime\n",
    "        if distanceTraveled > d:\n",
    "            wins.append(i)\n",
    "    return len(wins)"
   ]
  },
  {
   "cell_type": "code",
   "execution_count": 15,
   "id": "0a604e58-49e5-458d-815e-dbaccbac2c97",
   "metadata": {},
   "outputs": [
    {
     "data": {
      "text/plain": [
       "4"
      ]
     },
     "execution_count": 15,
     "metadata": {},
     "output_type": "execute_result"
    }
   ],
   "source": [
    "findWins(times[0], distance[0])"
   ]
  },
  {
   "cell_type": "code",
   "execution_count": 16,
   "id": "36193c60-fd0b-47ea-bfbe-389802d557ec",
   "metadata": {},
   "outputs": [],
   "source": [
    "waysToWin = []\n",
    "for i in range(len(times)):\n",
    "    a = findWins(times[i], distance[i])\n",
    "    waysToWin.append(a)\n",
    "answer = 1\n",
    "for i in waysToWin:\n",
    "    answer *= i"
   ]
  },
  {
   "cell_type": "code",
   "execution_count": 17,
   "id": "bcd529d1-43be-4dbc-8585-8f95d4b21958",
   "metadata": {},
   "outputs": [
    {
     "name": "stdout",
     "output_type": "stream",
     "text": [
      "The answer to part one is: 288\n"
     ]
    }
   ],
   "source": [
    "print('The answer to part one is: {}'.format(answer))"
   ]
  },
  {
   "cell_type": "markdown",
   "id": "622fbc7f-7a88-4aec-bc96-977605a1ff47",
   "metadata": {},
   "source": [
    "# PartTwo"
   ]
  },
  {
   "cell_type": "code",
   "execution_count": 18,
   "id": "24d57d38-a3f3-471f-bc39-3fb3826527e8",
   "metadata": {},
   "outputs": [],
   "source": [
    "if example:\n",
    "    time2 = 71530\n",
    "    distance2 = 940200\n",
    "else:\n",
    "    time2 = 48938595\n",
    "    distance2 = 296192812361391"
   ]
  },
  {
   "cell_type": "code",
   "execution_count": 19,
   "id": "e9ded38c-97dc-4dcd-afa9-671cf940ce3b",
   "metadata": {},
   "outputs": [
    {
     "data": {
      "text/plain": [
       "71503"
      ]
     },
     "execution_count": 19,
     "metadata": {},
     "output_type": "execute_result"
    }
   ],
   "source": [
    "findWins(time2, distance2)"
   ]
  },
  {
   "cell_type": "code",
   "execution_count": 25,
   "id": "6c5dfa5c-2a39-4176-9d68-a79bef5f4ea3",
   "metadata": {},
   "outputs": [
    {
     "data": {
      "text/plain": [
       "False"
      ]
     },
     "execution_count": 25,
     "metadata": {},
     "output_type": "execute_result"
    }
   ],
   "source": [
    "example"
   ]
  },
  {
   "cell_type": "code",
   "execution_count": null,
   "id": "e13d0266-e12e-4f45-8910-23755d3e5366",
   "metadata": {},
   "outputs": [],
   "source": [
    "if example:\n",
    "    print('hi')\n"
   ]
  }
 ],
 "metadata": {
  "kernelspec": {
   "display_name": "Python 3 (ipykernel)",
   "language": "python",
   "name": "python3"
  },
  "language_info": {
   "codemirror_mode": {
    "name": "ipython",
    "version": 3
   },
   "file_extension": ".py",
   "mimetype": "text/x-python",
   "name": "python",
   "nbconvert_exporter": "python",
   "pygments_lexer": "ipython3",
   "version": "3.9.12"
  }
 },
 "nbformat": 4,
 "nbformat_minor": 5
}
