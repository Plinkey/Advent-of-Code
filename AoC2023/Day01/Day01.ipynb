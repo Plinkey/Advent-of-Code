{
 "cells": [
  {
   "cell_type": "code",
   "execution_count": 1,
   "id": "b0b73256-e6c3-4ece-b9d3-68a858f3d7dc",
   "metadata": {},
   "outputs": [],
   "source": [
    "#with open('Day01.example','r') as f:\n",
    "with open('Day01.input','r') as f:\n",
    "#with open('Day01.example2','r') as f:\n",
    "    rawdata = f.read().splitlines()\n",
    "data = rawdata"
   ]
  },
  {
   "cell_type": "markdown",
   "id": "e6676652-c4a0-46db-adc0-ebdbf9e41462",
   "metadata": {},
   "source": [
    "# Part One"
   ]
  },
  {
   "cell_type": "code",
   "execution_count": 2,
   "id": "99fa8930-6c5b-4866-97d8-112d849be95f",
   "metadata": {},
   "outputs": [],
   "source": [
    "all_nums = []\n",
    "for line in data:\n",
    "    line_nums = []\n",
    "    for a in line:\n",
    "        if a.isalpha():\n",
    "            continue\n",
    "        else:\n",
    "            line_nums.append(int(a))\n",
    "    line_result = line_nums[0] * 10 + line_nums[-1]\n",
    "    all_nums.append(line_result)\n"
   ]
  },
  {
   "cell_type": "code",
   "execution_count": 3,
   "id": "6c4770ca-afda-424a-b616-06806afdd607",
   "metadata": {},
   "outputs": [
    {
     "name": "stdout",
     "output_type": "stream",
     "text": [
      "The answer to part one is: 57346\n"
     ]
    }
   ],
   "source": [
    "print('The answer to part one is: {}'.format(sum(all_nums)))"
   ]
  },
  {
   "cell_type": "markdown",
   "id": "ccda0236-c331-4530-9ac9-dd880336a172",
   "metadata": {},
   "source": [
    "# Part Two"
   ]
  },
  {
   "cell_type": "code",
   "execution_count": 4,
   "id": "d2915881-b50e-4370-819b-8ffb8366ee0c",
   "metadata": {},
   "outputs": [],
   "source": [
    "numbers = ['1','one',\n",
    "           '2','two',\n",
    "           '3','three',\n",
    "           '4','four',\n",
    "           '5','five',\n",
    "           '6','six',\n",
    "           '7','seven',\n",
    "           '8','eight',\n",
    "           '9','nine']\n",
    "num = [1,1,\n",
    "       2,2,\n",
    "       3,3,\n",
    "       4,4,\n",
    "       5,5,\n",
    "       6,6,\n",
    "       7,7,\n",
    "       8,8,\n",
    "       9,9]\n",
    "num_dict = dict(zip(numbers, num))"
   ]
  },
  {
   "cell_type": "code",
   "execution_count": 5,
   "id": "03cc3c9b-39e0-4ac1-9f96-b40fd14e9de7",
   "metadata": {},
   "outputs": [],
   "source": [
    "import re\n",
    "def processLine(line):\n",
    "\n",
    "    # Find all numbers\n",
    "    locations = {}\n",
    "    for num in numbers:\n",
    "        locations[num] = [m.start() for m in re.finditer(num, line)]\n",
    "\n",
    "    # Filter out numbers that don't appear\n",
    "    locations_filter = {}\n",
    "    for item in locations:\n",
    "        if locations[item] == []:\n",
    "            continue\n",
    "        else:\n",
    "            locations_filter[item] = locations[item]\n",
    "\n",
    "\n",
    "    # Find first and last number\n",
    "    firstPos = 999999999\n",
    "    lastPos = -999999999\n",
    "\n",
    "    for key, value in locations_filter.items():\n",
    "        if min(value) < firstPos:\n",
    "            firstLetter = key\n",
    "            firstPos = min(value)\n",
    "        if max(value) > lastPos:\n",
    "            lastLetter = key\n",
    "            lastPos = max(value)\n",
    "\n",
    "\n",
    "\n",
    "    # Calculate the number\n",
    "    first_num = num_dict[firstLetter]\n",
    "\n",
    "    second_num = num_dict[lastLetter]\n",
    "\n",
    "    result = first_num * 10 + second_num\n",
    "    return result"
   ]
  },
  {
   "cell_type": "code",
   "execution_count": 6,
   "id": "41393cdc-b35c-4b40-a0b6-94dc9febf5a9",
   "metadata": {},
   "outputs": [
    {
     "name": "stdout",
     "output_type": "stream",
     "text": [
      "The answer to part two is: 57345\n"
     ]
    }
   ],
   "source": [
    "results = []\n",
    "for line in data:\n",
    "    results.append(processLine(line))\n",
    "print('The answer to part two is: {}'.format(sum(results)))"
   ]
  },
  {
   "cell_type": "code",
   "execution_count": null,
   "id": "e545784a-7ee5-43c8-8493-562ae58b1e1f",
   "metadata": {},
   "outputs": [],
   "source": []
  }
 ],
 "metadata": {
  "kernelspec": {
   "display_name": "Python 3 (ipykernel)",
   "language": "python",
   "name": "python3"
  },
  "language_info": {
   "codemirror_mode": {
    "name": "ipython",
    "version": 3
   },
   "file_extension": ".py",
   "mimetype": "text/x-python",
   "name": "python",
   "nbconvert_exporter": "python",
   "pygments_lexer": "ipython3",
   "version": "3.9.12"
  }
 },
 "nbformat": 4,
 "nbformat_minor": 5
}
