{
  "nbformat": 4,
  "nbformat_minor": 0,
  "metadata": {
    "colab": {
      "name": "Day21",
      "provenance": [],
      "collapsed_sections": []
    },
    "kernelspec": {
      "name": "python3",
      "display_name": "Python 3"
    },
    "language_info": {
      "name": "python"
    }
  },
  "cells": [
    {
      "cell_type": "code",
      "source": [
        "class player():\n",
        "    def __init__(self):\n",
        "        self.pos = 0\n",
        "        self.score = 0"
      ],
      "metadata": {
        "id": "OB_OVUVIMY9m"
      },
      "execution_count": 1,
      "outputs": []
    },
    {
      "cell_type": "markdown",
      "source": [
        "# INPUT\n",
        "## Example Input"
      ],
      "metadata": {
        "id": "k71FIfCsKBV2"
      }
    },
    {
      "cell_type": "code",
      "execution_count": 2,
      "metadata": {
        "id": "hnrsiPszJ1HI"
      },
      "outputs": [],
      "source": [
        "#Player 1 starting position: 4\n",
        "#Player 2 starting position: 8\n",
        "p1 = player()\n",
        "p1.score = 0\n",
        "p1.pos = 4\n",
        "\n",
        "p2 = player()\n",
        "p2.score = 0\n",
        "p2.pos = 8\n"
      ]
    },
    {
      "cell_type": "code",
      "source": [
        "p1.pos"
      ],
      "metadata": {
        "colab": {
          "base_uri": "https://localhost:8080/"
        },
        "id": "HG1wyPzpOhAc",
        "outputId": "74677085-4c3e-4345-bfe6-7cd27745605a"
      },
      "execution_count": 3,
      "outputs": [
        {
          "output_type": "execute_result",
          "data": {
            "text/plain": [
              "4"
            ]
          },
          "metadata": {},
          "execution_count": 3
        }
      ]
    },
    {
      "cell_type": "markdown",
      "source": [
        "# Real Input\n"
      ],
      "metadata": {
        "id": "9u_ECT6TKJKi"
      }
    },
    {
      "cell_type": "code",
      "source": [
        "#Player 1 starting position: 2\n",
        "#Player 2 starting position: 7\n",
        "p1 = player()\n",
        "p1.score = 0\n",
        "p1.pos = 2\n",
        "\n",
        "p2 = player()\n",
        "p2.score = 0\n",
        "p2.pos = 7"
      ],
      "metadata": {
        "id": "YsI2AvC9KIV_"
      },
      "execution_count": 4,
      "outputs": []
    },
    {
      "cell_type": "markdown",
      "source": [
        "# Helper Functions"
      ],
      "metadata": {
        "id": "5kCdLx_IKViC"
      }
    },
    {
      "cell_type": "code",
      "source": [
        "dice = 0\n",
        "def roll():\n",
        "    global dice\n",
        "    ans = []\n",
        "    dice = (dice%100)+1\n",
        "    ans.append(dice)\n",
        "    dice = (dice%100)+1\n",
        "    ans.append(dice)    \n",
        "    dice = (dice%100)+1\n",
        "    ans.append(dice)\n",
        "    return ans\n",
        "    "
      ],
      "metadata": {
        "id": "Zxd9gyBpKXFY"
      },
      "execution_count": 5,
      "outputs": []
    },
    {
      "cell_type": "code",
      "source": [
        "def move(player, roll):\n",
        "    for i in roll:\n",
        "        newspace = (player.pos+i)%10\n",
        "        if newspace == 0:\n",
        "            newspace = 10\n",
        "        player.pos = newspace\n",
        "    player.score += newspace\n"
      ],
      "metadata": {
        "id": "HP5e9TK7LVew"
      },
      "execution_count": 6,
      "outputs": []
    },
    {
      "cell_type": "markdown",
      "source": [
        "# RUN PART ONE"
      ],
      "metadata": {
        "id": "zJKyWbJRRZgm"
      }
    },
    {
      "cell_type": "code",
      "source": [
        "nRolls = 0\n",
        "while True:\n",
        "    move(p1, roll())\n",
        "    nRolls += 3\n",
        "    if p1.score >= 1000:\n",
        "        break\n",
        "\n",
        "    move(p2, roll())\n",
        "    nRolls += 3\n",
        "    if p2.score >= 1000:\n",
        "        break\n",
        "\n",
        "print('Answer to part one: {}'.format(nRolls * min(p1.score, p2.score)))"
      ],
      "metadata": {
        "colab": {
          "base_uri": "https://localhost:8080/"
        },
        "id": "EwWMVOdxRaEg",
        "outputId": "feb38d39-40d5-4186-bcc8-878f86f40f6c"
      },
      "execution_count": 7,
      "outputs": [
        {
          "output_type": "stream",
          "name": "stdout",
          "text": [
            "Answer to part one: 805932\n"
          ]
        }
      ]
    },
    {
      "cell_type": "code",
      "source": [
        ""
      ],
      "metadata": {
        "id": "Pn0AnRH9SDta"
      },
      "execution_count": null,
      "outputs": []
    }
  ]
}
