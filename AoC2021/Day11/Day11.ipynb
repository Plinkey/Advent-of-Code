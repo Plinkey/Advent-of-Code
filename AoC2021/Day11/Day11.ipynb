{
  "nbformat": 4,
  "nbformat_minor": 0,
  "metadata": {
    "colab": {
      "name": "Day11.ipynb",
      "provenance": [],
      "collapsed_sections": []
    },
    "kernelspec": {
      "name": "python3",
      "display_name": "Python 3"
    },
    "language_info": {
      "name": "python"
    }
  },
  "cells": [
    {
      "cell_type": "code",
      "execution_count": 1,
      "metadata": {
        "colab": {
          "base_uri": "https://localhost:8080/"
        },
        "id": "XXmxnDYscFGZ",
        "outputId": "196023e5-afa3-4e5c-ca96-96382f8685a9"
      },
      "outputs": [
        {
          "output_type": "execute_result",
          "data": {
            "text/plain": [
              "[[8, 2, 5, 8, 7, 4, 1, 2, 5, 4],\n",
              " [3, 3, 3, 5, 2, 8, 6, 2, 1, 1],\n",
              " [8, 4, 6, 8, 6, 6, 1, 3, 1, 1],\n",
              " [6, 1, 6, 4, 5, 7, 8, 3, 5, 3],\n",
              " [2, 1, 3, 8, 4, 1, 4, 5, 5, 3],\n",
              " [1, 7, 8, 5, 3, 8, 5, 4, 4, 7],\n",
              " [3, 4, 4, 1, 1, 3, 3, 7, 5, 1],\n",
              " [3, 5, 8, 6, 8, 6, 2, 8, 3, 7],\n",
              " [7, 5, 6, 8, 2, 7, 2, 8, 7, 8],\n",
              " [6, 8, 3, 3, 6, 4, 3, 1, 4, 4]]"
            ]
          },
          "metadata": {},
          "execution_count": 1
        }
      ],
      "source": [
        "import copy\n",
        "#with open('Day11.example','r') as f:\n",
        "with open('Day11.input','r')as f:\n",
        "    rawdata = f.read().splitlines()\n",
        "\n",
        "orig_data = []\n",
        "for line in rawdata:\n",
        "    tmp = [int(i) for i in line]\n",
        "    orig_data.append(tmp)\n",
        "\n",
        "data = copy.deepcopy(orig_data)\n",
        "data"
      ]
    },
    {
      "cell_type": "code",
      "source": [
        "hlen= len(data[0])\n",
        "vlen = len(data)\n",
        "print(hlen)\n",
        "print(vlen)"
      ],
      "metadata": {
        "colab": {
          "base_uri": "https://localhost:8080/"
        },
        "id": "3zE_SWsDekOS",
        "outputId": "49b9d65b-e790-4117-c017-050e6b58e590"
      },
      "execution_count": 2,
      "outputs": [
        {
          "output_type": "stream",
          "name": "stdout",
          "text": [
            "10\n",
            "10\n"
          ]
        }
      ]
    },
    {
      "cell_type": "code",
      "source": [
        "def reset():\n",
        "    global data\n",
        "    global flash_count\n",
        "    data = copy.deepcopy(orig_data)\n",
        "    flash_count = 0"
      ],
      "metadata": {
        "id": "AGBIie2rfmCL"
      },
      "execution_count": 3,
      "outputs": []
    },
    {
      "cell_type": "code",
      "source": [
        "flash_count = 0\n",
        "\n",
        "def flash(v,h):\n",
        "    global flash_count\n",
        "    flash_count += 1 #Add one to flashcount\n",
        "    data[v][h] = -1 # Flag to show that it flashed this round.\n",
        "    for dv in [-1, 0, 1]:\n",
        "        for dh in [-1, 0, 1]:\n",
        "            vv = v + dv\n",
        "            hh = h + dh \n",
        "            if 0<=vv<vlen and 0<=hh<hlen and data[vv][hh]!=-1:\n",
        "                data[vv][hh] += 1\n",
        "                if data[vv][hh] >= 10:\n",
        "                    flash(vv,hh)\n"
      ],
      "metadata": {
        "id": "JmzGzw7HdVdy"
      },
      "execution_count": 4,
      "outputs": []
    },
    {
      "cell_type": "code",
      "source": [
        "def run_round():\n",
        "    for v in range(vlen):\n",
        "        for h in range(hlen):\n",
        "            data[v][h] += 1\n",
        "    for v in range(vlen):\n",
        "        for h in range(hlen):\n",
        "            if data[v][h] == 10:\n",
        "                flash(v,h)\n",
        "    for v in range(vlen):\n",
        "        for h in range(hlen):\n",
        "            if data[v][h] == -1:\n",
        "                data[v][h] = 0"
      ],
      "metadata": {
        "id": "4Hn2VE1VfrWk"
      },
      "execution_count": 5,
      "outputs": []
    },
    {
      "cell_type": "code",
      "source": [
        "def run_multi(nRounds):\n",
        "    for n in range(nRounds):\n",
        "        run_round()"
      ],
      "metadata": {
        "id": "5bKtYIoKgqfq"
      },
      "execution_count": 6,
      "outputs": []
    },
    {
      "cell_type": "code",
      "source": [
        "reset()\n",
        "flash_count"
      ],
      "metadata": {
        "colab": {
          "base_uri": "https://localhost:8080/"
        },
        "id": "yqbCtEXLkQTX",
        "outputId": "fff8c7cd-f067-4e15-915c-474a56b72674"
      },
      "execution_count": 7,
      "outputs": [
        {
          "output_type": "execute_result",
          "data": {
            "text/plain": [
              "0"
            ]
          },
          "metadata": {},
          "execution_count": 7
        }
      ]
    },
    {
      "cell_type": "code",
      "source": [
        "run_multi(100)\n",
        "flash_count"
      ],
      "metadata": {
        "colab": {
          "base_uri": "https://localhost:8080/"
        },
        "id": "ZwEvTN3VktIo",
        "outputId": "aa900acb-ad1a-4a3e-c726-1da1407d81ba"
      },
      "execution_count": 8,
      "outputs": [
        {
          "output_type": "execute_result",
          "data": {
            "text/plain": [
              "1694"
            ]
          },
          "metadata": {},
          "execution_count": 8
        }
      ]
    },
    {
      "cell_type": "code",
      "source": [
        "# Part wo"
      ],
      "metadata": {
        "id": "9mVf0QxnkwSc"
      },
      "execution_count": 9,
      "outputs": []
    },
    {
      "cell_type": "code",
      "source": [
        "def check_zeros():\n",
        "    for v in range(vlen):\n",
        "        for h in range(hlen):\n",
        "            if data[v][h] != 0:\n",
        "                return False\n",
        "    return True"
      ],
      "metadata": {
        "id": "jIEGkXqGmJeX"
      },
      "execution_count": 10,
      "outputs": []
    },
    {
      "cell_type": "code",
      "source": [
        "round_count = 0\n",
        "reset()\n",
        "while True:\n",
        "    round_count += 1\n",
        "    run_round()\n",
        "    if check_zeros():\n",
        "        print('Winner! Round: {}'.format(round_count))\n",
        "        break"
      ],
      "metadata": {
        "colab": {
          "base_uri": "https://localhost:8080/"
        },
        "id": "VGUsM4kvmkbX",
        "outputId": "7cd95ae6-9b03-4400-9333-bb8c2cdd8d79"
      },
      "execution_count": 11,
      "outputs": [
        {
          "output_type": "stream",
          "name": "stdout",
          "text": [
            "Winner! Round: 346\n"
          ]
        }
      ]
    },
    {
      "cell_type": "code",
      "source": [
        "round_cou"
      ],
      "metadata": {
        "id": "MIskzm9gmm64"
      },
      "execution_count": null,
      "outputs": []
    }
  ]
}