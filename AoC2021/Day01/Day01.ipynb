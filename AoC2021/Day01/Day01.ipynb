{
 "cells": [
  {
   "cell_type": "markdown",
   "source": "# PULL IN DATA",
   "metadata": {
    "tags": [],
    "cell_id": "00003-66639e76-1e92-4090-b52b-03e069c385e2",
    "deepnote_cell_type": "markdown"
   }
  },
  {
   "cell_type": "markdown",
   "source": "also make it some numbers",
   "metadata": {
    "tags": [],
    "cell_id": "00001-5aed8ed3-4ea4-423b-83ba-a1e63e711f5d",
    "deepnote_cell_type": "markdown"
   }
  },
  {
   "cell_type": "code",
   "metadata": {
    "tags": [],
    "cell_id": "00002-34b4da48-fb9d-4101-aaef-59a9d97649a4",
    "deepnote_to_be_reexecuted": false,
    "source_hash": "b487004f",
    "execution_start": 1638364991301,
    "execution_millis": 5,
    "deepnote_cell_type": "code"
   },
   "source": "#with open('Day01.example','r') as f:\nwith open('Day01.input','r') as f:\n    rawdata = f.read().splitlines()\n\ndata = []\nfor r in rawdata:\n    data.append(int(r))\n#data",
   "execution_count": null,
   "outputs": []
  },
  {
   "cell_type": "markdown",
   "source": "# Loop through list, count increases",
   "metadata": {
    "tags": [],
    "cell_id": "00003-59fac49e-6fee-4cdd-add0-5c3017443aec",
    "deepnote_cell_type": "markdown"
   }
  },
  {
   "cell_type": "code",
   "metadata": {
    "tags": [],
    "cell_id": "00004-a4917d29-32b3-47d2-9fe5-6da0f2e63fa0",
    "deepnote_to_be_reexecuted": false,
    "source_hash": "e7f91c63",
    "execution_start": 1638364993928,
    "execution_millis": 19,
    "deepnote_cell_type": "code"
   },
   "source": "a = [111,222,333]\nfor i, idx in enumerate(a):\n    print (i)\n    print (idx)",
   "execution_count": null,
   "outputs": [
    {
     "name": "stdout",
     "text": "0\n111\n1\n222\n2\n333\n",
     "output_type": "stream"
    }
   ]
  },
  {
   "cell_type": "code",
   "metadata": {
    "tags": [],
    "cell_id": "00002-9584b985-7099-4c8e-bb45-4a8a8446ddc6",
    "deepnote_to_be_reexecuted": false,
    "source_hash": "e30a8c2d",
    "execution_start": 1638364994809,
    "execution_millis": 3,
    "deepnote_cell_type": "code"
   },
   "source": "def count_ups(data):\n    count = 0\n    for idx,d in enumerate(data):\n        if idx == 0: # if first loop, skip.\n            continue\n        if d > data[idx-1]: # If current is greater than last\n            count +=1\n    return count\n",
   "execution_count": null,
   "outputs": []
  },
  {
   "cell_type": "markdown",
   "source": "# RUN PART 1",
   "metadata": {
    "tags": [],
    "cell_id": "00006-b528f2fe-9af6-4fea-a0b7-c592eca6fb69",
    "deepnote_cell_type": "markdown"
   }
  },
  {
   "cell_type": "code",
   "metadata": {
    "tags": [],
    "cell_id": "00006-96031111-4e20-42cc-af5c-adeb486c196d",
    "deepnote_to_be_reexecuted": false,
    "source_hash": "8cfd32c1",
    "execution_start": 1638364996382,
    "execution_millis": 12,
    "deepnote_output_heights": [
     21.1875
    ],
    "deepnote_cell_type": "code"
   },
   "source": "count_ups(data)",
   "execution_count": null,
   "outputs": [
    {
     "output_type": "execute_result",
     "execution_count": 4,
     "data": {
      "text/plain": "1529"
     },
     "metadata": {}
    }
   ]
  },
  {
   "cell_type": "markdown",
   "source": "# Triple Count",
   "metadata": {
    "tags": [],
    "cell_id": "00008-46898cac-0b85-4266-a944-0992422fea1a",
    "deepnote_cell_type": "markdown"
   }
  },
  {
   "cell_type": "code",
   "metadata": {
    "tags": [],
    "cell_id": "00010-0acfc51a-791f-4d43-95d9-7a03c0ed5da1",
    "deepnote_to_be_reexecuted": false,
    "source_hash": "1c0b1356",
    "execution_start": 1638364998215,
    "execution_millis": 2,
    "deepnote_cell_type": "code"
   },
   "source": "def window_count(data):\n    count = 0\n    for idx in range(len(data)):\n        left = data[idx:idx+3]\n        right = data[idx+1:idx+4]\n        if len(right) < 3:\n            break\n        print('LeftSum: {} sum: {}'.format(left, sum(left)))\n        print('RightSum: {} sum: {}'.format(right, sum(right)))\n\n        if sum(left) < sum(right):\n            count += 1\n        print(count)\n    return count",
   "execution_count": null,
   "outputs": []
  },
  {
   "cell_type": "markdown",
   "source": "# RUN PART 2",
   "metadata": {
    "tags": [],
    "cell_id": "00010-afad8125-4a9c-4754-a4f9-bc35a26bde03",
    "deepnote_cell_type": "markdown"
   }
  },
  {
   "cell_type": "code",
   "metadata": {
    "tags": [],
    "cell_id": "00011-986a5e07-fbc3-4ffc-8439-630d01b10609",
    "deepnote_to_be_reexecuted": false,
    "source_hash": "6d2614bf",
    "execution_start": 1638365000461,
    "execution_millis": 1491,
    "deepnote_output_heights": [
     null,
     21.1875
    ],
    "deepnote_cell_type": "code"
   },
   "source": "window_count(data)",
   "execution_count": null,
   "outputs": [
    {
     "name": "stdout",
     "text": "LeftSum: [6276, 6282, 6300] sum: 18858\nRightSum: [6282, 6300, 6301] sum: 18883\n1299\nLeftSum: [6282, 6300, 6301] sum: 18883\nRightSum: [6300, 6301, 6302] sum: 18903\n1300\nLeftSum: [6300, 6301, 6302] sum: 18903\nRightSum: [6301, 6302, 6300] sum: 18903\n1300\nLeftSum: [6301, 6302, 6300] sum: 18903\nRightSum: [6302, 6300, 6319] sum: 18921\n1301\nLeftSum: [6302, 6300, 6319] sum: 18921\nRightSum: [6300, 6319, 6328] sum: 18947\n1302\nLeftSum: [6300, 6319, 6328] sum: 18947\nRightSum: [6319, 6328, 6329] sum: 18976\n1303\nLeftSum: [6319, 6328, 6329] sum: 18976\nRightSum: [6328, 6329, 6330] sum: 18987\n1304\nLeftSum: [6328, 6329, 6330] sum: 18987\nRightSum: [6329, 6330, 6341] sum: 19000\n1305\nLeftSum: [6329, 6330, 6341] sum: 19000\nRightSum: [6330, 6341, 6346] sum: 19017\n1306\nLeftSum: [6330, 6341, 6346] sum: 19017\nRightSum: [6341, 6346, 6351] sum: 19038\n1307\nLeftSum: [6341, 6346, 6351] sum: 19038\nRightSum: [6346, 6351, 6352] sum: 19049\n1308\nLeftSum: [6346, 6351, 6352] sum: 19049\nRightSum: [6351, 6352, 6366] sum: 19069\n1309\nLeftSum: [6351, 6352, 6366] sum: 19069\nRightSum: [6352, 6366, 6365] sum: 19083\n1310\nLeftSum: [6352, 6366, 6365] sum: 19083\nRightSum: [6366, 6365, 6371] sum: 19102\n1311\nLeftSum: [6366, 6365, 6371] sum: 19102\nRightSum: [6365, 6371, 6372] sum: 19108\n1312\nLeftSum: [6365, 6371, 6372] sum: 19108\nRightSum: [6371, 6372, 6380] sum: 19123\n1313\nLeftSum: [6371, 6372, 6380] sum: 19123\nRightSum: [6372, 6380, 6377] sum: 19129\n1314\nLeftSum: [6372, 6380, 6377] sum: 19129\nRightSum: [6380, 6377, 6389] sum: 19146\n1315\nLeftSum: [6380, 6377, 6389] sum: 19146\nRightSum: [6377, 6389, 6399] sum: 19165\n1316\nLeftSum: [6377, 6389, 6399] sum: 19165\nRightSum: [6389, 6399, 6379] sum: 19167\n1317\nLeftSum: [6389, 6399, 6379] sum: 19167\nRightSum: [6399, 6379, 6380] sum: 19158\n1317\nLeftSum: [6399, 6379, 6380] sum: 19158\nRightSum: [6379, 6380, 6382] sum: 19141\n1317\nLeftSum: [6379, 6380, 6382] sum: 19141\nRightSum: [6380, 6382, 6381] sum: 19143\n1318\nLeftSum: [6380, 6382, 6381] sum: 19143\nRightSum: [6382, 6381, 6380] sum: 19143\n1318\nLeftSum: [6382, 6381, 6380] sum: 19143\nRightSum: [6381, 6380, 6384] sum: 19145\n1319\nLeftSum: [6381, 6380, 6384] sum: 19145\nRightSum: [6380, 6384, 6385] sum: 19149\n1320\nLeftSum: [6380, 6384, 6385] sum: 19149\nRightSum: [6384, 6385, 6399] sum: 19168\n1321\nLeftSum: [6384, 6385, 6399] sum: 19168\nRightSum: [6385, 6399, 6400] sum: 19184\n1322\nLeftSum: [6385, 6399, 6400] sum: 19184\nRightSum: [6399, 6400, 6396] sum: 19195\n1323\nLeftSum: [6399, 6400, 6396] sum: 19195\nRightSum: [6400, 6396, 6397] sum: 19193\n1323\nLeftSum: [6400, 6396, 6397] sum: 19193\nRightSum: [6396, 6397, 6405] sum: 19198\n1324\nLeftSum: [6396, 6397, 6405] sum: 19198\nRightSum: [6397, 6405, 6415] sum: 19217\n1325\nLeftSum: [6397, 6405, 6415] sum: 19217\nRightSum: [6405, 6415, 6402] sum: 19222\n1326\nLeftSum: [6405, 6415, 6402] sum: 19222\nRightSum: [6415, 6402, 6403] sum: 19220\n1326\nLeftSum: [6415, 6402, 6403] sum: 19220\nRightSum: [6402, 6403, 6414] sum: 19219\n1326\nLeftSum: [6402, 6403, 6414] sum: 19219\nRightSum: [6403, 6414, 6406] sum: 19223\n1327\nLeftSum: [6403, 6414, 6406] sum: 19223\nRightSum: [6414, 6406, 6399] sum: 19219\n1327\nLeftSum: [6414, 6406, 6399] sum: 19219\nRightSum: [6406, 6399, 6390] sum: 19195\n1327\nLeftSum: [6406, 6399, 6390] sum: 19195\nRightSum: [6399, 6390, 6407] sum: 19196\n1328\nLeftSum: [6399, 6390, 6407] sum: 19196\nRightSum: [6390, 6407, 6409] sum: 19206\n1329\nLeftSum: [6390, 6407, 6409] sum: 19206\nRightSum: [6407, 6409, 6390] sum: 19206\n1329\nLeftSum: [6407, 6409, 6390] sum: 19206\nRightSum: [6409, 6390, 6384] sum: 19183\n1329\nLeftSum: [6409, 6390, 6384] sum: 19183\nRightSum: [6390, 6384, 6386] sum: 19160\n1329\nLeftSum: [6390, 6384, 6386] sum: 19160\nRightSum: [6384, 6386, 6379] sum: 19149\n1329\nLeftSum: [6384, 6386, 6379] sum: 19149\nRightSum: [6386, 6379, 6381] sum: 19146\n1329\nLeftSum: [6386, 6379, 6381] sum: 19146\nRightSum: [6379, 6381, 6388] sum: 19148\n1330\nLeftSum: [6379, 6381, 6388] sum: 19148\nRightSum: [6381, 6388, 6401] sum: 19170\n1331\nLeftSum: [6381, 6388, 6401] sum: 19170\nRightSum: [6388, 6401, 6404] sum: 19193\n1332\nLeftSum: [6388, 6401, 6404] sum: 19193\nRightSum: [6401, 6404, 6397] sum: 19202\n1333\nLeftSum: [6401, 6404, 6397] sum: 19202\nRightSum: [6404, 6397, 6421] sum: 19222\n1334\nLeftSum: [6404, 6397, 6421] sum: 19222\nRightSum: [6397, 6421, 6431] sum: 19249\n1335\nLeftSum: [6397, 6421, 6431] sum: 19249\nRightSum: [6421, 6431, 6434] sum: 19286\n1336\nLeftSum: [6421, 6431, 6434] sum: 19286\nRightSum: [6431, 6434, 6438] sum: 19303\n1337\nLeftSum: [6431, 6434, 6438] sum: 19303\nRightSum: [6434, 6438, 6447] sum: 19319\n1338\nLeftSum: [6434, 6438, 6447] sum: 19319\nRightSum: [6438, 6447, 6446] sum: 19331\n1339\nLeftSum: [6438, 6447, 6446] sum: 19331\nRightSum: [6447, 6446, 6447] sum: 19340\n1340\nLeftSum: [6447, 6446, 6447] sum: 19340\nRightSum: [6446, 6447, 6448] sum: 19341\n1341\nLeftSum: [6446, 6447, 6448] sum: 19341\nRightSum: [6447, 6448, 6457] sum: 19352\n1342\nLeftSum: [6447, 6448, 6457] sum: 19352\nRightSum: [6448, 6457, 6463] sum: 19368\n1343\nLeftSum: [6448, 6457, 6463] sum: 19368\nRightSum: [6457, 6463, 6473] sum: 19393\n1344\nLeftSum: [6457, 6463, 6473] sum: 19393\nRightSum: [6463, 6473, 6476] sum: 19412\n1345\nLeftSum: [6463, 6473, 6476] sum: 19412\nRightSum: [6473, 6476, 6483] sum: 19432\n1346\nLeftSum: [6473, 6476, 6483] sum: 19432\nRightSum: [6476, 6483, 6488] sum: 19447\n1347\nLeftSum: [6476, 6483, 6488] sum: 19447\nRightSum: [6483, 6488, 6486] sum: 19457\n1348\nLeftSum: [6483, 6488, 6486] sum: 19457\nRightSum: [6488, 6486, 6483] sum: 19457\n1348\nLeftSum: [6488, 6486, 6483] sum: 19457\nRightSum: [6486, 6483, 6487] sum: 19456\n1348\nLeftSum: [6486, 6483, 6487] sum: 19456\nRightSum: [6483, 6487, 6491] sum: 19461\n1349\nLeftSum: [6483, 6487, 6491] sum: 19461\nRightSum: [6487, 6491, 6488] sum: 19466\n1350\nLeftSum: [6487, 6491, 6488] sum: 19466\nRightSum: [6491, 6488, 6455] sum: 19434\n1350\nLeftSum: [6491, 6488, 6455] sum: 19434\nRightSum: [6488, 6455, 6471] sum: 19414\n1350\nLeftSum: [6488, 6455, 6471] sum: 19414\nRightSum: [6455, 6471, 6475] sum: 19401\n1350\nLeftSum: [6455, 6471, 6475] sum: 19401\nRightSum: [6471, 6475, 6478] sum: 19424\n1351\nLeftSum: [6471, 6475, 6478] sum: 19424\nRightSum: [6475, 6478, 6498] sum: 19451\n1352\nLeftSum: [6475, 6478, 6498] sum: 19451\nRightSum: [6478, 6498, 6499] sum: 19475\n1353\nLeftSum: [6478, 6498, 6499] sum: 19475\nRightSum: [6498, 6499, 6500] sum: 19497\n1354\nLeftSum: [6498, 6499, 6500] sum: 19497\nRightSum: [6499, 6500, 6501] sum: 19500\n1355\nLeftSum: [6499, 6500, 6501] sum: 19500\nRightSum: [6500, 6501, 6494] sum: 19495\n1355\nLeftSum: [6500, 6501, 6494] sum: 19495\nRightSum: [6501, 6494, 6486] sum: 19481\n1355\nLeftSum: [6501, 6494, 6486] sum: 19481\nRightSum: [6494, 6486, 6487] sum: 19467\n1355\nLeftSum: [6494, 6486, 6487] sum: 19467\nRightSum: [6486, 6487, 6484] sum: 19457\n1355\nLeftSum: [6486, 6487, 6484] sum: 19457\nRightSum: [6487, 6484, 6501] sum: 19472\n1356\nLeftSum: [6487, 6484, 6501] sum: 19472\nRightSum: [6484, 6501, 6497] sum: 19482\n1357\nLeftSum: [6484, 6501, 6497] sum: 19482\nRightSum: [6501, 6497, 6499] sum: 19497\n1358\nLeftSum: [6501, 6497, 6499] sum: 19497\nRightSum: [6497, 6499, 6502] sum: 19498\n1359\nLeftSum: [6497, 6499, 6502] sum: 19498\nRightSum: [6499, 6502, 6504] sum: 19505\n1360\nLeftSum: [6499, 6502, 6504] sum: 19505\nRightSum: [6502, 6504, 6505] sum: 19511\n1361\nLeftSum: [6502, 6504, 6505] sum: 19511\nRightSum: [6504, 6505, 6509] sum: 19518\n1362\nLeftSum: [6504, 6505, 6509] sum: 19518\nRightSum: [6505, 6509, 6525] sum: 19539\n1363\nLeftSum: [6505, 6509, 6525] sum: 19539\nRightSum: [6509, 6525, 6524] sum: 19558\n1364\nLeftSum: [6509, 6525, 6524] sum: 19558\nRightSum: [6525, 6524, 6523] sum: 19572\n1365\nLeftSum: [6525, 6524, 6523] sum: 19572\nRightSum: [6524, 6523, 6543] sum: 19590\n1366\nLeftSum: [6524, 6523, 6543] sum: 19590\nRightSum: [6523, 6543, 6547] sum: 19613\n1367\nLeftSum: [6523, 6543, 6547] sum: 19613\nRightSum: [6543, 6547, 6546] sum: 19636\n1368\nLeftSum: [6543, 6547, 6546] sum: 19636\nRightSum: [6547, 6546, 6536] sum: 19629\n1368\nLeftSum: [6547, 6546, 6536] sum: 19629\nRightSum: [6546, 6536, 6552] sum: 19634\n1369\nLeftSum: [6546, 6536, 6552] sum: 19634\nRightSum: [6536, 6552, 6554] sum: 19642\n1370\nLeftSum: [6536, 6552, 6554] sum: 19642\nRightSum: [6552, 6554, 6562] sum: 19668\n1371\nLeftSum: [6552, 6554, 6562] sum: 19668\nRightSum: [6554, 6562, 6560] sum: 19676\n1372\nLeftSum: [6554, 6562, 6560] sum: 19676\nRightSum: [6562, 6560, 6589] sum: 19711\n1373\nLeftSum: [6562, 6560, 6589] sum: 19711\nRightSum: [6560, 6589, 6591] sum: 19740\n1374\nLeftSum: [6560, 6589, 6591] sum: 19740\nRightSum: [6589, 6591, 6609] sum: 19789\n1375\nLeftSum: [6589, 6591, 6609] sum: 19789\nRightSum: [6591, 6609, 6608] sum: 19808\n1376\nLeftSum: [6591, 6609, 6608] sum: 19808\nRightSum: [6609, 6608, 6604] sum: 19821\n1377\nLeftSum: [6609, 6608, 6604] sum: 19821\nRightSum: [6608, 6604, 6605] sum: 19817\n1377\nLeftSum: [6608, 6604, 6605] sum: 19817\nRightSum: [6604, 6605, 6594] sum: 19803\n1377\nLeftSum: [6604, 6605, 6594] sum: 19803\nRightSum: [6605, 6594, 6608] sum: 19807\n1378\nLeftSum: [6605, 6594, 6608] sum: 19807\nRightSum: [6594, 6608, 6611] sum: 19813\n1379\nLeftSum: [6594, 6608, 6611] sum: 19813\nRightSum: [6608, 6611, 6610] sum: 19829\n1380\nLeftSum: [6608, 6611, 6610] sum: 19829\nRightSum: [6611, 6610, 6611] sum: 19832\n1381\nLeftSum: [6611, 6610, 6611] sum: 19832\nRightSum: [6610, 6611, 6621] sum: 19842\n1382\nLeftSum: [6610, 6611, 6621] sum: 19842\nRightSum: [6611, 6621, 6607] sum: 19839\n1382\nLeftSum: [6611, 6621, 6607] sum: 19839\nRightSum: [6621, 6607, 6612] sum: 19840\n1383\nLeftSum: [6621, 6607, 6612] sum: 19840\nRightSum: [6607, 6612, 6613] sum: 19832\n1383\nLeftSum: [6607, 6612, 6613] sum: 19832\nRightSum: [6612, 6613, 6623] sum: 19848\n1384\nLeftSum: [6612, 6613, 6623] sum: 19848\nRightSum: [6613, 6623, 6628] sum: 19864\n1385\nLeftSum: [6613, 6623, 6628] sum: 19864\nRightSum: [6623, 6628, 6631] sum: 19882\n1386\nLeftSum: [6623, 6628, 6631] sum: 19882\nRightSum: [6628, 6631, 6642] sum: 19901\n1387\nLeftSum: [6628, 6631, 6642] sum: 19901\nRightSum: [6631, 6642, 6663] sum: 19936\n1388\nLeftSum: [6631, 6642, 6663] sum: 19936\nRightSum: [6642, 6663, 6654] sum: 19959\n1389\nLeftSum: [6642, 6663, 6654] sum: 19959\nRightSum: [6663, 6654, 6647] sum: 19964\n1390\nLeftSum: [6663, 6654, 6647] sum: 19964\nRightSum: [6654, 6647, 6640] sum: 19941\n1390\nLeftSum: [6654, 6647, 6640] sum: 19941\nRightSum: [6647, 6640, 6636] sum: 19923\n1390\nLeftSum: [6647, 6640, 6636] sum: 19923\nRightSum: [6640, 6636, 6635] sum: 19911\n1390\nLeftSum: [6640, 6636, 6635] sum: 19911\nRightSum: [6636, 6635, 6641] sum: 19912\n1391\nLeftSum: [6636, 6635, 6641] sum: 19912\nRightSum: [6635, 6641, 6646] sum: 19922\n1392\nLeftSum: [6635, 6641, 6646] sum: 19922\nRightSum: [6641, 6646, 6645] sum: 19932\n1393\nLeftSum: [6641, 6646, 6645] sum: 19932\nRightSum: [6646, 6645, 6646] sum: 19937\n1394\nLeftSum: [6646, 6645, 6646] sum: 19937\nRightSum: [6645, 6646, 6647] sum: 19938\n1395\nLeftSum: [6645, 6646, 6647] sum: 19938\nRightSum: [6646, 6647, 6654] sum: 19947\n1396\nLeftSum: [6646, 6647, 6654] sum: 19947\nRightSum: [6647, 6654, 6655] sum: 19956\n1397\nLeftSum: [6647, 6654, 6655] sum: 19956\nRightSum: [6654, 6655, 6656] sum: 19965\n1398\nLeftSum: [6654, 6655, 6656] sum: 19965\nRightSum: [6655, 6656, 6668] sum: 19979\n1399\nLeftSum: [6655, 6656, 6668] sum: 19979\nRightSum: [6656, 6668, 6669] sum: 19993\n1400\nLeftSum: [6656, 6668, 6669] sum: 19993\nRightSum: [6668, 6669, 6679] sum: 20016\n1401\nLeftSum: [6668, 6669, 6679] sum: 20016\nRightSum: [6669, 6679, 6675] sum: 20023\n1402\nLeftSum: [6669, 6679, 6675] sum: 20023\nRightSum: [6679, 6675, 6687] sum: 20041\n1403\nLeftSum: [6679, 6675, 6687] sum: 20041\nRightSum: [6675, 6687, 6685] sum: 20047\n1404\nLeftSum: [6675, 6687, 6685] sum: 20047\nRightSum: [6687, 6685, 6687] sum: 20059\n1405\nLeftSum: [6687, 6685, 6687] sum: 20059\nRightSum: [6685, 6687, 6716] sum: 20088\n1406\nLeftSum: [6685, 6687, 6716] sum: 20088\nRightSum: [6687, 6716, 6717] sum: 20120\n1407\nLeftSum: [6687, 6716, 6717] sum: 20120\nRightSum: [6716, 6717, 6722] sum: 20155\n1408\nLeftSum: [6716, 6717, 6722] sum: 20155\nRightSum: [6717, 6722, 6730] sum: 20169\n1409\nLeftSum: [6717, 6722, 6730] sum: 20169\nRightSum: [6722, 6730, 6729] sum: 20181\n1410\nLeftSum: [6722, 6730, 6729] sum: 20181\nRightSum: [6730, 6729, 6732] sum: 20191\n1411\nLeftSum: [6730, 6729, 6732] sum: 20191\nRightSum: [6729, 6732, 6735] sum: 20196\n1412\nLeftSum: [6729, 6732, 6735] sum: 20196\nRightSum: [6732, 6735, 6736] sum: 20203\n1413\nLeftSum: [6732, 6735, 6736] sum: 20203\nRightSum: [6735, 6736, 6748] sum: 20219\n1414\nLeftSum: [6735, 6736, 6748] sum: 20219\nRightSum: [6736, 6748, 6759] sum: 20243\n1415\nLeftSum: [6736, 6748, 6759] sum: 20243\nRightSum: [6748, 6759, 6758] sum: 20265\n1416\nLeftSum: [6748, 6759, 6758] sum: 20265\nRightSum: [6759, 6758, 6757] sum: 20274\n1417\nLeftSum: [6759, 6758, 6757] sum: 20274\nRightSum: [6758, 6757, 6780] sum: 20295\n1418\nLeftSum: [6758, 6757, 6780] sum: 20295\nRightSum: [6757, 6780, 6781] sum: 20318\n1419\nLeftSum: [6757, 6780, 6781] sum: 20318\nRightSum: [6780, 6781, 6784] sum: 20345\n1420\nLeftSum: [6780, 6781, 6784] sum: 20345\nRightSum: [6781, 6784, 6794] sum: 20359\n1421\nLeftSum: [6781, 6784, 6794] sum: 20359\nRightSum: [6784, 6794, 6796] sum: 20374\n1422\nLeftSum: [6784, 6794, 6796] sum: 20374\nRightSum: [6794, 6796, 6811] sum: 20401\n1423\nLeftSum: [6794, 6796, 6811] sum: 20401\nRightSum: [6796, 6811, 6817] sum: 20424\n1424\nLeftSum: [6796, 6811, 6817] sum: 20424\nRightSum: [6811, 6817, 6818] sum: 20446\n1425\nLeftSum: [6811, 6817, 6818] sum: 20446\nRightSum: [6817, 6818, 6819] sum: 20454\n1426\nLeftSum: [6817, 6818, 6819] sum: 20454\nRightSum: [6818, 6819, 6820] sum: 20457\n1427\nLeftSum: [6818, 6819, 6820] sum: 20457\nRightSum: [6819, 6820, 6821] sum: 20460\n1428\nLeftSum: [6819, 6820, 6821] sum: 20460\nRightSum: [6820, 6821, 6823] sum: 20464\n1429\nLeftSum: [6820, 6821, 6823] sum: 20464\nRightSum: [6821, 6823, 6812] sum: 20456\n1429\nLeftSum: [6821, 6823, 6812] sum: 20456\nRightSum: [6823, 6812, 6811] sum: 20446\n1429\nLeftSum: [6823, 6812, 6811] sum: 20446\nRightSum: [6812, 6811, 6837] sum: 20460\n1430\nLeftSum: [6812, 6811, 6837] sum: 20460\nRightSum: [6811, 6837, 6839] sum: 20487\n1431\nLeftSum: [6811, 6837, 6839] sum: 20487\nRightSum: [6837, 6839, 6842] sum: 20518\n1432\nLeftSum: [6837, 6839, 6842] sum: 20518\nRightSum: [6839, 6842, 6844] sum: 20525\n1433\nLeftSum: [6839, 6842, 6844] sum: 20525\nRightSum: [6842, 6844, 6842] sum: 20528\n1434\nLeftSum: [6842, 6844, 6842] sum: 20528\nRightSum: [6844, 6842, 6841] sum: 20527\n1434\nLeftSum: [6844, 6842, 6841] sum: 20527\nRightSum: [6842, 6841, 6852] sum: 20535\n1435\nLeftSum: [6842, 6841, 6852] sum: 20535\nRightSum: [6841, 6852, 6853] sum: 20546\n1436\nLeftSum: [6841, 6852, 6853] sum: 20546\nRightSum: [6852, 6853, 6856] sum: 20561\n1437\nLeftSum: [6852, 6853, 6856] sum: 20561\nRightSum: [6853, 6856, 6855] sum: 20564\n1438\nLeftSum: [6853, 6856, 6855] sum: 20564\nRightSum: [6856, 6855, 6865] sum: 20576\n1439\nLeftSum: [6856, 6855, 6865] sum: 20576\nRightSum: [6855, 6865, 6875] sum: 20595\n1440\nLeftSum: [6855, 6865, 6875] sum: 20595\nRightSum: [6865, 6875, 6876] sum: 20616\n1441\nLeftSum: [6865, 6875, 6876] sum: 20616\nRightSum: [6875, 6876, 6898] sum: 20649\n1442\nLeftSum: [6875, 6876, 6898] sum: 20649\nRightSum: [6876, 6898, 6904] sum: 20678\n1443\nLeftSum: [6876, 6898, 6904] sum: 20678\nRightSum: [6898, 6904, 6906] sum: 20708\n1444\nLeftSum: [6898, 6904, 6906] sum: 20708\nRightSum: [6904, 6906, 6910] sum: 20720\n1445\nLeftSum: [6904, 6906, 6910] sum: 20720\nRightSum: [6906, 6910, 6914] sum: 20730\n1446\nLeftSum: [6906, 6910, 6914] sum: 20730\nRightSum: [6910, 6914, 6915] sum: 20739\n1447\nLeftSum: [6910, 6914, 6915] sum: 20739\nRightSum: [6914, 6915, 6905] sum: 20734\n1447\nLeftSum: [6914, 6915, 6905] sum: 20734\nRightSum: [6915, 6905, 6890] sum: 20710\n1447\nLeftSum: [6915, 6905, 6890] sum: 20710\nRightSum: [6905, 6890, 6896] sum: 20691\n1447\nLeftSum: [6905, 6890, 6896] sum: 20691\nRightSum: [6890, 6896, 6894] sum: 20680\n1447\nLeftSum: [6890, 6896, 6894] sum: 20680\nRightSum: [6896, 6894, 6891] sum: 20681\n1448\nLeftSum: [6896, 6894, 6891] sum: 20681\nRightSum: [6894, 6891, 6899] sum: 20684\n1449\nLeftSum: [6894, 6891, 6899] sum: 20684\nRightSum: [6891, 6899, 6904] sum: 20694\n1450\nLeftSum: [6891, 6899, 6904] sum: 20694\nRightSum: [6899, 6904, 6909] sum: 20712\n1451\nLeftSum: [6899, 6904, 6909] sum: 20712\nRightSum: [6904, 6909, 6927] sum: 20740\n1452\nLeftSum: [6904, 6909, 6927] sum: 20740\nRightSum: [6909, 6927, 6928] sum: 20764\n1453\nLeftSum: [6909, 6927, 6928] sum: 20764\nRightSum: [6927, 6928, 6938] sum: 20793\n1454\nLeftSum: [6927, 6928, 6938] sum: 20793\nRightSum: [6928, 6938, 6935] sum: 20801\n1455\nLeftSum: [6928, 6938, 6935] sum: 20801\nRightSum: [6938, 6935, 6936] sum: 20809\n1456\nLeftSum: [6938, 6935, 6936] sum: 20809\nRightSum: [6935, 6936, 6937] sum: 20808\n1456\nLeftSum: [6935, 6936, 6937] sum: 20808\nRightSum: [6936, 6937, 6946] sum: 20819\n1457\nLeftSum: [6936, 6937, 6946] sum: 20819\nRightSum: [6937, 6946, 6949] sum: 20832\n1458\nLeftSum: [6937, 6946, 6949] sum: 20832\nRightSum: [6946, 6949, 6963] sum: 20858\n1459\nLeftSum: [6946, 6949, 6963] sum: 20858\nRightSum: [6949, 6963, 6966] sum: 20878\n1460\nLeftSum: [6949, 6963, 6966] sum: 20878\nRightSum: [6963, 6966, 6975] sum: 20904\n1461\nLeftSum: [6963, 6966, 6975] sum: 20904\nRightSum: [6966, 6975, 6976] sum: 20917\n1462\nLeftSum: [6966, 6975, 6976] sum: 20917\nRightSum: [6975, 6976, 6977] sum: 20928\n1463\nLeftSum: [6975, 6976, 6977] sum: 20928\nRightSum: [6976, 6977, 6973] sum: 20926\n1463\nLeftSum: [6976, 6977, 6973] sum: 20926\nRightSum: [6977, 6973, 6974] sum: 20924\n1463\nLeftSum: [6977, 6973, 6974] sum: 20924\nRightSum: [6973, 6974, 6980] sum: 20927\n1464\nLeftSum: [6973, 6974, 6980] sum: 20927\nRightSum: [6974, 6980, 6984] sum: 20938\n1465\nLeftSum: [6974, 6980, 6984] sum: 20938\nRightSum: [6980, 6984, 7014] sum: 20978\n1466\nLeftSum: [6980, 6984, 7014] sum: 20978\nRightSum: [6984, 7014, 6993] sum: 20991\n1467\nLeftSum: [6984, 7014, 6993] sum: 20991\nRightSum: [7014, 6993, 7004] sum: 21011\n1468\nLeftSum: [7014, 6993, 7004] sum: 21011\nRightSum: [6993, 7004, 7005] sum: 21002\n1468\nLeftSum: [6993, 7004, 7005] sum: 21002\nRightSum: [7004, 7005, 7013] sum: 21022\n1469\nLeftSum: [7004, 7005, 7013] sum: 21022\nRightSum: [7005, 7013, 7016] sum: 21034\n1470\nLeftSum: [7005, 7013, 7016] sum: 21034\nRightSum: [7013, 7016, 7014] sum: 21043\n1471\nLeftSum: [7013, 7016, 7014] sum: 21043\nRightSum: [7016, 7014, 7018] sum: 21048\n1472\nLeftSum: [7016, 7014, 7018] sum: 21048\nRightSum: [7014, 7018, 7029] sum: 21061\n1473\nLeftSum: [7014, 7018, 7029] sum: 21061\nRightSum: [7018, 7029, 7030] sum: 21077\n1474\nLeftSum: [7018, 7029, 7030] sum: 21077\nRightSum: [7029, 7030, 7031] sum: 21090\n1475\nLeftSum: [7029, 7030, 7031] sum: 21090\nRightSum: [7030, 7031, 7038] sum: 21099\n1476\nLeftSum: [7030, 7031, 7038] sum: 21099\nRightSum: [7031, 7038, 7039] sum: 21108\n1477\nLeftSum: [7031, 7038, 7039] sum: 21108\nRightSum: [7038, 7039, 7056] sum: 21133\n1478\nLeftSum: [7038, 7039, 7056] sum: 21133\nRightSum: [7039, 7056, 7079] sum: 21174\n1479\nLeftSum: [7039, 7056, 7079] sum: 21174\nRightSum: [7056, 7079, 7081] sum: 21216\n1480\nLeftSum: [7056, 7079, 7081] sum: 21216\nRightSum: [7079, 7081, 7085] sum: 21245\n1481\nLeftSum: [7079, 7081, 7085] sum: 21245\nRightSum: [7081, 7085, 7103] sum: 21269\n1482\nLeftSum: [7081, 7085, 7103] sum: 21269\nRightSum: [7085, 7103, 7105] sum: 21293\n1483\nLeftSum: [7085, 7103, 7105] sum: 21293\nRightSum: [7103, 7105, 7098] sum: 21306\n1484\nLeftSum: [7103, 7105, 7098] sum: 21306\nRightSum: [7105, 7098, 7101] sum: 21304\n1484\nLeftSum: [7105, 7098, 7101] sum: 21304\nRightSum: [7098, 7101, 7102] sum: 21301\n1484\nLeftSum: [7098, 7101, 7102] sum: 21301\nRightSum: [7101, 7102, 7106] sum: 21309\n1485\nLeftSum: [7101, 7102, 7106] sum: 21309\nRightSum: [7102, 7106, 7111] sum: 21319\n1486\nLeftSum: [7102, 7106, 7111] sum: 21319\nRightSum: [7106, 7111, 7112] sum: 21329\n1487\nLeftSum: [7106, 7111, 7112] sum: 21329\nRightSum: [7111, 7112, 7114] sum: 21337\n1488\nLeftSum: [7111, 7112, 7114] sum: 21337\nRightSum: [7112, 7114, 7101] sum: 21327\n1488\nLeftSum: [7112, 7114, 7101] sum: 21327\nRightSum: [7114, 7101, 7107] sum: 21322\n1488\nLeftSum: [7114, 7101, 7107] sum: 21322\nRightSum: [7101, 7107, 7117] sum: 21325\n1489\nLeftSum: [7101, 7107, 7117] sum: 21325\nRightSum: [7107, 7117, 7085] sum: 21309\n1489\nLeftSum: [7107, 7117, 7085] sum: 21309\nRightSum: [7117, 7085, 7093] sum: 21295\n1489\nLeftSum: [7117, 7085, 7093] sum: 21295\nRightSum: [7085, 7093, 7091] sum: 21269\n1489\nLeftSum: [7085, 7093, 7091] sum: 21269\nRightSum: [7093, 7091, 7119] sum: 21303\n1490\nLeftSum: [7093, 7091, 7119] sum: 21303\nRightSum: [7091, 7119, 7115] sum: 21325\n1491\nLeftSum: [7091, 7119, 7115] sum: 21325\nRightSum: [7119, 7115, 7126] sum: 21360\n1492\nLeftSum: [7119, 7115, 7126] sum: 21360\nRightSum: [7115, 7126, 7130] sum: 21371\n1493\nLeftSum: [7115, 7126, 7130] sum: 21371\nRightSum: [7126, 7130, 7129] sum: 21385\n1494\nLeftSum: [7126, 7130, 7129] sum: 21385\nRightSum: [7130, 7129, 7139] sum: 21398\n1495\nLeftSum: [7130, 7129, 7139] sum: 21398\nRightSum: [7129, 7139, 7142] sum: 21410\n1496\nLeftSum: [7129, 7139, 7142] sum: 21410\nRightSum: [7139, 7142, 7147] sum: 21428\n1497\nLeftSum: [7139, 7142, 7147] sum: 21428\nRightSum: [7142, 7147, 7169] sum: 21458\n1498\nLeftSum: [7142, 7147, 7169] sum: 21458\nRightSum: [7147, 7169, 7160] sum: 21476\n1499\nLeftSum: [7147, 7169, 7160] sum: 21476\nRightSum: [7169, 7160, 7171] sum: 21500\n1500\nLeftSum: [7169, 7160, 7171] sum: 21500\nRightSum: [7160, 7171, 7187] sum: 21518\n1501\nLeftSum: [7160, 7171, 7187] sum: 21518\nRightSum: [7171, 7187, 7188] sum: 21546\n1502\nLeftSum: [7171, 7187, 7188] sum: 21546\nRightSum: [7187, 7188, 7189] sum: 21564\n1503\nLeftSum: [7187, 7188, 7189] sum: 21564\nRightSum: [7188, 7189, 7188] sum: 21565\n1504\nLeftSum: [7188, 7189, 7188] sum: 21565\nRightSum: [7189, 7188, 7190] sum: 21567\n1505\nLeftSum: [7189, 7188, 7190] sum: 21567\nRightSum: [7188, 7190, 7194] sum: 21572\n1506\nLeftSum: [7188, 7190, 7194] sum: 21572\nRightSum: [7190, 7194, 7197] sum: 21581\n1507\nLeftSum: [7190, 7194, 7197] sum: 21581\nRightSum: [7194, 7197, 7212] sum: 21603\n1508\nLeftSum: [7194, 7197, 7212] sum: 21603\nRightSum: [7197, 7212, 7220] sum: 21629\n1509\nLeftSum: [7197, 7212, 7220] sum: 21629\nRightSum: [7212, 7220, 7228] sum: 21660\n1510\nLeftSum: [7212, 7220, 7228] sum: 21660\nRightSum: [7220, 7228, 7227] sum: 21675\n1511\nLeftSum: [7220, 7228, 7227] sum: 21675\nRightSum: [7228, 7227, 7223] sum: 21678\n1512\nLeftSum: [7228, 7227, 7223] sum: 21678\nRightSum: [7227, 7223, 7225] sum: 21675\n1512\nLeftSum: [7227, 7223, 7225] sum: 21675\nRightSum: [7223, 7225, 7236] sum: 21684\n1513\nLeftSum: [7223, 7225, 7236] sum: 21684\nRightSum: [7225, 7236, 7237] sum: 21698\n1514\nLeftSum: [7225, 7236, 7237] sum: 21698\nRightSum: [7236, 7237, 7241] sum: 21714\n1515\nLeftSum: [7236, 7237, 7241] sum: 21714\nRightSum: [7237, 7241, 7243] sum: 21721\n1516\nLeftSum: [7237, 7241, 7243] sum: 21721\nRightSum: [7241, 7243, 7246] sum: 21730\n1517\nLeftSum: [7241, 7243, 7246] sum: 21730\nRightSum: [7243, 7246, 7252] sum: 21741\n1518\nLeftSum: [7243, 7246, 7252] sum: 21741\nRightSum: [7246, 7252, 7280] sum: 21778\n1519\nLeftSum: [7246, 7252, 7280] sum: 21778\nRightSum: [7252, 7280, 7279] sum: 21811\n1520\nLeftSum: [7252, 7280, 7279] sum: 21811\nRightSum: [7280, 7279, 7294] sum: 21853\n1521\nLeftSum: [7280, 7279, 7294] sum: 21853\nRightSum: [7279, 7294, 7295] sum: 21868\n1522\nLeftSum: [7279, 7294, 7295] sum: 21868\nRightSum: [7294, 7295, 7298] sum: 21887\n1523\nLeftSum: [7294, 7295, 7298] sum: 21887\nRightSum: [7295, 7298, 7300] sum: 21893\n1524\nLeftSum: [7295, 7298, 7300] sum: 21893\nRightSum: [7298, 7300, 7289] sum: 21887\n1524\nLeftSum: [7298, 7300, 7289] sum: 21887\nRightSum: [7300, 7289, 7291] sum: 21880\n1524\nLeftSum: [7300, 7289, 7291] sum: 21880\nRightSum: [7289, 7291, 7290] sum: 21870\n1524\nLeftSum: [7289, 7291, 7290] sum: 21870\nRightSum: [7291, 7290, 7288] sum: 21869\n1524\nLeftSum: [7291, 7290, 7288] sum: 21869\nRightSum: [7290, 7288, 7289] sum: 21867\n1524\nLeftSum: [7290, 7288, 7289] sum: 21867\nRightSum: [7288, 7289, 7291] sum: 21868\n1525\nLeftSum: [7288, 7289, 7291] sum: 21868\nRightSum: [7289, 7291, 7290] sum: 21870\n1526\nLeftSum: [7289, 7291, 7290] sum: 21870\nRightSum: [7291, 7290, 7295] sum: 21876\n1527\nLeftSum: [7291, 7290, 7295] sum: 21876\nRightSum: [7290, 7295, 7294] sum: 21879\n1528\nLeftSum: [7290, 7295, 7294] sum: 21879\nRightSum: [7295, 7294, 7275] sum: 21864\n1528\nLeftSum: [7295, 7294, 7275] sum: 21864\nRightSum: [7294, 7275, 7278] sum: 21847\n1528\nLeftSum: [7294, 7275, 7278] sum: 21847\nRightSum: [7275, 7278, 7290] sum: 21843\n1528\nLeftSum: [7275, 7278, 7290] sum: 21843\nRightSum: [7278, 7290, 7295] sum: 21863\n1529\nLeftSum: [7278, 7290, 7295] sum: 21863\nRightSum: [7290, 7295, 7302] sum: 21887\n1530\nLeftSum: [7290, 7295, 7302] sum: 21887\nRightSum: [7295, 7302, 7304] sum: 21901\n1531\nLeftSum: [7295, 7302, 7304] sum: 21901\nRightSum: [7302, 7304, 7309] sum: 21915\n1532\nLeftSum: [7302, 7304, 7309] sum: 21915\nRightSum: [7304, 7309, 7308] sum: 21921\n1533\nLeftSum: [7304, 7309, 7308] sum: 21921\nRightSum: [7309, 7308, 7321] sum: 21938\n1534\nLeftSum: [7309, 7308, 7321] sum: 21938\nRightSum: [7308, 7321, 7325] sum: 21954\n1535\nLeftSum: [7308, 7321, 7325] sum: 21954\nRightSum: [7321, 7325, 7328] sum: 21974\n1536\nLeftSum: [7321, 7325, 7328] sum: 21974\nRightSum: [7325, 7328, 7346] sum: 21999\n1537\nLeftSum: [7325, 7328, 7346] sum: 21999\nRightSum: [7328, 7346, 7338] sum: 22012\n1538\nLeftSum: [7328, 7346, 7338] sum: 22012\nRightSum: [7346, 7338, 7340] sum: 22024\n1539\nLeftSum: [7346, 7338, 7340] sum: 22024\nRightSum: [7338, 7340, 7354] sum: 22032\n1540\nLeftSum: [7338, 7340, 7354] sum: 22032\nRightSum: [7340, 7354, 7361] sum: 22055\n1541\nLeftSum: [7340, 7354, 7361] sum: 22055\nRightSum: [7354, 7361, 7368] sum: 22083\n1542\nLeftSum: [7354, 7361, 7368] sum: 22083\nRightSum: [7361, 7368, 7391] sum: 22120\n1543\nLeftSum: [7361, 7368, 7391] sum: 22120\nRightSum: [7368, 7391, 7415] sum: 22174\n1544\nLeftSum: [7368, 7391, 7415] sum: 22174\nRightSum: [7391, 7415, 7426] sum: 22232\n1545\nLeftSum: [7391, 7415, 7426] sum: 22232\nRightSum: [7415, 7426, 7428] sum: 22269\n1546\nLeftSum: [7415, 7426, 7428] sum: 22269\nRightSum: [7426, 7428, 7429] sum: 22283\n1547\nLeftSum: [7426, 7428, 7429] sum: 22283\nRightSum: [7428, 7429, 7422] sum: 22279\n1547\nLeftSum: [7428, 7429, 7422] sum: 22279\nRightSum: [7429, 7422, 7423] sum: 22274\n1547\nLeftSum: [7429, 7422, 7423] sum: 22274\nRightSum: [7422, 7423, 7425] sum: 22270\n1547\nLeftSum: [7422, 7423, 7425] sum: 22270\nRightSum: [7423, 7425, 7426] sum: 22274\n1548\nLeftSum: [7423, 7425, 7426] sum: 22274\nRightSum: [7425, 7426, 7429] sum: 22280\n1549\nLeftSum: [7425, 7426, 7429] sum: 22280\nRightSum: [7426, 7429, 7431] sum: 22286\n1550\nLeftSum: [7426, 7429, 7431] sum: 22286\nRightSum: [7429, 7431, 7442] sum: 22302\n1551\nLeftSum: [7429, 7431, 7442] sum: 22302\nRightSum: [7431, 7442, 7440] sum: 22313\n1552\nLeftSum: [7431, 7442, 7440] sum: 22313\nRightSum: [7442, 7440, 7443] sum: 22325\n1553\nLeftSum: [7442, 7440, 7443] sum: 22325\nRightSum: [7440, 7443, 7457] sum: 22340\n1554\nLeftSum: [7440, 7443, 7457] sum: 22340\nRightSum: [7443, 7457, 7458] sum: 22358\n1555\nLeftSum: [7443, 7457, 7458] sum: 22358\nRightSum: [7457, 7458, 7457] sum: 22372\n1556\nLeftSum: [7457, 7458, 7457] sum: 22372\nRightSum: [7458, 7457, 7464] sum: 22379\n1557\nLeftSum: [7458, 7457, 7464] sum: 22379\nRightSum: [7457, 7464, 7474] sum: 22395\n1558\nLeftSum: [7457, 7464, 7474] sum: 22395\nRightSum: [7464, 7474, 7477] sum: 22415\n1559\nLeftSum: [7464, 7474, 7477] sum: 22415\nRightSum: [7474, 7477, 7469] sum: 22420\n1560\nLeftSum: [7474, 7477, 7469] sum: 22420\nRightSum: [7477, 7469, 7467] sum: 22413\n1560\nLeftSum: [7477, 7469, 7467] sum: 22413\nRightSum: [7469, 7467, 7471] sum: 22407\n1560\nLeftSum: [7469, 7467, 7471] sum: 22407\nRightSum: [7467, 7471, 7479] sum: 22417\n1561\nLeftSum: [7467, 7471, 7479] sum: 22417\nRightSum: [7471, 7479, 7480] sum: 22430\n1562\nLeftSum: [7471, 7479, 7480] sum: 22430\nRightSum: [7479, 7480, 7485] sum: 22444\n1563\nLeftSum: [7479, 7480, 7485] sum: 22444\nRightSum: [7480, 7485, 7482] sum: 22447\n1564\nLeftSum: [7480, 7485, 7482] sum: 22447\nRightSum: [7485, 7482, 7483] sum: 22450\n1565\nLeftSum: [7485, 7482, 7483] sum: 22450\nRightSum: [7482, 7483, 7484] sum: 22449\n1565\nLeftSum: [7482, 7483, 7484] sum: 22449\nRightSum: [7483, 7484, 7488] sum: 22455\n1566\nLeftSum: [7483, 7484, 7488] sum: 22455\nRightSum: [7484, 7488, 7497] sum: 22469\n1567\n",
     "output_type": "stream"
    },
    {
     "output_type": "execute_result",
     "execution_count": 6,
     "data": {
      "text/plain": "1567"
     },
     "metadata": {}
    }
   ]
  },
  {
   "cell_type": "code",
   "metadata": {
    "tags": [],
    "cell_id": "00013-0455d4c9-e486-492c-a5d3-6bd2b2504e93",
    "deepnote_cell_type": "code"
   },
   "source": "",
   "execution_count": null,
   "outputs": []
  },
  {
   "cell_type": "markdown",
   "source": "<a style='text-decoration:none;line-height:16px;display:flex;color:#5B5B62;padding:10px;justify-content:end;' href='https://deepnote.com?utm_source=created-in-deepnote-cell&projectId=bd016081-ae17-4140-bec0-448f994d8f2f' target=\"_blank\">\n<img alt='Created in deepnote.com' style='display:inline;max-height:16px;margin:0px;margin-right:7.5px;' src='data:image/svg+xml;base64,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' > </img>\nCreated in <span style='font-weight:600;margin-left:4px;'>Deepnote</span></a>",
   "metadata": {
    "tags": [],
    "created_in_deepnote_cell": true,
    "deepnote_cell_type": "markdown"
   }
  }
 ],
 "nbformat": 4,
 "nbformat_minor": 2,
 "metadata": {
  "orig_nbformat": 2,
  "deepnote": {
   "is_reactive": false
  },
  "deepnote_notebook_id": "b2ec9e36-17a3-4556-a08f-8ca6f025fec0",
  "deepnote_execution_queue": []
 }
}