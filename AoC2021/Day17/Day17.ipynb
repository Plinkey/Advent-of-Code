{
  "nbformat": 4,
  "nbformat_minor": 0,
  "metadata": {
    "colab": {
      "name": "Day17.ipynb",
      "provenance": [],
      "collapsed_sections": []
    },
    "kernelspec": {
      "name": "python3",
      "display_name": "Python 3"
    },
    "language_info": {
      "name": "python"
    }
  },
  "cells": [
    {
      "cell_type": "markdown",
      "source": [
        "# Process Input\n",
        "The input is so simple, I'm just going to do it by hand"
      ],
      "metadata": {
        "id": "PWsAYVeNjlbS"
      }
    },
    {
      "cell_type": "code",
      "execution_count": 128,
      "metadata": {
        "id": "R1kQpwR6jVqy"
      },
      "outputs": [],
      "source": [
        "# Actual Input\n",
        "#target area: x=235..259, y=-118..-62\n",
        "targetX = [235,259]\n",
        "targetY = [-118, -62]\n",
        "target = [targetX, targetY]\n",
        "#target area: x=235..259, y=-118..-62"
      ]
    },
    {
      "cell_type": "code",
      "source": [
        "# Example Input\n",
        "#target area: x=20..30, y=-10..-5\n",
        "targetX = [20, 30]\n",
        "targetY = [-10, -5]\n",
        "target = [targetX, targetY]\n",
        "target"
      ],
      "metadata": {
        "colab": {
          "base_uri": "https://localhost:8080/"
        },
        "id": "_dlq7RC0jcKR",
        "outputId": "e2b2c87f-531e-4750-910c-e31f826ecb6e"
      },
      "execution_count": 124,
      "outputs": [
        {
          "output_type": "execute_result",
          "data": {
            "text/plain": [
              "[[20, 30], [-10, -5]]"
            ]
          },
          "metadata": {},
          "execution_count": 124
        }
      ]
    },
    {
      "cell_type": "markdown",
      "source": [
        "# Run Trajectory"
      ],
      "metadata": {
        "id": "PHcxoz7WkQaO"
      }
    },
    {
      "cell_type": "code",
      "source": [
        "def shoot(hVel, vVel, nSteps=20):\n",
        "    traj = []\n",
        "    prev = [0,0]\n",
        "    while True:\n",
        "        traj.append(prev)\n",
        "        next = [prev[0]+hVel, prev[1]+vVel]\n",
        "        if hVel < 0:\n",
        "            hVel += 1\n",
        "        elif hVel > 0:\n",
        "            hVel -= 1\n",
        "        elif hVel == 0:\n",
        "            hVel = 0\n",
        "        vVel -= 1\n",
        "        prev = next\n",
        "        if prev[1] < min(target[1]):\n",
        "            return traj\n"
      ],
      "metadata": {
        "id": "5nJedPpskRkR"
      },
      "execution_count": 118,
      "outputs": []
    },
    {
      "cell_type": "markdown",
      "source": [
        "# Check if in Target"
      ],
      "metadata": {
        "id": "qEP5WIuZpMe8"
      }
    },
    {
      "cell_type": "code",
      "source": [
        "def check(point):\n",
        "    flag = False\n",
        "    if point[0] >= target[0][0] and point[0] <= target[0][1]:\n",
        "        if point[1] >= target[1][0] and point[1] <= target[1][1]:\n",
        "            flag = True\n",
        "    return flag"
      ],
      "metadata": {
        "id": "HJG9_zQkpPON"
      },
      "execution_count": 119,
      "outputs": []
    },
    {
      "cell_type": "markdown",
      "source": [
        "# Check All"
      ],
      "metadata": {
        "id": "9Wf0xb4jqDX8"
      }
    },
    {
      "cell_type": "code",
      "source": [
        "def check_all(traj):\n",
        "    for pt in traj:\n",
        "        if check(pt) == True:\n",
        "            return True\n",
        "    return False"
      ],
      "metadata": {
        "id": "xTdvUMTLp4rv"
      },
      "execution_count": 120,
      "outputs": []
    },
    {
      "cell_type": "markdown",
      "source": [
        "# Return Max Y"
      ],
      "metadata": {
        "id": "5HtEDKerrKXf"
      }
    },
    {
      "cell_type": "code",
      "source": [
        "def maxY(traj):\n",
        "    maxY = 0\n",
        "    for pt in traj:\n",
        "        if pt[1] > maxY:\n",
        "            maxY = pt[1]\n",
        "    return maxY"
      ],
      "metadata": {
        "id": "VFSXRpG1rM6M"
      },
      "execution_count": 121,
      "outputs": []
    },
    {
      "cell_type": "markdown",
      "source": [
        "# Run PART ONE"
      ],
      "metadata": {
        "id": "m9sFr9b5q0ez"
      }
    },
    {
      "cell_type": "code",
      "source": [
        "target"
      ],
      "metadata": {
        "colab": {
          "base_uri": "https://localhost:8080/"
        },
        "id": "H-xxukMhsksl",
        "outputId": "8a54ec20-75e6-4b30-877f-a1683e880532"
      },
      "execution_count": 122,
      "outputs": [
        {
          "output_type": "execute_result",
          "data": {
            "text/plain": [
              "[[235, 259], [-118, -62]]"
            ]
          },
          "metadata": {},
          "execution_count": 122
        }
      ]
    },
    {
      "cell_type": "code",
      "source": [
        "vVelMin = 1\n",
        "vVelMax = 300\n",
        "hVelMin = 1\n",
        "hVelMax = 300\n",
        "\n",
        "maxHeight=0\n",
        "for v in range(vVelMin, vVelMax):\n",
        "    for h in range(hVelMin, hVelMax):\n",
        "        traj = shoot(h, v)\n",
        "        if check_all(traj):\n",
        "            #print('shoot: ({},{})'.format(h,v))\n",
        "            apogee = maxY(traj)\n",
        "            if apogee > maxHeight:\n",
        "                maxHeight = apogee\n",
        "print('Answer to part one is: {}'.format(maxHeight))"
      ],
      "metadata": {
        "colab": {
          "base_uri": "https://localhost:8080/"
        },
        "id": "XU4UGWzQq-Tk",
        "outputId": "a526ff43-b033-487f-f2f7-c42365d0edf4"
      },
      "execution_count": 123,
      "outputs": [
        {
          "output_type": "stream",
          "name": "stdout",
          "text": [
            "Answer to part one is: 6903\n"
          ]
        }
      ]
    },
    {
      "cell_type": "markdown",
      "source": [
        "# Run PART TWO"
      ],
      "metadata": {
        "id": "vxp6zGkVwrG4"
      }
    },
    {
      "cell_type": "code",
      "source": [
        "vVelMin = -300\n",
        "vVelMax = 300\n",
        "hVelMin = 1\n",
        "hVelMax = 300\n",
        "\n",
        "valid = []\n",
        "for v in range(vVelMin, vVelMax):\n",
        "    for h in range(hVelMin, hVelMax):\n",
        "        traj = shoot(h, v)\n",
        "        if check_all(traj):\n",
        "            valid.append([h,v])\n",
        "            \n",
        "print('Answer to part one is: {}'.format(len(valid)))"
      ],
      "metadata": {
        "colab": {
          "base_uri": "https://localhost:8080/"
        },
        "id": "FpglxqKov4mf",
        "outputId": "fcc77cf0-e95c-42ff-d448-97fff07e7e29"
      },
      "execution_count": 129,
      "outputs": [
        {
          "output_type": "stream",
          "name": "stdout",
          "text": [
            "Answer to part one is: 2351\n"
          ]
        }
      ]
    },
    {
      "cell_type": "code",
      "source": [
        ""
      ],
      "metadata": {
        "id": "81uewzVfw7Ur"
      },
      "execution_count": null,
      "outputs": []
    }
  ]
}