{
  "nbformat": 4,
  "nbformat_minor": 0,
  "metadata": {
    "colab": {
      "name": "Day12.ipynb",
      "provenance": [],
      "collapsed_sections": []
    },
    "kernelspec": {
      "name": "python3",
      "display_name": "Python 3"
    },
    "language_info": {
      "name": "python"
    }
  },
  "cells": [
    {
      "cell_type": "markdown",
      "source": [
        "# Traverse Function"
      ],
      "metadata": {
        "id": "zZmGpCkEWoSF"
      }
    },
    {
      "cell_type": "code",
      "source": [
        "def traverse(path=['start']):\n",
        "    if path[-1] == 'end': return 1\n",
        "    newnodes = [node for node in graph[path[-1]] if node not in path or node.upper()==node]\n",
        "    if len(newnodes)==0: return 0\n",
        "    return sum([traverse(path=path+[node]) for node in newnodes])\n",
        "\n"
      ],
      "metadata": {
        "colab": {
          "base_uri": "https://localhost:8080/"
        },
        "id": "PZv9o0-NWanN",
        "outputId": "cd208dc5-bf65-400b-972a-97ac2dbafe49"
      },
      "execution_count": 17,
      "outputs": [
        {
          "output_type": "stream",
          "name": "stdout",
          "text": [
            "10\n"
          ]
        }
      ]
    },
    {
      "cell_type": "markdown",
      "source": [
        "# Small Example"
      ],
      "metadata": {
        "id": "grPyDgLaWUrP"
      }
    },
    {
      "cell_type": "code",
      "execution_count": 15,
      "metadata": {
        "id": "zY48rWle-_Np",
        "colab": {
          "base_uri": "https://localhost:8080/"
        },
        "outputId": "badc5e92-74fd-407f-9d8e-3bd5093fe39c"
      },
      "outputs": [
        {
          "output_type": "execute_result",
          "data": {
            "text/plain": [
              "defaultdict(set,\n",
              "            {'A': {'b', 'c', 'end', 'start'},\n",
              "             'b': {'A', 'd', 'end', 'start'},\n",
              "             'c': {'A'},\n",
              "             'd': {'b'},\n",
              "             'end': {'A', 'b'},\n",
              "             'start': {'A', 'b'}})"
            ]
          },
          "metadata": {},
          "execution_count": 15
        }
      ],
      "source": [
        "from collections import defaultdict\n",
        "with open('Day12.smallexample','r') as f:\n",
        "    rawdata = f.read().splitlines()\n",
        "\n",
        "data = []\n",
        "for line in rawdata:\n",
        "    start, end = line.split('-')\n",
        "    data.append([start, end])\n",
        "\n",
        "graph = defaultdict(set)\n",
        "for a,b in data:\n",
        "    graph[a].add(b)\n",
        "    graph[b].add(a)\n",
        "graph"
      ]
    },
    {
      "cell_type": "code",
      "source": [
        "print('Answer to small example is: {}'.format(traverse()))"
      ],
      "metadata": {
        "colab": {
          "base_uri": "https://localhost:8080/"
        },
        "id": "XmqbOe_DXVco",
        "outputId": "6998e1ef-5a43-4b2c-8efc-5d4d59c427a9"
      },
      "execution_count": 18,
      "outputs": [
        {
          "output_type": "stream",
          "name": "stdout",
          "text": [
            "Answer to small example is: 10\n"
          ]
        }
      ]
    },
    {
      "cell_type": "markdown",
      "source": [
        "# Large Example"
      ],
      "metadata": {
        "id": "Ay1YMY63Y31y"
      }
    },
    {
      "cell_type": "code",
      "source": [
        "from collections import defaultdict\n",
        "with open('Day12.largeexample','r') as f:\n",
        "    rawdata = f.read().splitlines()\n",
        "\n",
        "data = []\n",
        "for line in rawdata:\n",
        "    start, end = line.split('-')\n",
        "    data.append([start, end])\n",
        "\n",
        "graph = defaultdict(set)\n",
        "for a,b in data:\n",
        "    graph[a].add(b)\n",
        "    graph[b].add(a)\n",
        "graph"
      ],
      "metadata": {
        "colab": {
          "base_uri": "https://localhost:8080/"
        },
        "id": "u6Mh0mCvY9er",
        "outputId": "fed88fae-34df-4181-e620-f41a39305cc1"
      },
      "execution_count": 19,
      "outputs": [
        {
          "output_type": "execute_result",
          "data": {
            "text/plain": [
              "defaultdict(set,\n",
              "            {'HN': {'dc', 'end', 'kj', 'start'},\n",
              "             'LN': {'dc'},\n",
              "             'dc': {'HN', 'LN', 'end', 'kj', 'start'},\n",
              "             'end': {'HN', 'dc'},\n",
              "             'kj': {'HN', 'dc', 'sa', 'start'},\n",
              "             'sa': {'kj'},\n",
              "             'start': {'HN', 'dc', 'kj'}})"
            ]
          },
          "metadata": {},
          "execution_count": 19
        }
      ]
    },
    {
      "cell_type": "code",
      "source": [
        "print('Answer to large example is: {}'.format(traverse()))"
      ],
      "metadata": {
        "colab": {
          "base_uri": "https://localhost:8080/"
        },
        "id": "Ce7XnhXwZGeT",
        "outputId": "f2763517-5782-4401-f9bf-4e7c302881f7"
      },
      "execution_count": 21,
      "outputs": [
        {
          "output_type": "stream",
          "name": "stdout",
          "text": [
            "Answer to large example is: 19\n"
          ]
        }
      ]
    },
    {
      "cell_type": "markdown",
      "source": [
        "# Largest Example"
      ],
      "metadata": {
        "id": "I7kyhenLZN7e"
      }
    },
    {
      "cell_type": "code",
      "source": [
        "from collections import defaultdict\n",
        "with open('Day12.largestexample','r') as f:\n",
        "    rawdata = f.read().splitlines()\n",
        "\n",
        "data = []\n",
        "for line in rawdata:\n",
        "    start, end = line.split('-')\n",
        "    data.append([start, end])\n",
        "\n",
        "graph = defaultdict(set)\n",
        "for a,b in data:\n",
        "    graph[a].add(b)\n",
        "    graph[b].add(a)\n",
        "graph"
      ],
      "metadata": {
        "colab": {
          "base_uri": "https://localhost:8080/"
        },
        "id": "0vFL6s3WZPDL",
        "outputId": "84636fe2-f5c5-483c-bbc2-0f8d3cd676d8"
      },
      "execution_count": 24,
      "outputs": [
        {
          "output_type": "execute_result",
          "data": {
            "text/plain": [
              "defaultdict(set,\n",
              "            {'DX': {'fs', 'he', 'pj', 'start'},\n",
              "             'RW': {'he', 'pj', 'start', 'zg'},\n",
              "             'WI': {'he'},\n",
              "             'end': {'fs', 'zg'},\n",
              "             'fs': {'DX', 'end', 'he', 'pj'},\n",
              "             'he': {'DX', 'RW', 'WI', 'fs', 'pj', 'zg'},\n",
              "             'pj': {'DX', 'RW', 'fs', 'he', 'start', 'zg'},\n",
              "             'sl': {'zg'},\n",
              "             'start': {'DX', 'RW', 'pj'},\n",
              "             'zg': {'RW', 'end', 'he', 'pj', 'sl'}})"
            ]
          },
          "metadata": {},
          "execution_count": 24
        }
      ]
    },
    {
      "cell_type": "code",
      "source": [
        "print('Answer to largest example is: {}'.format(traverse()))"
      ],
      "metadata": {
        "colab": {
          "base_uri": "https://localhost:8080/"
        },
        "id": "VSI8tsYgZUUb",
        "outputId": "a1494f43-bd6c-4bf2-a07b-48cffb06b38c"
      },
      "execution_count": 25,
      "outputs": [
        {
          "output_type": "stream",
          "name": "stdout",
          "text": [
            "Answer to largest example is: 226\n"
          ]
        }
      ]
    },
    {
      "cell_type": "code",
      "source": [
        ""
      ],
      "metadata": {
        "id": "9v3F8iJyZWcb"
      },
      "execution_count": null,
      "outputs": []
    },
    {
      "cell_type": "markdown",
      "source": [
        "# Real Data"
      ],
      "metadata": {
        "id": "r1TWSauLZah_"
      }
    },
    {
      "cell_type": "code",
      "source": [
        "from collections import defaultdict\n",
        "with open('Day12.input','r') as f:\n",
        "    rawdata = f.read().splitlines()\n",
        "\n",
        "data = []\n",
        "for line in rawdata:\n",
        "    start, end = line.split('-')\n",
        "    data.append([start, end])\n",
        "\n",
        "graph = defaultdict(set)\n",
        "for a,b in data:\n",
        "    graph[a].add(b)\n",
        "    graph[b].add(a)\n",
        "graph"
      ],
      "metadata": {
        "colab": {
          "base_uri": "https://localhost:8080/"
        },
        "id": "fIMEBcjBZbYC",
        "outputId": "202afa92-5161-4f2b-d878-2ef30f33f84b"
      },
      "execution_count": 26,
      "outputs": [
        {
          "output_type": "execute_result",
          "data": {
            "text/plain": [
              "defaultdict(set,\n",
              "            {'DM': {'xd'},\n",
              "             'KN': {'end', 'jg', 'yb'},\n",
              "             'LD': {'ej', 'jg', 'qx', 'start', 'xd'},\n",
              "             'UF': {'end', 'jg', 'qx', 'xd', 'yb'},\n",
              "             'ej': {'LD', 'jg', 'qx', 'start'},\n",
              "             'end': {'KN', 'UF', 'xd'},\n",
              "             'jg': {'KN', 'LD', 'UF', 'ej', 'qx', 'yb'},\n",
              "             'pi': {'yb'},\n",
              "             'qx': {'LD', 'UF', 'ej', 'jg', 'start', 'yb'},\n",
              "             'start': {'LD', 'ej', 'qx'},\n",
              "             'xd': {'DM', 'LD', 'UF', 'end', 'yb'},\n",
              "             'yb': {'KN', 'UF', 'jg', 'pi', 'qx', 'xd'}})"
            ]
          },
          "metadata": {},
          "execution_count": 26
        }
      ]
    },
    {
      "cell_type": "code",
      "source": [
        "print('Answer to part one is: {}'.format(traverse()))"
      ],
      "metadata": {
        "colab": {
          "base_uri": "https://localhost:8080/"
        },
        "id": "PeVq8AHEZjNi",
        "outputId": "99a23ed8-0f68-4b7b-a09b-f8348fb39652"
      },
      "execution_count": 27,
      "outputs": [
        {
          "output_type": "stream",
          "name": "stdout",
          "text": [
            "Answer to part one is: 4011\n"
          ]
        }
      ]
    },
    {
      "cell_type": "code",
      "source": [
        ""
      ],
      "metadata": {
        "id": "vz-h466EZlvB"
      },
      "execution_count": null,
      "outputs": []
    }
  ]
}