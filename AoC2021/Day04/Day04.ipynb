{
  "nbformat": 4,
  "nbformat_minor": 0,
  "metadata": {
    "colab": {
      "name": "AoC_Day04.ipynb",
      "provenance": [],
      "collapsed_sections": []
    },
    "kernelspec": {
      "name": "python3",
      "display_name": "Python 3"
    },
    "language_info": {
      "name": "python"
    }
  },
  "cells": [
    {
      "cell_type": "code",
      "metadata": {
        "id": "2hVINOnwgGRp"
      },
      "source": [
        "import numpy as np\n",
        "import re\n",
        "#with open('Day04.example','r') as f:\n",
        "with open('Day04.input','r') as f:\n",
        "    rawdata = f.read().splitlines()\n",
        "\n",
        "cards = []\n",
        "ncards = 0\n",
        "tmp = []\n",
        "for idx, line in enumerate(rawdata):\n",
        "    if idx == 0:\n",
        "        bingo = [int(i) for i in line.split(',')]\n",
        "    elif line == '':\n",
        "        if idx == 1:\n",
        "            continue\n",
        "        else:\n",
        "            cards.append(tmp)\n",
        "            tmp = []\n",
        "            continue\n",
        "    else:\n",
        "        row = [int(i) for i in re.split(' +',line.strip())]\n",
        "        if not len(tmp): # First row\n",
        "            tmp = np.array(row)\n",
        "        else:\n",
        "            tmp = np.vstack([tmp,row])\n",
        "\n",
        "cards.append(tmp)\n",
        "\n",
        "def check(card, pos):\n",
        "    if np.isnan(card[:,pos[1]]).all(): \n",
        "        return True\n",
        "    elif np.isnan(card[pos[0],:]).all():\n",
        "        return True\n",
        "    else:\n",
        "        return False\n",
        "\n",
        "def punch(card, pos):\n",
        "    card = card.astype('float')\n",
        "    card[pos[0],pos[1]] = np.nan\n",
        "    return card"
      ],
      "execution_count": 350,
      "outputs": []
    },
    {
      "cell_type": "code",
      "metadata": {
        "colab": {
          "base_uri": "https://localhost:8080/"
        },
        "id": "1HqmYGFqw2yf",
        "outputId": "6defdf22-16fb-49a4-e226-e06660afc87d"
      },
      "source": [
        "for ball in bingo:\n",
        "    for cardx, card in enumerate(cards):\n",
        "        for rdx, row in enumerate(card):\n",
        "            for cdx, value in enumerate(row):\n",
        "                if value == ball:\n",
        "                    print('VALUE: {}'.format(value)) \n",
        "                    card = punch(card,[rdx,cdx])\n",
        "                    cards[cardx] = card\n",
        "                if check(card, [rdx, cdx]):\n",
        "                    print('WINNER!')\n",
        "                    print('Ball: {}'.format(ball))\n",
        "                    print('Card#: {}'.format(cardx))\n",
        "                    print('CARD: {}'.format(card))\n",
        "                    break\n",
        "            else:\n",
        "                continue\n",
        "            break\n",
        "        else:\n",
        "            continue\n",
        "        break\n",
        "    else:\n",
        "        continue\n",
        "    break\n",
        "\n"
      ],
      "execution_count": 344,
      "outputs": [
        {
          "output_type": "stream",
          "name": "stdout",
          "text": [
            "VALUE: 7\n",
            "VALUE: 7\n",
            "VALUE: 7\n",
            "VALUE: 4.0\n",
            "VALUE: 4.0\n",
            "VALUE: 4.0\n",
            "VALUE: 9.0\n",
            "VALUE: 9.0\n",
            "VALUE: 9.0\n",
            "VALUE: 5.0\n",
            "VALUE: 5.0\n",
            "VALUE: 5.0\n",
            "VALUE: 11.0\n",
            "VALUE: 11.0\n",
            "VALUE: 11.0\n",
            "VALUE: 17.0\n",
            "VALUE: 17.0\n",
            "VALUE: 17.0\n",
            "VALUE: 23.0\n",
            "VALUE: 23.0\n",
            "VALUE: 23.0\n",
            "VALUE: 2.0\n",
            "VALUE: 2.0\n",
            "VALUE: 2.0\n",
            "VALUE: 0.0\n",
            "VALUE: 0.0\n",
            "VALUE: 0.0\n",
            "VALUE: 14.0\n",
            "VALUE: 14.0\n",
            "VALUE: 14.0\n",
            "VALUE: 21.0\n",
            "VALUE: 21.0\n",
            "VALUE: 21.0\n",
            "VALUE: 24.0\n",
            "VALUE: 24.0\n",
            "VALUE: 24.0\n",
            "WINNER!\n",
            "Ball: 24\n",
            "Card#: 2\n",
            "CARD: [[nan nan nan nan nan]\n",
            " [10. 16. 15. nan 19.]\n",
            " [18.  8. nan 26. 20.]\n",
            " [22. nan 13.  6. nan]\n",
            " [nan nan 12.  3. nan]]\n"
          ]
        }
      ]
    },
    {
      "cell_type": "code",
      "metadata": {
        "colab": {
          "base_uri": "https://localhost:8080/"
        },
        "id": "rQp7ygPm2C0n",
        "outputId": "d4fa1a0b-108a-497d-c818-9ee4bc2ef08e"
      },
      "source": [
        "np.nansum(cards[38]) * 75"
      ],
      "execution_count": 288,
      "outputs": [
        {
          "output_type": "execute_result",
          "data": {
            "text/plain": [
              "65325.0"
            ]
          },
          "metadata": {},
          "execution_count": 288
        }
      ]
    },
    {
      "cell_type": "markdown",
      "metadata": {
        "id": "TQoBPouf32Gf"
      },
      "source": [
        "# PART TWO"
      ]
    },
    {
      "cell_type": "code",
      "metadata": {
        "colab": {
          "base_uri": "https://localhost:8080/"
        },
        "id": "Z-p_kJPH3_5v",
        "outputId": "1d77a8ea-9a7c-437f-998b-3bcf9134a2dd"
      },
      "source": [
        "for c in cards:\n",
        "    print(c)"
      ],
      "execution_count": 331,
      "outputs": [
        {
          "output_type": "stream",
          "name": "stdout",
          "text": [
            "[[22 13 17 11  0]\n",
            " [ 8  2 23  4 24]\n",
            " [21  9 14 16  7]\n",
            " [ 6 10  3 18  5]\n",
            " [ 1 12 20 15 19]]\n",
            "[[ 3 15  0  2 22]\n",
            " [ 9 18 13 17  5]\n",
            " [19  8  7 25 23]\n",
            " [20 11 10 24  4]\n",
            " [14 21 16 12  6]]\n",
            "[[14 21 17 24  4]\n",
            " [10 16 15  9 19]\n",
            " [18  8 23 26 20]\n",
            " [22 11 13  6  5]\n",
            " [ 2  0 12  3  7]]\n"
          ]
        }
      ]
    },
    {
      "cell_type": "code",
      "metadata": {
        "colab": {
          "base_uri": "https://localhost:8080/"
        },
        "id": "xgwRVBtB4Mzg",
        "outputId": "02afcd13-9a95-4abe-9a27-1eece790c70e"
      },
      "source": [
        "a = [11,22,33,44]\n",
        "a.pop(1)\n",
        "a"
      ],
      "execution_count": 297,
      "outputs": [
        {
          "output_type": "execute_result",
          "data": {
            "text/plain": [
              "[11, 33, 44]"
            ]
          },
          "metadata": {},
          "execution_count": 297
        }
      ]
    },
    {
      "cell_type": "code",
      "metadata": {
        "id": "bPaQRaEi3QK_"
      },
      "source": [
        "def runit():\n",
        "    for ball in bingo:\n",
        "        for cardx, card in enumerate(cards):\n",
        "            for rdx, row in enumerate(card):\n",
        "                for cdx, value in enumerate(row):\n",
        "                    if value == ball:\n",
        "                        #print('VALUE: {}'.format(value)) \n",
        "                        card = punch(card,[rdx,cdx])\n",
        "                        cards[cardx] = card\n",
        "                    if check(card, [rdx, cdx]):\n",
        "                        #print('WINNER!')\n",
        "                        #print('Ball: {}'.format(ball))\n",
        "                        #print('Card#: {}'.format(cardx))\n",
        "                        #print('CARD: {}'.format(card))\n",
        "                        return[ball, cardx]\n"
      ],
      "execution_count": 310,
      "outputs": []
    },
    {
      "cell_type": "code",
      "metadata": {
        "colab": {
          "base_uri": "https://localhost:8080/"
        },
        "id": "CMmCvJ4n7EtH",
        "outputId": "0ee7dc7d-21e4-4bdc-a8a8-785590949b34"
      },
      "source": [
        "print('Answer to part one: {}'.format(np.nansum(cards[b])*a))"
      ],
      "execution_count": 319,
      "outputs": [
        {
          "output_type": "stream",
          "name": "stdout",
          "text": [
            "Answer to part one: 4512.0\n"
          ]
        }
      ]
    },
    {
      "cell_type": "code",
      "metadata": {
        "colab": {
          "base_uri": "https://localhost:8080/"
        },
        "id": "apoAiAgf7LtP",
        "outputId": "b23202ff-9797-484d-d1cb-721fe15d129d"
      },
      "source": [
        "winnerCards = []\n",
        "allcards = [i for i in range(len(cards))]\n",
        "while True:\n",
        "    if len(cards) == 1:\n",
        "        break\n",
        "    else:\n",
        "        [a,b] = runit()\n",
        "        #print('winner card: {}'.format(b))\n",
        "        winnerCards.append(b)\n",
        "        cards.pop(b)\n",
        "# One last round to win\n",
        "[a,b] = runit()\n",
        "print('Answer to part two: {}'.format(np.nansum(cards[0]*a)))"
      ],
      "execution_count": 351,
      "outputs": [
        {
          "output_type": "stream",
          "name": "stdout",
          "text": [
            "Answer to part two: 4624.0\n"
          ]
        }
      ]
    },
    {
      "cell_type": "code",
      "metadata": {
        "colab": {
          "base_uri": "https://localhost:8080/"
        },
        "id": "qOvQYG9w7b4P",
        "outputId": "18586f6e-2d81-45b8-c524-16f92455a857"
      },
      "source": [
        "allcards"
      ],
      "execution_count": 341,
      "outputs": [
        {
          "output_type": "execute_result",
          "data": {
            "text/plain": [
              "[0, 1, 2]"
            ]
          },
          "metadata": {},
          "execution_count": 341
        }
      ]
    },
    {
      "cell_type": "code",
      "metadata": {
        "colab": {
          "base_uri": "https://localhost:8080/"
        },
        "id": "0YinbC0e7dp3",
        "outputId": "9aa21249-f622-45f8-9129-96890001424d"
      },
      "source": [
        "winnerCards"
      ],
      "execution_count": 327,
      "outputs": [
        {
          "output_type": "execute_result",
          "data": {
            "text/plain": [
              "[2, 0]"
            ]
          },
          "metadata": {},
          "execution_count": 327
        }
      ]
    },
    {
      "cell_type": "code",
      "metadata": {
        "id": "bSsrNiB-7qGp"
      },
      "source": [
        ""
      ],
      "execution_count": null,
      "outputs": []
    }
  ]
}
