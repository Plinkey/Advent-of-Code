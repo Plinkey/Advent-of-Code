{
  "nbformat": 4,
  "nbformat_minor": 0,
  "metadata": {
    "colab": {
      "name": "Day22",
      "provenance": [],
      "collapsed_sections": [],
      "authorship_tag": "ABX9TyPenu472gMOopPs1HPZlDRG",
      "include_colab_link": true
    },
    "kernelspec": {
      "name": "python3",
      "display_name": "Python 3"
    },
    "language_info": {
      "name": "python"
    }
  },
  "cells": [
    {
      "cell_type": "markdown",
      "metadata": {
        "id": "view-in-github",
        "colab_type": "text"
      },
      "source": [
        "<a href=\"https://colab.research.google.com/github/Plinkey/AoC2021/blob/main/Day22/Day22.ipynb\" target=\"_parent\"><img src=\"https://colab.research.google.com/assets/colab-badge.svg\" alt=\"Open In Colab\"/></a>"
      ]
    },
    {
      "cell_type": "code",
      "execution_count": 1,
      "metadata": {
        "colab": {
          "base_uri": "https://localhost:8080/"
        },
        "id": "RCPwKECgdc2U",
        "outputId": "8f691d3a-28bf-4cf2-d4c3-5f5678f59aae"
      },
      "outputs": [
        {
          "output_type": "execute_result",
          "data": {
            "text/plain": [
              "['on x=10..12,y=10..12,z=10..12',\n",
              " 'on x=11..13,y=11..13,z=11..13',\n",
              " 'off x=9..11,y=9..11,z=9..11',\n",
              " 'on x=10..10,y=10..10,z=10..10']"
            ]
          },
          "metadata": {},
          "execution_count": 1
        }
      ],
      "source": [
        "with open('Day22.smallexample','r') as f:\n",
        "    rawdata = f.read().splitlines()\n",
        "rawdata"
      ]
    },
    {
      "cell_type": "code",
      "source": [
        "data = []\n",
        "for line in rawdata:\n",
        "    [cmd, dims] = line.split(' ')\n",
        "    [xstr, ystr, zstr] = dims.split(',')\n",
        "    [xmin, xmax] = [int(i) for i in xstr.split('=')[1].split('..')]\n",
        "    [ymin, ymax] = [int(i) for i in ystr.split('=')[1].split('..')]\n",
        "    [zmin, zmax] = [int(i) for i in zstr.split('=')[1].split('..')]\n",
        "    print([cmd, xmin, xmax, ymin, ymax, zmin, zmax])\n",
        "\n",
        "    data.append([cmd, xmin, xmax, ymin, ymax, zmin, zmax])"
      ],
      "metadata": {
        "colab": {
          "base_uri": "https://localhost:8080/"
        },
        "id": "zIqZk76Td9hp",
        "outputId": "7e173f81-4297-4875-9f89-0c143264f1f1"
      },
      "execution_count": 2,
      "outputs": [
        {
          "output_type": "stream",
          "name": "stdout",
          "text": [
            "['on', 10, 12, 10, 12, 10, 12]\n",
            "['on', 11, 13, 11, 13, 11, 13]\n",
            "['off', 9, 11, 9, 11, 9, 11]\n",
            "['on', 10, 10, 10, 10, 10, 10]\n"
          ]
        }
      ]
    },
    {
      "cell_type": "markdown",
      "source": [
        "# Create -50...50 field"
      ],
      "metadata": {
        "id": "b0j2jaFgfS6L"
      }
    },
    {
      "cell_type": "code",
      "source": [
        "field = {}\n",
        "for xx in range(-50,50+1):\n",
        "    for yy in range(-50,50+1):\n",
        "        for zz in range(-50,50+1):\n",
        "            field[xx,yy,zz] = 'off'"
      ],
      "metadata": {
        "id": "32GNq-2pfUip"
      },
      "execution_count": 3,
      "outputs": []
    },
    {
      "cell_type": "code",
      "source": [
        "def reset():\n",
        "    global field\n",
        "    field = {}\n",
        "    for xx in range(-50,50+1):\n",
        "        for yy in range(-50,50+1):\n",
        "            for zz in range(-50,50+1):\n",
        "                field[xx,yy,zz] = 'off'"
      ],
      "metadata": {
        "id": "T3puD5XGmfvG"
      },
      "execution_count": 4,
      "outputs": []
    },
    {
      "cell_type": "markdown",
      "source": [
        "# Execute each line in data"
      ],
      "metadata": {
        "id": "41Gwkbomf7Kl"
      }
    },
    {
      "cell_type": "code",
      "source": [
        "def execute(line):\n",
        "    [cmd, xmin, xmax, ymin, ymax, zmin, zmax] = line\n",
        "    for xx in range(xmin, xmax+1):\n",
        "        if abs(xx) > 50:\n",
        "            continue\n",
        "        for yy in range(ymin, ymax+1):\n",
        "            if abs(yy) > 50:\n",
        "                continue\n",
        "            for zz in range(zmin, zmax+1):\n",
        "                if abs(zz) > 50:\n",
        "                    continue\n",
        "                field[xx,yy,zz] = cmd"
      ],
      "metadata": {
        "id": "M5bnXJbYf_Tn"
      },
      "execution_count": 5,
      "outputs": []
    },
    {
      "cell_type": "markdown",
      "source": [
        "# Count 'on'"
      ],
      "metadata": {
        "id": "R3PlO4L3hABB"
      }
    },
    {
      "cell_type": "code",
      "source": [
        "def count(field):\n",
        "    count = 0\n",
        "    for i in field.values():\n",
        "        if i == 'on':\n",
        "            count += 1\n",
        "    return count"
      ],
      "metadata": {
        "id": "N_8SNsKygXiu"
      },
      "execution_count": 6,
      "outputs": []
    },
    {
      "cell_type": "markdown",
      "source": [
        "# Filter Input\n",
        "Remove lines that are outside the -50 to 50 region"
      ],
      "metadata": {
        "id": "cohvt3AGlHKo"
      }
    },
    {
      "cell_type": "code",
      "source": [
        "def filter(line):\n",
        "    [cmd, xmin, xmax, ymin, ymax, zmin, zmax] = line\n",
        "    if xmin > 50:\n",
        "        return False\n",
        "    elif xmax < -50:\n",
        "        return False\n",
        "    elif ymin > 50:\n",
        "        return False\n",
        "    elif ymax < -50:\n",
        "        return False\n",
        "    elif zmin > 50:\n",
        "        return False\n",
        "    elif zmax < -50:\n",
        "        return False\n",
        "    else:\n",
        "        return True\n",
        "    "
      ],
      "metadata": {
        "id": "TeKyL_nZlQsx"
      },
      "execution_count": 7,
      "outputs": []
    },
    {
      "cell_type": "markdown",
      "source": [
        "# Small Example"
      ],
      "metadata": {
        "id": "vavHKISTh1_P"
      }
    },
    {
      "cell_type": "code",
      "source": [
        "for l in data:\n",
        "    execute(l)"
      ],
      "metadata": {
        "id": "l5-Vlw98gQtl"
      },
      "execution_count": 8,
      "outputs": []
    },
    {
      "cell_type": "code",
      "source": [
        "print('Answer to Small Example: {}'.format(count(field)))"
      ],
      "metadata": {
        "colab": {
          "base_uri": "https://localhost:8080/"
        },
        "id": "Yy2vAML8gixE",
        "outputId": "6879dfed-2a83-48d3-b070-452f686d5bfd"
      },
      "execution_count": 9,
      "outputs": [
        {
          "output_type": "stream",
          "name": "stdout",
          "text": [
            "Answer to Small Example: 39\n"
          ]
        }
      ]
    },
    {
      "cell_type": "markdown",
      "source": [
        "# Large Example"
      ],
      "metadata": {
        "id": "RImsP0SLhck5"
      }
    },
    {
      "cell_type": "code",
      "source": [
        "with open('Day22.largeexample','r') as f:\n",
        "    rawdata = f.read().splitlines()\n",
        "data = []\n",
        "for line in rawdata:\n",
        "    [cmd, dims] = line.split(' ')\n",
        "    [xstr, ystr, zstr] = dims.split(',')\n",
        "    [xmin, xmax] = [int(i) for i in xstr.split('=')[1].split('..')]\n",
        "    [ymin, ymax] = [int(i) for i in ystr.split('=')[1].split('..')]\n",
        "    [zmin, zmax] = [int(i) for i in zstr.split('=')[1].split('..')]\n",
        "    #print([cmd, xmin, xmax, ymin, ymax, zmin, zmax])\n",
        "\n",
        "    data.append([cmd, xmin, xmax, ymin, ymax, zmin, zmax])"
      ],
      "metadata": {
        "id": "BR0L8s9chdho"
      },
      "execution_count": 10,
      "outputs": []
    },
    {
      "cell_type": "code",
      "source": [
        "reset()\n",
        "for l in data:\n",
        "    if filter(l):\n",
        "        execute(l)\n",
        "print('Answer to Large Example: {}'.format(count(field)))"
      ],
      "metadata": {
        "colab": {
          "base_uri": "https://localhost:8080/"
        },
        "id": "kewEmINehhKb",
        "outputId": "0cac79d1-1975-4c93-d276-2300f53cd21b"
      },
      "execution_count": 11,
      "outputs": [
        {
          "output_type": "stream",
          "name": "stdout",
          "text": [
            "Answer to Large Example: 590784\n"
          ]
        }
      ]
    },
    {
      "cell_type": "markdown",
      "source": [
        "# Real Puzzle Input\n",
        "This takes FOREVER\n",
        "The answer is NOT :710573\n"
      ],
      "metadata": {
        "id": "I6GO6ZAFiAOw"
      }
    },
    {
      "cell_type": "code",
      "source": [
        "with open('Day22.input','r') as f:\n",
        "    rawdata = f.read().splitlines()\n",
        "data = []\n",
        "for line in rawdata:\n",
        "    [cmd, dims] = line.split(' ')\n",
        "    [xstr, ystr, zstr] = dims.split(',')\n",
        "    [xmin, xmax] = [int(i) for i in xstr.split('=')[1].split('..')]\n",
        "    [ymin, ymax] = [int(i) for i in ystr.split('=')[1].split('..')]\n",
        "    [zmin, zmax] = [int(i) for i in zstr.split('=')[1].split('..')]\n",
        "    #print([cmd, xmin, xmax, ymin, ymax, zmin, zmax])\n",
        "\n",
        "    data.append([cmd, xmin, xmax, ymin, ymax, zmin, zmax])"
      ],
      "metadata": {
        "id": "Wc8Av7DKiBiR"
      },
      "execution_count": 12,
      "outputs": []
    },
    {
      "cell_type": "code",
      "source": [
        "reset()\n",
        "nLine = 0\n",
        "for l in data:\n",
        "    nLine += 1\n",
        "    if nLine%10==0:\n",
        "        print('Executing line :{}'.format(nLine))\n",
        "    if filter(l):\n",
        "        execute(l)\n",
        "print('Answer to Part One: {}'.format(count(field)))"
      ],
      "metadata": {
        "colab": {
          "base_uri": "https://localhost:8080/"
        },
        "id": "wLg9iJuiiKAh",
        "outputId": "2e621b6d-b7b5-412a-9e1b-df542b89a7c5"
      },
      "execution_count": 13,
      "outputs": [
        {
          "output_type": "stream",
          "name": "stdout",
          "text": [
            "Executing line :10\n",
            "Executing line :20\n",
            "Executing line :30\n",
            "Executing line :40\n",
            "Executing line :50\n",
            "Executing line :60\n",
            "Executing line :70\n",
            "Executing line :80\n",
            "Executing line :90\n",
            "Executing line :100\n",
            "Executing line :110\n",
            "Executing line :120\n",
            "Executing line :130\n",
            "Executing line :140\n",
            "Executing line :150\n",
            "Executing line :160\n",
            "Executing line :170\n",
            "Executing line :180\n",
            "Executing line :190\n",
            "Executing line :200\n",
            "Executing line :210\n",
            "Executing line :220\n",
            "Executing line :230\n",
            "Executing line :240\n",
            "Executing line :250\n",
            "Executing line :260\n",
            "Executing line :270\n",
            "Executing line :280\n",
            "Executing line :290\n",
            "Executing line :300\n",
            "Executing line :310\n",
            "Executing line :320\n",
            "Executing line :330\n",
            "Executing line :340\n",
            "Executing line :350\n",
            "Executing line :360\n",
            "Executing line :370\n",
            "Executing line :380\n",
            "Executing line :390\n",
            "Executing line :400\n",
            "Executing line :410\n",
            "Executing line :420\n",
            "Answer to Part One: 582644\n"
          ]
        }
      ]
    },
    {
      "cell_type": "code",
      "source": [
        ""
      ],
      "metadata": {
        "id": "6ediilDZm8NB"
      },
      "execution_count": null,
      "outputs": []
    }
  ]
}