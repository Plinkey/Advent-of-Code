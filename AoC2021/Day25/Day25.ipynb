{
  "nbformat": 4,
  "nbformat_minor": 0,
  "metadata": {
    "colab": {
      "name": "Day25.ipynb",
      "provenance": [],
      "collapsed_sections": []
    },
    "kernelspec": {
      "name": "python3",
      "display_name": "Python 3"
    },
    "language_info": {
      "name": "python"
    }
  },
  "cells": [
    {
      "cell_type": "markdown",
      "source": [
        "# Input and process\n"
      ],
      "metadata": {
        "id": "L9evPX-Z_G77"
      }
    },
    {
      "cell_type": "code",
      "source": [
        "import copy"
      ],
      "metadata": {
        "id": "FceGDP07F-f2"
      },
      "execution_count": 1,
      "outputs": []
    },
    {
      "cell_type": "code",
      "execution_count": 2,
      "metadata": {
        "id": "JxbWWPqv-yuL"
      },
      "outputs": [],
      "source": [
        "with open('Day25.input','r') as f:\n",
        "#with open('Day25.example','r') as f:\n",
        "    rawdata = f.read().splitlines()\n",
        "\n",
        "field = []\n",
        "for line in rawdata:\n",
        "    tmp = [char for char in line]\n",
        "    field.append(tmp)\n",
        "\n",
        "fieldH = len(field[0])\n",
        "fieldV = len(field)"
      ]
    },
    {
      "cell_type": "markdown",
      "source": [
        "# HELPER FUNCTIONS"
      ],
      "metadata": {
        "id": "DzL85poS_3TD"
      }
    },
    {
      "cell_type": "code",
      "source": [
        "def reset():\n",
        "    field = []\n",
        "    for line in rawdata:\n",
        "        tmp = [char for char in line]\n",
        "        field.append(tmp)\n",
        "    return field"
      ],
      "metadata": {
        "id": "9EYcIsh5AOP9"
      },
      "execution_count": 3,
      "outputs": []
    },
    {
      "cell_type": "code",
      "source": [
        "def move_east(v,h,f):\n",
        "    dest = h + 1\n",
        "    if h == fieldH-1: #Last column, moves to first\n",
        "        dest = 0\n",
        "    f[v][h] = '.'\n",
        "    f[v][dest] = '>'\n",
        "    return f"
      ],
      "metadata": {
        "id": "DKx5WmQ4_4ff"
      },
      "execution_count": 4,
      "outputs": []
    },
    {
      "cell_type": "code",
      "source": [
        "def move_south(v,h,f):\n",
        "    dest = v + 1\n",
        "    if v == fieldV-1: #Last row, moves to first\n",
        "        dest = 0\n",
        "    f[v][h] = '.'\n",
        "    f[dest][h] = 'v'\n",
        "    return f"
      ],
      "metadata": {
        "id": "5k4AdSthBFp-"
      },
      "execution_count": 5,
      "outputs": []
    },
    {
      "cell_type": "code",
      "source": [
        "def check_no_neighbor(v,h):\n",
        "    if field[v][h] == '>':\n",
        "        dest = h+1\n",
        "        if h == fieldH-1: #Last column moves to first\n",
        "            dest = 0\n",
        "        if field[v][dest] == '.':\n",
        "            return True\n",
        "        else:\n",
        "            return False\n",
        "    elif field[v][h] == 'v':\n",
        "        dest = v+1\n",
        "        if v == fieldV - 1: # Last row, moves to first\n",
        "            dest = 0\n",
        "        if field[dest][h] == '.':\n",
        "            return True\n",
        "        else:\n",
        "            return False"
      ],
      "metadata": {
        "id": "8EqEhCHABYSd"
      },
      "execution_count": 6,
      "outputs": []
    },
    {
      "cell_type": "code",
      "source": [
        "def print_field():\n",
        "    for line in field:\n",
        "        print(''.join(line))"
      ],
      "metadata": {
        "id": "JOO2TmFsIjQ9"
      },
      "execution_count": 7,
      "outputs": []
    },
    {
      "cell_type": "code",
      "source": [
        "def next_step_easts():\n",
        "    no_move_flag = True\n",
        "    new = copy.deepcopy(field)\n",
        "    for vdx in range(fieldV):\n",
        "        for hdx in range(fieldH):\n",
        "            if check_no_neighbor(vdx, hdx):\n",
        "                if field[vdx][hdx] == '>':\n",
        "                    move_east(vdx, hdx, new)\n",
        "                    no_move_flag = False\n",
        "    return new, no_move_flag"
      ],
      "metadata": {
        "id": "pqSnMImKC612"
      },
      "execution_count": 8,
      "outputs": []
    },
    {
      "cell_type": "code",
      "source": [
        "def next_step_souths():\n",
        "    no_move_flag = True\n",
        "    new = copy.deepcopy(field)\n",
        "    for vdx in range(fieldV):\n",
        "        for hdx in range(fieldH):\n",
        "            if check_no_neighbor(vdx, hdx):\n",
        "                if field[vdx][hdx] == 'v':\n",
        "                    move_south(vdx, hdx, new)\n",
        "                    no_move_flag = False\n",
        "    return new, no_move_flag"
      ],
      "metadata": {
        "id": "zlR_IC24EVpj"
      },
      "execution_count": 9,
      "outputs": []
    },
    {
      "cell_type": "markdown",
      "source": [
        "# Testing, run only a certain number of steps"
      ],
      "metadata": {
        "id": "8jq76eSxIaRl"
      }
    },
    {
      "cell_type": "code",
      "source": [
        "nSteps = 50\n",
        "field = reset()\n",
        "for _ in range(nSteps):\n",
        "    field, flag = next_step_easts()\n",
        "    field, flag = next_step_souths()\n",
        "\n",
        "#print_field()\n"
      ],
      "metadata": {
        "id": "s4eBWF3sG462"
      },
      "execution_count": 10,
      "outputs": []
    },
    {
      "cell_type": "markdown",
      "source": [
        "# Run Part One"
      ],
      "metadata": {
        "id": "9PAqxTChKE31"
      }
    },
    {
      "cell_type": "code",
      "source": [
        "field = reset()\n",
        "nRounds = 0\n",
        "while True:\n",
        "    nRounds += 1\n",
        "    field, east_flag = next_step_easts()\n",
        "    field, south_flag = next_step_souths()\n",
        "    if east_flag and south_flag:\n",
        "        break\n",
        "\n",
        "print('Answer to part one is: {}'.format(nRounds))"
      ],
      "metadata": {
        "colab": {
          "base_uri": "https://localhost:8080/"
        },
        "id": "EIkHegsyKAHq",
        "outputId": "e76dbbc5-d1b0-4ede-f651-de4a2419afc1"
      },
      "execution_count": 11,
      "outputs": [
        {
          "output_type": "stream",
          "name": "stdout",
          "text": [
            "Answer to part one is: 489\n"
          ]
        }
      ]
    },
    {
      "cell_type": "code",
      "source": [
        ""
      ],
      "metadata": {
        "id": "j2MD1RogK_Uk"
      },
      "execution_count": 11,
      "outputs": []
    }
  ]
}